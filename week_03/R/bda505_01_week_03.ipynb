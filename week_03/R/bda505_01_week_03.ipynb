{
 "cells": [
  {
   "cell_type": "markdown",
   "metadata": {},
   "source": [
    "*** ACCESS TO AND MANIPULATE A POSTGRESQL DATABASE FROM R ***"
   ]
  },
  {
   "cell_type": "markdown",
   "metadata": {},
   "source": [
    "# 1. Using RPostgreSQL package"
   ]
  },
  {
   "cell_type": "markdown",
   "metadata": {},
   "source": [
    "First load necessary package"
   ]
  },
  {
   "cell_type": "code",
   "execution_count": 1,
   "metadata": {},
   "outputs": [
    {
     "name": "stderr",
     "output_type": "stream",
     "text": [
      "Loading required package: DBI\n"
     ]
    }
   ],
   "source": [
    "library(RPostgreSQL)"
   ]
  },
  {
   "cell_type": "markdown",
   "metadata": {},
   "source": [
    "Load PostgreSQL driver"
   ]
  },
  {
   "cell_type": "code",
   "execution_count": 3,
   "metadata": {},
   "outputs": [
    {
     "data": {
      "text/plain": [
       "<PostgreSQLDriver>"
      ]
     },
     "metadata": {},
     "output_type": "display_data"
    }
   ],
   "source": [
    "drvv <- dbDriver(\"PostgreSQL\")\n",
    "drvv"
   ]
  },
  {
   "cell_type": "markdown",
   "metadata": {},
   "source": [
    "Create a connection to a database using the driver"
   ]
  },
  {
   "cell_type": "code",
   "execution_count": 4,
   "metadata": {},
   "outputs": [
    {
     "data": {
      "text/plain": [
       "<PostgreSQLConnection>"
      ]
     },
     "metadata": {},
     "output_type": "display_data"
    }
   ],
   "source": [
    "con <- dbConnect(drvv,\n",
    "                 dbname = \"imdb\",\n",
    "                 host = \"localhost\",\n",
    "                 port = 5432,\n",
    "                 user = \"postgres\",\n",
    "                 password = \"bda505\")\n",
    "\n",
    "con"
   ]
  },
  {
   "cell_type": "markdown",
   "metadata": {},
   "source": [
    "Get list of table names"
   ]
  },
  {
   "cell_type": "code",
   "execution_count": 6,
   "metadata": {},
   "outputs": [
    {
     "data": {
      "text/html": [
       "<table>\n",
       "<thead><tr><th scope=col>table_name</th></tr></thead>\n",
       "<tbody>\n",
       "\t<tr><td>name_basics          </td></tr>\n",
       "\t<tr><td>title_basics         </td></tr>\n",
       "\t<tr><td>title_crew           </td></tr>\n",
       "\t<tr><td>title_episode        </td></tr>\n",
       "\t<tr><td>title_principals_melt</td></tr>\n",
       "\t<tr><td>title_ratings        </td></tr>\n",
       "</tbody>\n",
       "</table>\n"
      ],
      "text/latex": [
       "\\begin{tabular}{r|l}\n",
       " table\\_name\\\\\n",
       "\\hline\n",
       "\t name\\_basics          \\\\\n",
       "\t title\\_basics         \\\\\n",
       "\t title\\_crew           \\\\\n",
       "\t title\\_episode        \\\\\n",
       "\t title\\_principals\\_melt\\\\\n",
       "\t title\\_ratings        \\\\\n",
       "\\end{tabular}\n"
      ],
      "text/markdown": [
       "\n",
       "table_name | \n",
       "|---|---|---|---|---|---|\n",
       "| name_basics           | \n",
       "| title_basics          | \n",
       "| title_crew            | \n",
       "| title_episode         | \n",
       "| title_principals_melt | \n",
       "| title_ratings         | \n",
       "\n",
       "\n"
      ],
      "text/plain": [
       "  table_name           \n",
       "1 name_basics          \n",
       "2 title_basics         \n",
       "3 title_crew           \n",
       "4 title_episode        \n",
       "5 title_principals_melt\n",
       "6 title_ratings        "
      ]
     },
     "metadata": {},
     "output_type": "display_data"
    },
    {
     "data": {
      "text/html": [
       "'data.frame'"
      ],
      "text/latex": [
       "'data.frame'"
      ],
      "text/markdown": [
       "'data.frame'"
      ],
      "text/plain": [
       "[1] \"data.frame\""
      ]
     },
     "metadata": {},
     "output_type": "display_data"
    }
   ],
   "source": [
    "table_names <- dbGetQuery(con,\n",
    "                          \"SELECT table_name\n",
    "                          FROM information_schema.tables \n",
    "                          WHERE table_type = 'BASE TABLE'\n",
    "                          AND table_schema = 'public'\n",
    "                          ORDER BY table_name\n",
    "                          \"\n",
    "                          )\n",
    "\n",
    "table_names\n",
    "\n",
    "class(table_names)"
   ]
  },
  {
   "cell_type": "markdown",
   "metadata": {},
   "source": [
    "Or more easily with:"
   ]
  },
  {
   "cell_type": "code",
   "execution_count": 38,
   "metadata": {},
   "outputs": [
    {
     "data": {
      "text/html": [
       "<ol class=list-inline>\n",
       "\t<li>'title_basics'</li>\n",
       "\t<li>'title_crew'</li>\n",
       "\t<li>'title_principals_melt'</li>\n",
       "\t<li>'title_ratings'</li>\n",
       "\t<li>'name_basics'</li>\n",
       "\t<li>'title_episode'</li>\n",
       "</ol>\n"
      ],
      "text/latex": [
       "\\begin{enumerate*}\n",
       "\\item 'title\\_basics'\n",
       "\\item 'title\\_crew'\n",
       "\\item 'title\\_principals\\_melt'\n",
       "\\item 'title\\_ratings'\n",
       "\\item 'name\\_basics'\n",
       "\\item 'title\\_episode'\n",
       "\\end{enumerate*}\n"
      ],
      "text/markdown": [
       "1. 'title_basics'\n",
       "2. 'title_crew'\n",
       "3. 'title_principals_melt'\n",
       "4. 'title_ratings'\n",
       "5. 'name_basics'\n",
       "6. 'title_episode'\n",
       "\n",
       "\n"
      ],
      "text/plain": [
       "[1] \"title_basics\"          \"title_crew\"            \"title_principals_melt\"\n",
       "[4] \"title_ratings\"         \"name_basics\"           \"title_episode\"        "
      ]
     },
     "metadata": {},
     "output_type": "display_data"
    }
   ],
   "source": [
    "dbListTables(con)"
   ]
  },
  {
   "cell_type": "markdown",
   "metadata": {},
   "source": [
    "Good! The query returns a data frame\n",
    "\n",
    "Now we can loop through tables to automatize queries"
   ]
  },
  {
   "cell_type": "markdown",
   "metadata": {},
   "source": [
    "Lets first get row counts of all tables, one by one"
   ]
  },
  {
   "cell_type": "code",
   "execution_count": 24,
   "metadata": {},
   "outputs": [
    {
     "data": {
      "text/html": [
       "<dl class=dl-horizontal>\n",
       "\t<dt>name_basics</dt>\n",
       "\t\t<dd>8155447</dd>\n",
       "\t<dt>title_basics</dt>\n",
       "\t\t<dd>4534354</dd>\n",
       "\t<dt>title_crew</dt>\n",
       "\t\t<dd>4534354</dd>\n",
       "\t<dt>title_episode</dt>\n",
       "\t\t<dd>2986925</dd>\n",
       "\t<dt>title_principals_melt</dt>\n",
       "\t\t<dd>25358895</dd>\n",
       "\t<dt>title_ratings</dt>\n",
       "\t\t<dd>767041</dd>\n",
       "</dl>\n"
      ],
      "text/latex": [
       "\\begin{description*}\n",
       "\\item[name\\textbackslash{}\\_basics] 8155447\n",
       "\\item[title\\textbackslash{}\\_basics] 4534354\n",
       "\\item[title\\textbackslash{}\\_crew] 4534354\n",
       "\\item[title\\textbackslash{}\\_episode] 2986925\n",
       "\\item[title\\textbackslash{}\\_principals\\textbackslash{}\\_melt] 25358895\n",
       "\\item[title\\textbackslash{}\\_ratings] 767041\n",
       "\\end{description*}\n"
      ],
      "text/markdown": [
       "name_basics\n",
       ":   8155447title_basics\n",
       ":   4534354title_crew\n",
       ":   4534354title_episode\n",
       ":   2986925title_principals_melt\n",
       ":   25358895title_ratings\n",
       ":   767041\n",
       "\n"
      ],
      "text/plain": [
       "          name_basics          title_basics            title_crew \n",
       "              8155447               4534354               4534354 \n",
       "        title_episode title_principals_melt         title_ratings \n",
       "              2986925              25358895                767041 "
      ]
     },
     "metadata": {},
     "output_type": "display_data"
    }
   ],
   "source": [
    "# table_names is a data frame\n",
    "# it is easier to work with and iterate through vectors\n",
    "# so first extract the vector from the table_names\n",
    "table_names_vec <- table_names[[1]]\n",
    "\n",
    "# create a query template that we can change the parameters of\n",
    "# each \"%s\" stands for a variable that we will manipulate with sprintf\n",
    "query_text <- \"SELECT count (*) FROM %s\"\n",
    "\n",
    "# create an empty vector, the length of the table names\n",
    "# we will populate this vector with the row counts from tables\n",
    "row_counts <- rep(NA, length(table_names_vec))\n",
    "\n",
    "# update the names of the vector with table names\n",
    "names(row_counts) <- table_names_vec\n",
    "\n",
    "# for across table names indices (not the names themselves)\n",
    "for (tbl_ind in seq_along(table_names_vec))\n",
    "{\n",
    "    # replace the %s pointer in query text with table name\n",
    "    current_query <- sprintf(query_text, table_names_vec[tbl_ind])\n",
    "    \n",
    "    # run the query and get results\n",
    "    table_name <- dbGetQuery(con, current_query)\n",
    "    \n",
    "    # assign the query result to vector\n",
    "    row_counts[tbl_ind] <- table_name[[1]]\n",
    "}\n",
    "                  \n",
    "return(row_counts)"
   ]
  },
  {
   "cell_type": "code",
   "execution_count": 22,
   "metadata": {},
   "outputs": [
    {
     "data": {
      "text/html": [
       "<dl class=dl-horizontal>\n",
       "\t<dt>name_basics</dt>\n",
       "\t\t<dd>8155447</dd>\n",
       "\t<dt>title_basics</dt>\n",
       "\t\t<dd>4534354</dd>\n",
       "\t<dt>title_crew</dt>\n",
       "\t\t<dd>4534354</dd>\n",
       "\t<dt>title_episode</dt>\n",
       "\t\t<dd>2986925</dd>\n",
       "\t<dt>title_principals_melt</dt>\n",
       "\t\t<dd>25358895</dd>\n",
       "\t<dt>title_ratings</dt>\n",
       "\t\t<dd>767041</dd>\n",
       "</dl>\n"
      ],
      "text/latex": [
       "\\begin{description*}\n",
       "\\item[name\\textbackslash{}\\_basics] 8155447\n",
       "\\item[title\\textbackslash{}\\_basics] 4534354\n",
       "\\item[title\\textbackslash{}\\_crew] 4534354\n",
       "\\item[title\\textbackslash{}\\_episode] 2986925\n",
       "\\item[title\\textbackslash{}\\_principals\\textbackslash{}\\_melt] 25358895\n",
       "\\item[title\\textbackslash{}\\_ratings] 767041\n",
       "\\end{description*}\n"
      ],
      "text/markdown": [
       "name_basics\n",
       ":   8155447title_basics\n",
       ":   4534354title_crew\n",
       ":   4534354title_episode\n",
       ":   2986925title_principals_melt\n",
       ":   25358895title_ratings\n",
       ":   767041\n",
       "\n"
      ],
      "text/plain": [
       "          name_basics          title_basics            title_crew \n",
       "              8155447               4534354               4534354 \n",
       "        title_episode title_principals_melt         title_ratings \n",
       "              2986925              25358895                767041 "
      ]
     },
     "metadata": {},
     "output_type": "display_data"
    }
   ],
   "source": [
    "row_counts"
   ]
  },
  {
   "cell_type": "code",
   "execution_count": 23,
   "metadata": {},
   "outputs": [
    {
     "data": {
      "text/html": [
       "'numeric'"
      ],
      "text/latex": [
       "'numeric'"
      ],
      "text/markdown": [
       "'numeric'"
      ],
      "text/plain": [
       "[1] \"numeric\""
      ]
     },
     "metadata": {},
     "output_type": "display_data"
    }
   ],
   "source": [
    "class(row_counts)"
   ]
  },
  {
   "cell_type": "markdown",
   "metadata": {},
   "source": [
    "Now close the database connection"
   ]
  },
  {
   "cell_type": "code",
   "execution_count": 26,
   "metadata": {},
   "outputs": [
    {
     "data": {
      "text/html": [
       "TRUE"
      ],
      "text/latex": [
       "TRUE"
      ],
      "text/markdown": [
       "TRUE"
      ],
      "text/plain": [
       "[1] TRUE"
      ]
     },
     "metadata": {},
     "output_type": "display_data"
    }
   ],
   "source": [
    "dbDisconnect(con)"
   ]
  },
  {
   "cell_type": "markdown",
   "metadata": {},
   "source": [
    "Now let's create a copy of the imdb database as imdb2 (so that imdb stays intact)"
   ]
  },
  {
   "cell_type": "markdown",
   "metadata": {},
   "source": [
    "Open another connection to postgres database, so that we can play with imdb better"
   ]
  },
  {
   "cell_type": "code",
   "execution_count": 27,
   "metadata": {},
   "outputs": [
    {
     "data": {
      "text/plain": [
       "<PostgreSQLConnection>"
      ]
     },
     "metadata": {},
     "output_type": "display_data"
    }
   ],
   "source": [
    "con <- dbConnect(drvv,\n",
    "                 dbname = \"postgres\",\n",
    "                 host = \"localhost\",\n",
    "                 port = 5432,\n",
    "                 user = \"postgres\",\n",
    "                 password = \"bda505\")\n",
    "\n",
    "con"
   ]
  },
  {
   "cell_type": "markdown",
   "metadata": {},
   "source": [
    "Kill all connections to imdb database (so that subsequent actions do not yield an error)"
   ]
  },
  {
   "cell_type": "code",
   "execution_count": 30,
   "metadata": {},
   "outputs": [
    {
     "data": {
      "text/html": [],
      "text/latex": [],
      "text/markdown": [],
      "text/plain": [
       "<0 x 0 matrix>"
      ]
     },
     "metadata": {},
     "output_type": "display_data"
    }
   ],
   "source": [
    "dbGetQuery(con,\n",
    "\"\n",
    "SELECT pg_terminate_backend(pg_stat_activity.pid) FROM pg_stat_activity \n",
    "WHERE pg_stat_activity.datname = 'imdb' AND pid <> pg_backend_pid();\n",
    "\"\n",
    "                          )"
   ]
  },
  {
   "cell_type": "markdown",
   "metadata": {},
   "source": [
    "Now create a copy of the imdb database as imdb2"
   ]
  },
  {
   "cell_type": "code",
   "execution_count": 32,
   "metadata": {},
   "outputs": [],
   "source": [
    "dbGetQuery(con,\n",
    "\"\n",
    "CREATE DATABASE imdb2\n",
    "WITH TEMPLATE imdb OWNER postgres\n",
    "TABLESPACE = pg;\n",
    "\"\n",
    "                          )"
   ]
  },
  {
   "cell_type": "markdown",
   "metadata": {},
   "source": [
    "Close the connection"
   ]
  },
  {
   "cell_type": "code",
   "execution_count": 36,
   "metadata": {},
   "outputs": [
    {
     "data": {
      "text/html": [
       "TRUE"
      ],
      "text/latex": [
       "TRUE"
      ],
      "text/markdown": [
       "TRUE"
      ],
      "text/plain": [
       "[1] TRUE"
      ]
     },
     "metadata": {},
     "output_type": "display_data"
    }
   ],
   "source": [
    "dbDisconnect(con)"
   ]
  },
  {
   "cell_type": "markdown",
   "metadata": {},
   "source": [
    "And open a new connection, this time to imdb2 database"
   ]
  },
  {
   "cell_type": "code",
   "execution_count": 37,
   "metadata": {},
   "outputs": [
    {
     "data": {
      "text/plain": [
       "<PostgreSQLConnection>"
      ]
     },
     "metadata": {},
     "output_type": "display_data"
    }
   ],
   "source": [
    "con <- dbConnect(drvv,\n",
    "                 dbname = \"imdb\",\n",
    "                 host = \"localhost\",\n",
    "                 port = 5432,\n",
    "                 user = \"postgres\",\n",
    "                 password = \"bda505\")\n",
    "\n",
    "con"
   ]
  },
  {
   "cell_type": "markdown",
   "metadata": {},
   "source": [
    "List tables:"
   ]
  },
  {
   "cell_type": "code",
   "execution_count": 40,
   "metadata": {},
   "outputs": [
    {
     "data": {
      "text/html": [
       "<ol class=list-inline>\n",
       "\t<li>'title_basics'</li>\n",
       "\t<li>'title_crew'</li>\n",
       "\t<li>'title_principals_melt'</li>\n",
       "\t<li>'title_ratings'</li>\n",
       "\t<li>'name_basics'</li>\n",
       "\t<li>'title_episode'</li>\n",
       "</ol>\n"
      ],
      "text/latex": [
       "\\begin{enumerate*}\n",
       "\\item 'title\\_basics'\n",
       "\\item 'title\\_crew'\n",
       "\\item 'title\\_principals\\_melt'\n",
       "\\item 'title\\_ratings'\n",
       "\\item 'name\\_basics'\n",
       "\\item 'title\\_episode'\n",
       "\\end{enumerate*}\n"
      ],
      "text/markdown": [
       "1. 'title_basics'\n",
       "2. 'title_crew'\n",
       "3. 'title_principals_melt'\n",
       "4. 'title_ratings'\n",
       "5. 'name_basics'\n",
       "6. 'title_episode'\n",
       "\n",
       "\n"
      ],
      "text/plain": [
       "[1] \"title_basics\"          \"title_crew\"            \"title_principals_melt\"\n",
       "[4] \"title_ratings\"         \"name_basics\"           \"title_episode\"        "
      ]
     },
     "metadata": {},
     "output_type": "display_data"
    },
    {
     "data": {
      "text/html": [
       "'character'"
      ],
      "text/latex": [
       "'character'"
      ],
      "text/markdown": [
       "'character'"
      ],
      "text/plain": [
       "[1] \"character\""
      ]
     },
     "metadata": {},
     "output_type": "display_data"
    }
   ],
   "source": [
    "table_names_vec <- dbListTables(con)\n",
    "table_names_vec\n",
    "class(table_names_vec)"
   ]
  },
  {
   "cell_type": "markdown",
   "metadata": {},
   "source": [
    "This yields a character vector, not a data frame"
   ]
  },
  {
   "cell_type": "markdown",
   "metadata": {},
   "source": [
    "Get row counts"
   ]
  },
  {
   "cell_type": "code",
   "execution_count": 41,
   "metadata": {},
   "outputs": [
    {
     "data": {
      "text/html": [
       "<dl class=dl-horizontal>\n",
       "\t<dt>title_basics</dt>\n",
       "\t\t<dd>4534354</dd>\n",
       "\t<dt>title_crew</dt>\n",
       "\t\t<dd>4534354</dd>\n",
       "\t<dt>title_principals_melt</dt>\n",
       "\t\t<dd>25358895</dd>\n",
       "\t<dt>title_ratings</dt>\n",
       "\t\t<dd>767041</dd>\n",
       "\t<dt>name_basics</dt>\n",
       "\t\t<dd>8155447</dd>\n",
       "\t<dt>title_episode</dt>\n",
       "\t\t<dd>2986925</dd>\n",
       "</dl>\n"
      ],
      "text/latex": [
       "\\begin{description*}\n",
       "\\item[title\\textbackslash{}\\_basics] 4534354\n",
       "\\item[title\\textbackslash{}\\_crew] 4534354\n",
       "\\item[title\\textbackslash{}\\_principals\\textbackslash{}\\_melt] 25358895\n",
       "\\item[title\\textbackslash{}\\_ratings] 767041\n",
       "\\item[name\\textbackslash{}\\_basics] 8155447\n",
       "\\item[title\\textbackslash{}\\_episode] 2986925\n",
       "\\end{description*}\n"
      ],
      "text/markdown": [
       "title_basics\n",
       ":   4534354title_crew\n",
       ":   4534354title_principals_melt\n",
       ":   25358895title_ratings\n",
       ":   767041name_basics\n",
       ":   8155447title_episode\n",
       ":   2986925\n",
       "\n"
      ],
      "text/plain": [
       "         title_basics            title_crew title_principals_melt \n",
       "              4534354               4534354              25358895 \n",
       "        title_ratings           name_basics         title_episode \n",
       "               767041               8155447               2986925 "
      ]
     },
     "metadata": {},
     "output_type": "display_data"
    }
   ],
   "source": [
    "# create a query template that we can change the parameters of\n",
    "# each \"%s\" stands for a variable that we will manipulate with sprintf\n",
    "query_text <- \"SELECT count (*) FROM %s\"\n",
    "\n",
    "# create an empty vector, the length of the table names\n",
    "# we will populate this vector with the row counts from tables\n",
    "row_counts <- rep(NA, length(table_names_vec))\n",
    "\n",
    "# update the names of the vector with table names\n",
    "names(row_counts) <- table_names_vec\n",
    "\n",
    "# for across table names indices (not the names themselves)\n",
    "for (tbl_ind in seq_along(table_names_vec))\n",
    "{\n",
    "    # replace the %s pointer in query text with table name\n",
    "    current_query <- sprintf(query_text, table_names_vec[tbl_ind])\n",
    "    \n",
    "    # run the query and get results\n",
    "    table_name <- dbGetQuery(con, current_query)\n",
    "    \n",
    "    # assign the query result to vector\n",
    "    row_counts[tbl_ind] <- table_name[[1]]\n",
    "}\n",
    "                  \n",
    "return(row_counts)"
   ]
  },
  {
   "cell_type": "markdown",
   "metadata": {},
   "source": [
    "Let's import a table as a data frame into R"
   ]
  },
  {
   "cell_type": "code",
   "execution_count": 80,
   "metadata": {},
   "outputs": [],
   "source": [
    "title_basics_df <- dbGetQuery(con, \"SELECT * from title_basics\")"
   ]
  },
  {
   "cell_type": "markdown",
   "metadata": {},
   "source": [
    "Get the head, attributes and summary of the data frame"
   ]
  },
  {
   "cell_type": "code",
   "execution_count": 81,
   "metadata": {},
   "outputs": [
    {
     "data": {
      "text/html": [
       "<table>\n",
       "<thead><tr><th scope=col>tconst</th><th scope=col>titletype</th><th scope=col>primarytitle</th><th scope=col>originaltitle</th><th scope=col>isadult</th><th scope=col>startyear</th><th scope=col>endyear</th><th scope=col>runtimeminutes</th><th scope=col>genres</th></tr></thead>\n",
       "<tbody>\n",
       "\t<tr><td>tt0000001               </td><td>short                   </td><td>Carmencita              </td><td>Carmencita              </td><td>FALSE                   </td><td>1894                    </td><td>NA                      </td><td> 1                      </td><td>Documentary,Short       </td></tr>\n",
       "\t<tr><td>tt0000002               </td><td>short                   </td><td>Le clown et ses chiens  </td><td>Le clown et ses chiens  </td><td>FALSE                   </td><td>1892                    </td><td>NA                      </td><td> 5                      </td><td>Animation,Short         </td></tr>\n",
       "\t<tr><td>tt0000003               </td><td>short                   </td><td>Pauvre Pierrot          </td><td>Pauvre Pierrot          </td><td>FALSE                   </td><td>1892                    </td><td>NA                      </td><td> 4                      </td><td>Animation,Comedy,Romance</td></tr>\n",
       "\t<tr><td>tt0000004               </td><td>short                   </td><td>Un bon bock             </td><td>Un bon bock             </td><td>FALSE                   </td><td>1892                    </td><td>NA                      </td><td>NA                      </td><td>Animation,Short         </td></tr>\n",
       "\t<tr><td>tt0000005               </td><td>short                   </td><td>Blacksmith Scene        </td><td>Blacksmith Scene        </td><td>FALSE                   </td><td>1893                    </td><td>NA                      </td><td> 1                      </td><td>Short                   </td></tr>\n",
       "\t<tr><td>tt0000006               </td><td>short                   </td><td>Chinese Opium Den       </td><td>Chinese Opium Den       </td><td>FALSE                   </td><td>1894                    </td><td>NA                      </td><td> 1                      </td><td>Short                   </td></tr>\n",
       "</tbody>\n",
       "</table>\n"
      ],
      "text/latex": [
       "\\begin{tabular}{r|lllllllll}\n",
       " tconst & titletype & primarytitle & originaltitle & isadult & startyear & endyear & runtimeminutes & genres\\\\\n",
       "\\hline\n",
       "\t tt0000001                & short                    & Carmencita               & Carmencita               & FALSE                    & 1894                     & NA                       &  1                       & Documentary,Short       \\\\\n",
       "\t tt0000002                & short                    & Le clown et ses chiens   & Le clown et ses chiens   & FALSE                    & 1892                     & NA                       &  5                       & Animation,Short         \\\\\n",
       "\t tt0000003                & short                    & Pauvre Pierrot           & Pauvre Pierrot           & FALSE                    & 1892                     & NA                       &  4                       & Animation,Comedy,Romance\\\\\n",
       "\t tt0000004                & short                    & Un bon bock              & Un bon bock              & FALSE                    & 1892                     & NA                       & NA                       & Animation,Short         \\\\\n",
       "\t tt0000005                & short                    & Blacksmith Scene         & Blacksmith Scene         & FALSE                    & 1893                     & NA                       &  1                       & Short                   \\\\\n",
       "\t tt0000006                & short                    & Chinese Opium Den        & Chinese Opium Den        & FALSE                    & 1894                     & NA                       &  1                       & Short                   \\\\\n",
       "\\end{tabular}\n"
      ],
      "text/markdown": [
       "\n",
       "tconst | titletype | primarytitle | originaltitle | isadult | startyear | endyear | runtimeminutes | genres | \n",
       "|---|---|---|---|---|---|\n",
       "| tt0000001                | short                    | Carmencita               | Carmencita               | FALSE                    | 1894                     | NA                       |  1                       | Documentary,Short        | \n",
       "| tt0000002                | short                    | Le clown et ses chiens   | Le clown et ses chiens   | FALSE                    | 1892                     | NA                       |  5                       | Animation,Short          | \n",
       "| tt0000003                | short                    | Pauvre Pierrot           | Pauvre Pierrot           | FALSE                    | 1892                     | NA                       |  4                       | Animation,Comedy,Romance | \n",
       "| tt0000004                | short                    | Un bon bock              | Un bon bock              | FALSE                    | 1892                     | NA                       | NA                       | Animation,Short          | \n",
       "| tt0000005                | short                    | Blacksmith Scene         | Blacksmith Scene         | FALSE                    | 1893                     | NA                       |  1                       | Short                    | \n",
       "| tt0000006                | short                    | Chinese Opium Den        | Chinese Opium Den        | FALSE                    | 1894                     | NA                       |  1                       | Short                    | \n",
       "\n",
       "\n"
      ],
      "text/plain": [
       "  tconst    titletype primarytitle           originaltitle          isadult\n",
       "1 tt0000001 short     Carmencita             Carmencita             FALSE  \n",
       "2 tt0000002 short     Le clown et ses chiens Le clown et ses chiens FALSE  \n",
       "3 tt0000003 short     Pauvre Pierrot         Pauvre Pierrot         FALSE  \n",
       "4 tt0000004 short     Un bon bock            Un bon bock            FALSE  \n",
       "5 tt0000005 short     Blacksmith Scene       Blacksmith Scene       FALSE  \n",
       "6 tt0000006 short     Chinese Opium Den      Chinese Opium Den      FALSE  \n",
       "  startyear endyear runtimeminutes genres                  \n",
       "1 1894      NA       1             Documentary,Short       \n",
       "2 1892      NA       5             Animation,Short         \n",
       "3 1892      NA       4             Animation,Comedy,Romance\n",
       "4 1892      NA      NA             Animation,Short         \n",
       "5 1893      NA       1             Short                   \n",
       "6 1894      NA       1             Short                   "
      ]
     },
     "metadata": {},
     "output_type": "display_data"
    }
   ],
   "source": [
    "head(title_basics_df)"
   ]
  },
  {
   "cell_type": "code",
   "execution_count": 82,
   "metadata": {},
   "outputs": [],
   "source": [
    "attributes(title_basics_df)"
   ]
  },
  {
   "cell_type": "code",
   "execution_count": 83,
   "metadata": {},
   "outputs": [
    {
     "data": {
      "text/plain": [
       "    tconst           titletype         primarytitle       originaltitle     \n",
       " Length:4534354     Length:4534354     Length:4534354     Length:4534354    \n",
       " Class :character   Class :character   Class :character   Class :character  \n",
       " Mode  :character   Mode  :character   Mode  :character   Mode  :character  \n",
       "                                                                            \n",
       "                                                                            \n",
       "                                                                            \n",
       "                                                                            \n",
       "  isadult          startyear         endyear        runtimeminutes   \n",
       " Mode :logical   Min.   :1874     Min.   :1924      Min.   :     0   \n",
       " FALSE:4403403   1st Qu.:1995     1st Qu.:1988      1st Qu.:    15   \n",
       " TRUE :130951    Median :2007     Median :2003      Median :    30   \n",
       " NA's :0         Mean   :1999     Mean   :1998      Mean   :    47   \n",
       "                 3rd Qu.:2013     3rd Qu.:2012      3rd Qu.:    70   \n",
       "                 Max.   :2115     Max.   :2025      Max.   :125156   \n",
       "                 NA's   :321491   NA's   :4501613   NA's   :3137915  \n",
       "    genres         \n",
       " Length:4534354    \n",
       " Class :character  \n",
       " Mode  :character  \n",
       "                   \n",
       "                   \n",
       "                   \n",
       "                   "
      ]
     },
     "metadata": {},
     "output_type": "display_data"
    }
   ],
   "source": [
    "summary(title_basics_df)"
   ]
  },
  {
   "cell_type": "markdown",
   "metadata": {},
   "source": [
    "Now an easier way to read data into R"
   ]
  },
  {
   "cell_type": "code",
   "execution_count": 90,
   "metadata": {},
   "outputs": [],
   "source": [
    "title_basics_df_b <- dbReadTable(con, \"title_basics\")"
   ]
  },
  {
   "cell_type": "markdown",
   "metadata": {},
   "source": [
    "See whether they are identical objects"
   ]
  },
  {
   "cell_type": "code",
   "execution_count": 91,
   "metadata": {},
   "outputs": [
    {
     "data": {
      "text/html": [
       "TRUE"
      ],
      "text/latex": [
       "TRUE"
      ],
      "text/markdown": [
       "TRUE"
      ],
      "text/plain": [
       "[1] TRUE"
      ]
     },
     "metadata": {},
     "output_type": "display_data"
    }
   ],
   "source": [
    "identical(title_basics_df, title_basics_df_b)"
   ]
  },
  {
   "cell_type": "markdown",
   "metadata": {},
   "source": [
    "So, they are identical"
   ]
  },
  {
   "cell_type": "markdown",
   "metadata": {},
   "source": [
    "What is the object size of each data frame?"
   ]
  },
  {
   "cell_type": "code",
   "execution_count": 92,
   "metadata": {},
   "outputs": [
    {
     "data": {
      "text/html": [
       "'817.6 Mb'"
      ],
      "text/latex": [
       "'817.6 Mb'"
      ],
      "text/markdown": [
       "'817.6 Mb'"
      ],
      "text/plain": [
       "[1] \"817.6 Mb\""
      ]
     },
     "metadata": {},
     "output_type": "display_data"
    }
   ],
   "source": [
    "format(object.size(title_basics_df), units = \"auto\")"
   ]
  },
  {
   "cell_type": "code",
   "execution_count": 93,
   "metadata": {},
   "outputs": [
    {
     "data": {
      "text/html": [
       "'817.6 Mb'"
      ],
      "text/latex": [
       "'817.6 Mb'"
      ],
      "text/markdown": [
       "'817.6 Mb'"
      ],
      "text/plain": [
       "[1] \"817.6 Mb\""
      ]
     },
     "metadata": {},
     "output_type": "display_data"
    }
   ],
   "source": [
    "format(object.size(title_basics_df_b), units = \"auto\")"
   ]
  },
  {
   "cell_type": "markdown",
   "metadata": {},
   "source": [
    "They take too much space. Now let's get rid of one of them"
   ]
  },
  {
   "cell_type": "code",
   "execution_count": 94,
   "metadata": {},
   "outputs": [],
   "source": [
    "rm(title_basics_df_b)"
   ]
  },
  {
   "cell_type": "markdown",
   "metadata": {},
   "source": [
    "New get the classes of all columns"
   ]
  },
  {
   "cell_type": "code",
   "execution_count": 95,
   "metadata": {},
   "outputs": [
    {
     "data": {
      "text/html": [
       "<dl class=dl-horizontal>\n",
       "\t<dt>tconst</dt>\n",
       "\t\t<dd>'character'</dd>\n",
       "\t<dt>titletype</dt>\n",
       "\t\t<dd>'character'</dd>\n",
       "\t<dt>primarytitle</dt>\n",
       "\t\t<dd>'character'</dd>\n",
       "\t<dt>originaltitle</dt>\n",
       "\t\t<dd>'character'</dd>\n",
       "\t<dt>isadult</dt>\n",
       "\t\t<dd>'logical'</dd>\n",
       "\t<dt>startyear</dt>\n",
       "\t\t<dd>'integer'</dd>\n",
       "\t<dt>endyear</dt>\n",
       "\t\t<dd>'integer'</dd>\n",
       "\t<dt>runtimeminutes</dt>\n",
       "\t\t<dd>'integer'</dd>\n",
       "\t<dt>genres</dt>\n",
       "\t\t<dd>'character'</dd>\n",
       "</dl>\n"
      ],
      "text/latex": [
       "\\begin{description*}\n",
       "\\item[tconst] 'character'\n",
       "\\item[titletype] 'character'\n",
       "\\item[primarytitle] 'character'\n",
       "\\item[originaltitle] 'character'\n",
       "\\item[isadult] 'logical'\n",
       "\\item[startyear] 'integer'\n",
       "\\item[endyear] 'integer'\n",
       "\\item[runtimeminutes] 'integer'\n",
       "\\item[genres] 'character'\n",
       "\\end{description*}\n"
      ],
      "text/markdown": [
       "tconst\n",
       ":   'character'titletype\n",
       ":   'character'primarytitle\n",
       ":   'character'originaltitle\n",
       ":   'character'isadult\n",
       ":   'logical'startyear\n",
       ":   'integer'endyear\n",
       ":   'integer'runtimeminutes\n",
       ":   'integer'genres\n",
       ":   'character'\n",
       "\n"
      ],
      "text/plain": [
       "        tconst      titletype   primarytitle  originaltitle        isadult \n",
       "   \"character\"    \"character\"    \"character\"    \"character\"      \"logical\" \n",
       "     startyear        endyear runtimeminutes         genres \n",
       "     \"integer\"      \"integer\"      \"integer\"    \"character\" "
      ]
     },
     "metadata": {},
     "output_type": "display_data"
    }
   ],
   "source": [
    "sapply(title_ratings_df, class)"
   ]
  },
  {
   "cell_type": "markdown",
   "metadata": {},
   "source": [
    "Now let's extract a subset of the data frame"
   ]
  },
  {
   "cell_type": "markdown",
   "metadata": {},
   "source": [
    "Let's say, take rows in which \n",
    "\n",
    "name contains \"Star Wars\",\n",
    "\n",
    "not an adult movie\n",
    "\n",
    "title_type is a movie and\n",
    "\n",
    "start year is between 1977 and 2016"
   ]
  },
  {
   "cell_type": "code",
   "execution_count": 115,
   "metadata": {},
   "outputs": [],
   "source": [
    "title_basics_df2 <- title_basics_df[\n",
    "    grepl(\"(?i)star.*wars\", title_basics_df$primarytitle) &\n",
    "    !title_basics_df$isadult &\n",
    "    title_basics_df$titletype == \"movie\" &\n",
    "    title_basics_df$startyear >= 1977 &\n",
    "    title_basics_df$startyear <= 2016,\n",
    "]"
   ]
  },
  {
   "cell_type": "code",
   "execution_count": 116,
   "metadata": {
    "scrolled": true
   },
   "outputs": [
    {
     "data": {
      "text/html": [
       "<table>\n",
       "<thead><tr><th></th><th scope=col>tconst</th><th scope=col>titletype</th><th scope=col>primarytitle</th><th scope=col>originaltitle</th><th scope=col>isadult</th><th scope=col>startyear</th><th scope=col>endyear</th><th scope=col>runtimeminutes</th><th scope=col>genres</th></tr></thead>\n",
       "<tbody>\n",
       "\t<tr><th scope=row>75193</th><td>tt0076759                                       </td><td>movie                                           </td><td>Star Wars: Episode IV - A New Hope              </td><td>Star Wars                                       </td><td>FALSE                                           </td><td>1977                                            </td><td>NA                                              </td><td>121                                             </td><td>Action,Adventure,Fantasy                        </td></tr>\n",
       "\t<tr><th scope=row>79009</th><td>tt0080684                                       </td><td>movie                                           </td><td>Star Wars: Episode V - The Empire Strikes Back  </td><td>Star Wars: Episode V - The Empire Strikes Back  </td><td>FALSE                                           </td><td>1980                                            </td><td>NA                                              </td><td>124                                             </td><td>Action,Adventure,Fantasy                        </td></tr>\n",
       "\t<tr><th scope=row>84359</th><td>tt0086190                                       </td><td>movie                                           </td><td>Star Wars: Episode VI - Return of the Jedi      </td><td>Star Wars: Episode VI - Return of the Jedi      </td><td>FALSE                                           </td><td>1983                                            </td><td>NA                                              </td><td>131                                             </td><td>Action,Adventure,Fantasy                        </td></tr>\n",
       "\t<tr><th scope=row>118147</th><td>tt0120915                                       </td><td>movie                                           </td><td>Star Wars: Episode I - The Phantom Menace       </td><td>Star Wars: Episode I - The Phantom Menace       </td><td>FALSE                                           </td><td>1999                                            </td><td>NA                                              </td><td>136                                             </td><td>Action,Adventure,Fantasy                        </td></tr>\n",
       "\t<tr><th scope=row>118872</th><td>tt0121765                                       </td><td>movie                                           </td><td>Star Wars: Episode II - Attack of the Clones    </td><td>Star Wars: Episode II - Attack of the Clones    </td><td>FALSE                                           </td><td>2002                                            </td><td>NA                                              </td><td>142                                             </td><td>Action,Adventure,Fantasy                        </td></tr>\n",
       "\t<tr><th scope=row>118873</th><td>tt0121766                                       </td><td>movie                                           </td><td>Star Wars: Episode III - Revenge of the Sith    </td><td>Star Wars: Episode III - Revenge of the Sith    </td><td>FALSE                                           </td><td>2005                                            </td><td>NA                                              </td><td>140                                             </td><td>Action,Adventure,Fantasy                        </td></tr>\n",
       "\t<tr><th scope=row>372161</th><td>tt0387563                                       </td><td>movie                                           </td><td>Saving Star Wars                                </td><td>Saving 'Star Wars'                              </td><td>FALSE                                           </td><td>2004                                            </td><td>NA                                              </td><td> NA                                             </td><td>Comedy                                          </td></tr>\n",
       "\t<tr><th scope=row>448871</th><td>tt0466264                                       </td><td>movie                                           </td><td>The Untitled Star Wars Mockumentary             </td><td>The Untitled Star Wars Mockumentary             </td><td>FALSE                                           </td><td>2003                                            </td><td>NA                                              </td><td> 45                                             </td><td>Comedy                                          </td></tr>\n",
       "\t<tr><th scope=row>1104619</th><td>tt1140851                                       </td><td>movie                                           </td><td>Bob Hope's All-Star Look at TV's Prime Time Wars</td><td>Bob Hope's All-Star Look at TV's Prime Time Wars</td><td>FALSE                                           </td><td>1980                                            </td><td>NA                                              </td><td> 60                                             </td><td>Comedy                                          </td></tr>\n",
       "\t<tr><th scope=row>1147803</th><td>tt1185834                                       </td><td>movie                                           </td><td>Star Wars: The Clone Wars                       </td><td>Star Wars: The Clone Wars                       </td><td>FALSE                                           </td><td>2008                                            </td><td>NA                                              </td><td> 98                                             </td><td>Action,Adventure,Animation                      </td></tr>\n",
       "\t<tr><th scope=row>1385155</th><td>tt1432993                                       </td><td>movie                                           </td><td>Star Wars: A Galaxy in Darkness                 </td><td>Star Wars: A Galaxy in Darkness                 </td><td>FALSE                                           </td><td>2009                                            </td><td>NA                                              </td><td> 46                                             </td><td>Adventure,Drama,Sci-Fi                          </td></tr>\n",
       "\t<tr><th scope=row>1902486</th><td>tt1970025                                                                                   </td><td>movie                                                                                       </td><td><span style=white-space:pre-wrap>Star Wars Heroes &amp; Villains                     </span></td><td><span style=white-space:pre-wrap>Star Wars Heroes &amp; Villains                     </span></td><td>FALSE                                                                                       </td><td>2005                                                                                        </td><td>NA                                                                                          </td><td> 68                                                                                         </td><td><span style=white-space:pre-wrap>Documentary               </span>                          </td></tr>\n",
       "\t<tr><th scope=row>2005541</th><td>tt2076340                                       </td><td>movie                                           </td><td>Star Wars: Star Warriors                        </td><td>Star Wars: Star Warriors                        </td><td>FALSE                                           </td><td>2007                                            </td><td>NA                                              </td><td> 84                                             </td><td>Documentary                                     </td></tr>\n",
       "\t<tr><th scope=row>2186043</th><td>tt2275656                                       </td><td>movie                                           </td><td>Star Wars: Threads of Destiny                   </td><td>Star Wars: Threads of Destiny                   </td><td>FALSE                                           </td><td>2014                                            </td><td>NA                                              </td><td>110                                             </td><td>Action,Adventure,Sci-Fi                         </td></tr>\n",
       "\t<tr><th scope=row>2334950</th><td>tt2488496                                       </td><td>movie                                           </td><td>Star Wars: The Force Awakens                    </td><td>Star Wars: Episode VII - The Force Awakens      </td><td>FALSE                                           </td><td>2015                                            </td><td>NA                                              </td><td>136                                             </td><td>Action,Adventure,Fantasy                        </td></tr>\n",
       "\t<tr><th scope=row>NA</th><td>NA                                              </td><td>NA                                              </td><td>NA                                              </td><td>NA                                              </td><td>   NA                                           </td><td>  NA                                            </td><td>NA                                              </td><td> NA                                             </td><td>NA                                              </td></tr>\n",
       "\t<tr><th scope=row>NA.1</th><td>NA                                              </td><td>NA                                              </td><td>NA                                              </td><td>NA                                              </td><td>   NA                                           </td><td>  NA                                            </td><td>NA                                              </td><td> NA                                             </td><td>NA                                              </td></tr>\n",
       "\t<tr><th scope=row>2767746</th><td>tt3510476                                       </td><td>movie                                           </td><td>Star Wars: The Force Unleashed II               </td><td>Star Wars: The Force Unleashed II               </td><td>FALSE                                           </td><td>2014                                            </td><td>NA                                              </td><td> 45                                             </td><td>Sci-Fi                                          </td></tr>\n",
       "\t<tr><th scope=row>2827130</th><td>tt3648510                                       </td><td>movie                                           </td><td>Plastic Galaxy: The Story of Star Wars Toys     </td><td>Plastic Galaxy: The Story of Star Wars Toys     </td><td>FALSE                                           </td><td>2014                                            </td><td>NA                                              </td><td> 70                                             </td><td>Documentary,History,Sci-Fi                      </td></tr>\n",
       "\t<tr><th scope=row>2898446</th><td>tt3810772                                       </td><td>movie                                           </td><td>Star Wars: The New Republic                     </td><td>Star Wars: The New Republic                     </td><td>FALSE                                           </td><td>2014                                            </td><td>NA                                              </td><td> NA                                             </td><td>Action,Adventure,Sci-Fi                         </td></tr>\n",
       "\t<tr><th scope=row>3164384</th><td>tt4401260                                       </td><td>movie                                           </td><td>Forsaken: A Star Wars Fan Film                  </td><td>Forsaken: A Star Wars Fan Film                  </td><td>FALSE                                           </td><td>2015                                            </td><td>NA                                              </td><td> NA                                             </td><td>Adventure,Fantasy,Sci-Fi                        </td></tr>\n",
       "\t<tr><th scope=row>NA.2</th><td>NA                                              </td><td>NA                                              </td><td>NA                                              </td><td>NA                                              </td><td>   NA                                           </td><td>  NA                                            </td><td>NA                                              </td><td> NA                                             </td><td>NA                                              </td></tr>\n",
       "\t<tr><th scope=row>3273203</th><td>tt4644286                                       </td><td>movie                                           </td><td>Star Wars Begins: A Filmumentary                </td><td>Star Wars Begins: A Filmumentary                </td><td>FALSE                                           </td><td>2011                                            </td><td>NA                                              </td><td>139                                             </td><td>Documentary                                     </td></tr>\n",
       "\t<tr><th scope=row>NA.3</th><td>NA                                              </td><td>NA                                              </td><td>NA                                              </td><td>NA                                              </td><td>   NA                                           </td><td>  NA                                            </td><td>NA                                              </td><td> NA                                             </td><td>NA                                              </td></tr>\n",
       "\t<tr><th scope=row>NA.4</th><td>NA                                              </td><td>NA                                              </td><td>NA                                              </td><td>NA                                              </td><td>   NA                                           </td><td>  NA                                            </td><td>NA                                              </td><td> NA                                             </td><td>NA                                              </td></tr>\n",
       "\t<tr><th scope=row>NA.5</th><td>NA                                              </td><td>NA                                              </td><td>NA                                              </td><td>NA                                              </td><td>   NA                                           </td><td>  NA                                            </td><td>NA                                              </td><td> NA                                             </td><td>NA                                              </td></tr>\n",
       "\t<tr><th scope=row>NA.6</th><td>NA                                              </td><td>NA                                              </td><td>NA                                              </td><td>NA                                              </td><td>   NA                                           </td><td>  NA                                            </td><td>NA                                              </td><td> NA                                             </td><td>NA                                              </td></tr>\n",
       "\t<tr><th scope=row>NA.7</th><td>NA                                              </td><td>NA                                              </td><td>NA                                              </td><td>NA                                              </td><td>   NA                                           </td><td>  NA                                            </td><td>NA                                              </td><td> NA                                             </td><td>NA                                              </td></tr>\n",
       "\t<tr><th scope=row>NA.8</th><td>NA                                              </td><td>NA                                              </td><td>NA                                              </td><td>NA                                              </td><td>   NA                                           </td><td>  NA                                            </td><td>NA                                              </td><td> NA                                             </td><td>NA                                              </td></tr>\n",
       "\t<tr><th scope=row>4191889</th><td>tt6682462                                       </td><td>movie                                           </td><td>Star Wars FanFilm the Padawan I 'The Beginning' </td><td>Star Wars FanFilm the Padawan I 'The Beginning' </td><td>FALSE                                           </td><td>2012                                            </td><td>NA                                              </td><td> NA                                             </td><td>Sci-Fi                                          </td></tr>\n",
       "\t<tr><th scope=row>4415928</th><td>tt7167614                                       </td><td>movie                                           </td><td>Star Wars: The Fight Against the Dark Side      </td><td>Star Wars: The Fight Against the Dark Side      </td><td>FALSE                                           </td><td>2015                                            </td><td>NA                                              </td><td> NA                                             </td><td>NA                                              </td></tr>\n",
       "</tbody>\n",
       "</table>\n"
      ],
      "text/latex": [
       "\\begin{tabular}{r|lllllllll}\n",
       "  & tconst & titletype & primarytitle & originaltitle & isadult & startyear & endyear & runtimeminutes & genres\\\\\n",
       "\\hline\n",
       "\t75193 & tt0076759                                        & movie                                            & Star Wars: Episode IV - A New Hope               & Star Wars                                        & FALSE                                            & 1977                                             & NA                                               & 121                                              & Action,Adventure,Fantasy                        \\\\\n",
       "\t79009 & tt0080684                                        & movie                                            & Star Wars: Episode V - The Empire Strikes Back   & Star Wars: Episode V - The Empire Strikes Back   & FALSE                                            & 1980                                             & NA                                               & 124                                              & Action,Adventure,Fantasy                        \\\\\n",
       "\t84359 & tt0086190                                        & movie                                            & Star Wars: Episode VI - Return of the Jedi       & Star Wars: Episode VI - Return of the Jedi       & FALSE                                            & 1983                                             & NA                                               & 131                                              & Action,Adventure,Fantasy                        \\\\\n",
       "\t118147 & tt0120915                                        & movie                                            & Star Wars: Episode I - The Phantom Menace        & Star Wars: Episode I - The Phantom Menace        & FALSE                                            & 1999                                             & NA                                               & 136                                              & Action,Adventure,Fantasy                        \\\\\n",
       "\t118872 & tt0121765                                        & movie                                            & Star Wars: Episode II - Attack of the Clones     & Star Wars: Episode II - Attack of the Clones     & FALSE                                            & 2002                                             & NA                                               & 142                                              & Action,Adventure,Fantasy                        \\\\\n",
       "\t118873 & tt0121766                                        & movie                                            & Star Wars: Episode III - Revenge of the Sith     & Star Wars: Episode III - Revenge of the Sith     & FALSE                                            & 2005                                             & NA                                               & 140                                              & Action,Adventure,Fantasy                        \\\\\n",
       "\t372161 & tt0387563                                        & movie                                            & Saving Star Wars                                 & Saving 'Star Wars'                               & FALSE                                            & 2004                                             & NA                                               &  NA                                              & Comedy                                          \\\\\n",
       "\t448871 & tt0466264                                        & movie                                            & The Untitled Star Wars Mockumentary              & The Untitled Star Wars Mockumentary              & FALSE                                            & 2003                                             & NA                                               &  45                                              & Comedy                                          \\\\\n",
       "\t1104619 & tt1140851                                        & movie                                            & Bob Hope's All-Star Look at TV's Prime Time Wars & Bob Hope's All-Star Look at TV's Prime Time Wars & FALSE                                            & 1980                                             & NA                                               &  60                                              & Comedy                                          \\\\\n",
       "\t1147803 & tt1185834                                        & movie                                            & Star Wars: The Clone Wars                        & Star Wars: The Clone Wars                        & FALSE                                            & 2008                                             & NA                                               &  98                                              & Action,Adventure,Animation                      \\\\\n",
       "\t1385155 & tt1432993                                        & movie                                            & Star Wars: A Galaxy in Darkness                  & Star Wars: A Galaxy in Darkness                  & FALSE                                            & 2009                                             & NA                                               &  46                                              & Adventure,Drama,Sci-Fi                          \\\\\n",
       "\t1902486 & tt1970025                                          & movie                                              & Star Wars Heroes \\& Villains                      & Star Wars Heroes \\& Villains                      & FALSE                                              & 2005                                               & NA                                                 &  68                                                & Documentary                                       \\\\\n",
       "\t2005541 & tt2076340                                        & movie                                            & Star Wars: Star Warriors                         & Star Wars: Star Warriors                         & FALSE                                            & 2007                                             & NA                                               &  84                                              & Documentary                                     \\\\\n",
       "\t2186043 & tt2275656                                        & movie                                            & Star Wars: Threads of Destiny                    & Star Wars: Threads of Destiny                    & FALSE                                            & 2014                                             & NA                                               & 110                                              & Action,Adventure,Sci-Fi                         \\\\\n",
       "\t2334950 & tt2488496                                        & movie                                            & Star Wars: The Force Awakens                     & Star Wars: Episode VII - The Force Awakens       & FALSE                                            & 2015                                             & NA                                               & 136                                              & Action,Adventure,Fantasy                        \\\\\n",
       "\tNA & NA                                               & NA                                               & NA                                               & NA                                               &    NA                                            &   NA                                             & NA                                               &  NA                                              & NA                                              \\\\\n",
       "\tNA.1 & NA                                               & NA                                               & NA                                               & NA                                               &    NA                                            &   NA                                             & NA                                               &  NA                                              & NA                                              \\\\\n",
       "\t2767746 & tt3510476                                        & movie                                            & Star Wars: The Force Unleashed II                & Star Wars: The Force Unleashed II                & FALSE                                            & 2014                                             & NA                                               &  45                                              & Sci-Fi                                          \\\\\n",
       "\t2827130 & tt3648510                                        & movie                                            & Plastic Galaxy: The Story of Star Wars Toys      & Plastic Galaxy: The Story of Star Wars Toys      & FALSE                                            & 2014                                             & NA                                               &  70                                              & Documentary,History,Sci-Fi                      \\\\\n",
       "\t2898446 & tt3810772                                        & movie                                            & Star Wars: The New Republic                      & Star Wars: The New Republic                      & FALSE                                            & 2014                                             & NA                                               &  NA                                              & Action,Adventure,Sci-Fi                         \\\\\n",
       "\t3164384 & tt4401260                                        & movie                                            & Forsaken: A Star Wars Fan Film                   & Forsaken: A Star Wars Fan Film                   & FALSE                                            & 2015                                             & NA                                               &  NA                                              & Adventure,Fantasy,Sci-Fi                        \\\\\n",
       "\tNA.2 & NA                                               & NA                                               & NA                                               & NA                                               &    NA                                            &   NA                                             & NA                                               &  NA                                              & NA                                              \\\\\n",
       "\t3273203 & tt4644286                                        & movie                                            & Star Wars Begins: A Filmumentary                 & Star Wars Begins: A Filmumentary                 & FALSE                                            & 2011                                             & NA                                               & 139                                              & Documentary                                     \\\\\n",
       "\tNA.3 & NA                                               & NA                                               & NA                                               & NA                                               &    NA                                            &   NA                                             & NA                                               &  NA                                              & NA                                              \\\\\n",
       "\tNA.4 & NA                                               & NA                                               & NA                                               & NA                                               &    NA                                            &   NA                                             & NA                                               &  NA                                              & NA                                              \\\\\n",
       "\tNA.5 & NA                                               & NA                                               & NA                                               & NA                                               &    NA                                            &   NA                                             & NA                                               &  NA                                              & NA                                              \\\\\n",
       "\tNA.6 & NA                                               & NA                                               & NA                                               & NA                                               &    NA                                            &   NA                                             & NA                                               &  NA                                              & NA                                              \\\\\n",
       "\tNA.7 & NA                                               & NA                                               & NA                                               & NA                                               &    NA                                            &   NA                                             & NA                                               &  NA                                              & NA                                              \\\\\n",
       "\tNA.8 & NA                                               & NA                                               & NA                                               & NA                                               &    NA                                            &   NA                                             & NA                                               &  NA                                              & NA                                              \\\\\n",
       "\t4191889 & tt6682462                                        & movie                                            & Star Wars FanFilm the Padawan I 'The Beginning'  & Star Wars FanFilm the Padawan I 'The Beginning'  & FALSE                                            & 2012                                             & NA                                               &  NA                                              & Sci-Fi                                          \\\\\n",
       "\t4415928 & tt7167614                                        & movie                                            & Star Wars: The Fight Against the Dark Side       & Star Wars: The Fight Against the Dark Side       & FALSE                                            & 2015                                             & NA                                               &  NA                                              & NA                                              \\\\\n",
       "\\end{tabular}\n"
      ],
      "text/markdown": [
       "\n",
       "| <!--/--> | tconst | titletype | primarytitle | originaltitle | isadult | startyear | endyear | runtimeminutes | genres | \n",
       "|---|---|---|---|---|---|---|---|---|---|---|---|---|---|---|---|---|---|---|---|---|---|---|---|---|---|---|---|---|---|---|\n",
       "| 75193 | tt0076759                                        | movie                                            | Star Wars: Episode IV - A New Hope               | Star Wars                                        | FALSE                                            | 1977                                             | NA                                               | 121                                              | Action,Adventure,Fantasy                         | \n",
       "| 79009 | tt0080684                                        | movie                                            | Star Wars: Episode V - The Empire Strikes Back   | Star Wars: Episode V - The Empire Strikes Back   | FALSE                                            | 1980                                             | NA                                               | 124                                              | Action,Adventure,Fantasy                         | \n",
       "| 84359 | tt0086190                                        | movie                                            | Star Wars: Episode VI - Return of the Jedi       | Star Wars: Episode VI - Return of the Jedi       | FALSE                                            | 1983                                             | NA                                               | 131                                              | Action,Adventure,Fantasy                         | \n",
       "| 118147 | tt0120915                                        | movie                                            | Star Wars: Episode I - The Phantom Menace        | Star Wars: Episode I - The Phantom Menace        | FALSE                                            | 1999                                             | NA                                               | 136                                              | Action,Adventure,Fantasy                         | \n",
       "| 118872 | tt0121765                                        | movie                                            | Star Wars: Episode II - Attack of the Clones     | Star Wars: Episode II - Attack of the Clones     | FALSE                                            | 2002                                             | NA                                               | 142                                              | Action,Adventure,Fantasy                         | \n",
       "| 118873 | tt0121766                                        | movie                                            | Star Wars: Episode III - Revenge of the Sith     | Star Wars: Episode III - Revenge of the Sith     | FALSE                                            | 2005                                             | NA                                               | 140                                              | Action,Adventure,Fantasy                         | \n",
       "| 372161 | tt0387563                                        | movie                                            | Saving Star Wars                                 | Saving 'Star Wars'                               | FALSE                                            | 2004                                             | NA                                               |  NA                                              | Comedy                                           | \n",
       "| 448871 | tt0466264                                        | movie                                            | The Untitled Star Wars Mockumentary              | The Untitled Star Wars Mockumentary              | FALSE                                            | 2003                                             | NA                                               |  45                                              | Comedy                                           | \n",
       "| 1104619 | tt1140851                                        | movie                                            | Bob Hope's All-Star Look at TV's Prime Time Wars | Bob Hope's All-Star Look at TV's Prime Time Wars | FALSE                                            | 1980                                             | NA                                               |  60                                              | Comedy                                           | \n",
       "| 1147803 | tt1185834                                        | movie                                            | Star Wars: The Clone Wars                        | Star Wars: The Clone Wars                        | FALSE                                            | 2008                                             | NA                                               |  98                                              | Action,Adventure,Animation                       | \n",
       "| 1385155 | tt1432993                                        | movie                                            | Star Wars: A Galaxy in Darkness                  | Star Wars: A Galaxy in Darkness                  | FALSE                                            | 2009                                             | NA                                               |  46                                              | Adventure,Drama,Sci-Fi                           | \n",
       "| 1902486 | tt1970025                                        | movie                                            | Star Wars Heroes & Villains                      | Star Wars Heroes & Villains                      | FALSE                                            | 2005                                             | NA                                               |  68                                              | Documentary                                      | \n",
       "| 2005541 | tt2076340                                        | movie                                            | Star Wars: Star Warriors                         | Star Wars: Star Warriors                         | FALSE                                            | 2007                                             | NA                                               |  84                                              | Documentary                                      | \n",
       "| 2186043 | tt2275656                                        | movie                                            | Star Wars: Threads of Destiny                    | Star Wars: Threads of Destiny                    | FALSE                                            | 2014                                             | NA                                               | 110                                              | Action,Adventure,Sci-Fi                          | \n",
       "| 2334950 | tt2488496                                        | movie                                            | Star Wars: The Force Awakens                     | Star Wars: Episode VII - The Force Awakens       | FALSE                                            | 2015                                             | NA                                               | 136                                              | Action,Adventure,Fantasy                         | \n",
       "| NA | NA                                               | NA                                               | NA                                               | NA                                               |    NA                                            |   NA                                             | NA                                               |  NA                                              | NA                                               | \n",
       "| NA.1 | NA                                               | NA                                               | NA                                               | NA                                               |    NA                                            |   NA                                             | NA                                               |  NA                                              | NA                                               | \n",
       "| 2767746 | tt3510476                                        | movie                                            | Star Wars: The Force Unleashed II                | Star Wars: The Force Unleashed II                | FALSE                                            | 2014                                             | NA                                               |  45                                              | Sci-Fi                                           | \n",
       "| 2827130 | tt3648510                                        | movie                                            | Plastic Galaxy: The Story of Star Wars Toys      | Plastic Galaxy: The Story of Star Wars Toys      | FALSE                                            | 2014                                             | NA                                               |  70                                              | Documentary,History,Sci-Fi                       | \n",
       "| 2898446 | tt3810772                                        | movie                                            | Star Wars: The New Republic                      | Star Wars: The New Republic                      | FALSE                                            | 2014                                             | NA                                               |  NA                                              | Action,Adventure,Sci-Fi                          | \n",
       "| 3164384 | tt4401260                                        | movie                                            | Forsaken: A Star Wars Fan Film                   | Forsaken: A Star Wars Fan Film                   | FALSE                                            | 2015                                             | NA                                               |  NA                                              | Adventure,Fantasy,Sci-Fi                         | \n",
       "| NA.2 | NA                                               | NA                                               | NA                                               | NA                                               |    NA                                            |   NA                                             | NA                                               |  NA                                              | NA                                               | \n",
       "| 3273203 | tt4644286                                        | movie                                            | Star Wars Begins: A Filmumentary                 | Star Wars Begins: A Filmumentary                 | FALSE                                            | 2011                                             | NA                                               | 139                                              | Documentary                                      | \n",
       "| NA.3 | NA                                               | NA                                               | NA                                               | NA                                               |    NA                                            |   NA                                             | NA                                               |  NA                                              | NA                                               | \n",
       "| NA.4 | NA                                               | NA                                               | NA                                               | NA                                               |    NA                                            |   NA                                             | NA                                               |  NA                                              | NA                                               | \n",
       "| NA.5 | NA                                               | NA                                               | NA                                               | NA                                               |    NA                                            |   NA                                             | NA                                               |  NA                                              | NA                                               | \n",
       "| NA.6 | NA                                               | NA                                               | NA                                               | NA                                               |    NA                                            |   NA                                             | NA                                               |  NA                                              | NA                                               | \n",
       "| NA.7 | NA                                               | NA                                               | NA                                               | NA                                               |    NA                                            |   NA                                             | NA                                               |  NA                                              | NA                                               | \n",
       "| NA.8 | NA                                               | NA                                               | NA                                               | NA                                               |    NA                                            |   NA                                             | NA                                               |  NA                                              | NA                                               | \n",
       "| 4191889 | tt6682462                                        | movie                                            | Star Wars FanFilm the Padawan I 'The Beginning'  | Star Wars FanFilm the Padawan I 'The Beginning'  | FALSE                                            | 2012                                             | NA                                               |  NA                                              | Sci-Fi                                           | \n",
       "| 4415928 | tt7167614                                        | movie                                            | Star Wars: The Fight Against the Dark Side       | Star Wars: The Fight Against the Dark Side       | FALSE                                            | 2015                                             | NA                                               |  NA                                              | NA                                               | \n",
       "\n",
       "\n"
      ],
      "text/plain": [
       "        tconst    titletype primarytitle                                    \n",
       "75193   tt0076759 movie     Star Wars: Episode IV - A New Hope              \n",
       "79009   tt0080684 movie     Star Wars: Episode V - The Empire Strikes Back  \n",
       "84359   tt0086190 movie     Star Wars: Episode VI - Return of the Jedi      \n",
       "118147  tt0120915 movie     Star Wars: Episode I - The Phantom Menace       \n",
       "118872  tt0121765 movie     Star Wars: Episode II - Attack of the Clones    \n",
       "118873  tt0121766 movie     Star Wars: Episode III - Revenge of the Sith    \n",
       "372161  tt0387563 movie     Saving Star Wars                                \n",
       "448871  tt0466264 movie     The Untitled Star Wars Mockumentary             \n",
       "1104619 tt1140851 movie     Bob Hope's All-Star Look at TV's Prime Time Wars\n",
       "1147803 tt1185834 movie     Star Wars: The Clone Wars                       \n",
       "1385155 tt1432993 movie     Star Wars: A Galaxy in Darkness                 \n",
       "1902486 tt1970025 movie     Star Wars Heroes & Villains                     \n",
       "2005541 tt2076340 movie     Star Wars: Star Warriors                        \n",
       "2186043 tt2275656 movie     Star Wars: Threads of Destiny                   \n",
       "2334950 tt2488496 movie     Star Wars: The Force Awakens                    \n",
       "NA      NA        NA        NA                                              \n",
       "NA.1    NA        NA        NA                                              \n",
       "2767746 tt3510476 movie     Star Wars: The Force Unleashed II               \n",
       "2827130 tt3648510 movie     Plastic Galaxy: The Story of Star Wars Toys     \n",
       "2898446 tt3810772 movie     Star Wars: The New Republic                     \n",
       "3164384 tt4401260 movie     Forsaken: A Star Wars Fan Film                  \n",
       "NA.2    NA        NA        NA                                              \n",
       "3273203 tt4644286 movie     Star Wars Begins: A Filmumentary                \n",
       "NA.3    NA        NA        NA                                              \n",
       "NA.4    NA        NA        NA                                              \n",
       "NA.5    NA        NA        NA                                              \n",
       "NA.6    NA        NA        NA                                              \n",
       "NA.7    NA        NA        NA                                              \n",
       "NA.8    NA        NA        NA                                              \n",
       "4191889 tt6682462 movie     Star Wars FanFilm the Padawan I 'The Beginning' \n",
       "4415928 tt7167614 movie     Star Wars: The Fight Against the Dark Side      \n",
       "        originaltitle                                    isadult startyear\n",
       "75193   Star Wars                                        FALSE   1977     \n",
       "79009   Star Wars: Episode V - The Empire Strikes Back   FALSE   1980     \n",
       "84359   Star Wars: Episode VI - Return of the Jedi       FALSE   1983     \n",
       "118147  Star Wars: Episode I - The Phantom Menace        FALSE   1999     \n",
       "118872  Star Wars: Episode II - Attack of the Clones     FALSE   2002     \n",
       "118873  Star Wars: Episode III - Revenge of the Sith     FALSE   2005     \n",
       "372161  Saving 'Star Wars'                               FALSE   2004     \n",
       "448871  The Untitled Star Wars Mockumentary              FALSE   2003     \n",
       "1104619 Bob Hope's All-Star Look at TV's Prime Time Wars FALSE   1980     \n",
       "1147803 Star Wars: The Clone Wars                        FALSE   2008     \n",
       "1385155 Star Wars: A Galaxy in Darkness                  FALSE   2009     \n",
       "1902486 Star Wars Heroes & Villains                      FALSE   2005     \n",
       "2005541 Star Wars: Star Warriors                         FALSE   2007     \n",
       "2186043 Star Wars: Threads of Destiny                    FALSE   2014     \n",
       "2334950 Star Wars: Episode VII - The Force Awakens       FALSE   2015     \n",
       "NA      NA                                                  NA     NA     \n",
       "NA.1    NA                                                  NA     NA     \n",
       "2767746 Star Wars: The Force Unleashed II                FALSE   2014     \n",
       "2827130 Plastic Galaxy: The Story of Star Wars Toys      FALSE   2014     \n",
       "2898446 Star Wars: The New Republic                      FALSE   2014     \n",
       "3164384 Forsaken: A Star Wars Fan Film                   FALSE   2015     \n",
       "NA.2    NA                                                  NA     NA     \n",
       "3273203 Star Wars Begins: A Filmumentary                 FALSE   2011     \n",
       "NA.3    NA                                                  NA     NA     \n",
       "NA.4    NA                                                  NA     NA     \n",
       "NA.5    NA                                                  NA     NA     \n",
       "NA.6    NA                                                  NA     NA     \n",
       "NA.7    NA                                                  NA     NA     \n",
       "NA.8    NA                                                  NA     NA     \n",
       "4191889 Star Wars FanFilm the Padawan I 'The Beginning'  FALSE   2012     \n",
       "4415928 Star Wars: The Fight Against the Dark Side       FALSE   2015     \n",
       "        endyear runtimeminutes genres                    \n",
       "75193   NA      121            Action,Adventure,Fantasy  \n",
       "79009   NA      124            Action,Adventure,Fantasy  \n",
       "84359   NA      131            Action,Adventure,Fantasy  \n",
       "118147  NA      136            Action,Adventure,Fantasy  \n",
       "118872  NA      142            Action,Adventure,Fantasy  \n",
       "118873  NA      140            Action,Adventure,Fantasy  \n",
       "372161  NA       NA            Comedy                    \n",
       "448871  NA       45            Comedy                    \n",
       "1104619 NA       60            Comedy                    \n",
       "1147803 NA       98            Action,Adventure,Animation\n",
       "1385155 NA       46            Adventure,Drama,Sci-Fi    \n",
       "1902486 NA       68            Documentary               \n",
       "2005541 NA       84            Documentary               \n",
       "2186043 NA      110            Action,Adventure,Sci-Fi   \n",
       "2334950 NA      136            Action,Adventure,Fantasy  \n",
       "NA      NA       NA            NA                        \n",
       "NA.1    NA       NA            NA                        \n",
       "2767746 NA       45            Sci-Fi                    \n",
       "2827130 NA       70            Documentary,History,Sci-Fi\n",
       "2898446 NA       NA            Action,Adventure,Sci-Fi   \n",
       "3164384 NA       NA            Adventure,Fantasy,Sci-Fi  \n",
       "NA.2    NA       NA            NA                        \n",
       "3273203 NA      139            Documentary               \n",
       "NA.3    NA       NA            NA                        \n",
       "NA.4    NA       NA            NA                        \n",
       "NA.5    NA       NA            NA                        \n",
       "NA.6    NA       NA            NA                        \n",
       "NA.7    NA       NA            NA                        \n",
       "NA.8    NA       NA            NA                        \n",
       "4191889 NA       NA            Sci-Fi                    \n",
       "4415928 NA       NA            NA                        "
      ]
     },
     "metadata": {},
     "output_type": "display_data"
    }
   ],
   "source": [
    "title_basics_df2"
   ]
  },
  {
   "cell_type": "markdown",
   "metadata": {},
   "source": [
    "Did not like NA's in tconst, let's enhance it"
   ]
  },
  {
   "cell_type": "code",
   "execution_count": 119,
   "metadata": {},
   "outputs": [],
   "source": [
    "title_basics_df3 <- title_basics_df2[\n",
    "    !is.na(title_basics_df2$tconst),\n",
    "]"
   ]
  },
  {
   "cell_type": "code",
   "execution_count": 120,
   "metadata": {},
   "outputs": [
    {
     "data": {
      "text/html": [
       "<table>\n",
       "<thead><tr><th></th><th scope=col>tconst</th><th scope=col>titletype</th><th scope=col>primarytitle</th><th scope=col>originaltitle</th><th scope=col>isadult</th><th scope=col>startyear</th><th scope=col>endyear</th><th scope=col>runtimeminutes</th><th scope=col>genres</th></tr></thead>\n",
       "<tbody>\n",
       "\t<tr><th scope=row>75193</th><td>tt0076759                                       </td><td>movie                                           </td><td>Star Wars: Episode IV - A New Hope              </td><td>Star Wars                                       </td><td>FALSE                                           </td><td>1977                                            </td><td>NA                                              </td><td>121                                             </td><td>Action,Adventure,Fantasy                        </td></tr>\n",
       "\t<tr><th scope=row>79009</th><td>tt0080684                                       </td><td>movie                                           </td><td>Star Wars: Episode V - The Empire Strikes Back  </td><td>Star Wars: Episode V - The Empire Strikes Back  </td><td>FALSE                                           </td><td>1980                                            </td><td>NA                                              </td><td>124                                             </td><td>Action,Adventure,Fantasy                        </td></tr>\n",
       "\t<tr><th scope=row>84359</th><td>tt0086190                                       </td><td>movie                                           </td><td>Star Wars: Episode VI - Return of the Jedi      </td><td>Star Wars: Episode VI - Return of the Jedi      </td><td>FALSE                                           </td><td>1983                                            </td><td>NA                                              </td><td>131                                             </td><td>Action,Adventure,Fantasy                        </td></tr>\n",
       "\t<tr><th scope=row>118147</th><td>tt0120915                                       </td><td>movie                                           </td><td>Star Wars: Episode I - The Phantom Menace       </td><td>Star Wars: Episode I - The Phantom Menace       </td><td>FALSE                                           </td><td>1999                                            </td><td>NA                                              </td><td>136                                             </td><td>Action,Adventure,Fantasy                        </td></tr>\n",
       "\t<tr><th scope=row>118872</th><td>tt0121765                                       </td><td>movie                                           </td><td>Star Wars: Episode II - Attack of the Clones    </td><td>Star Wars: Episode II - Attack of the Clones    </td><td>FALSE                                           </td><td>2002                                            </td><td>NA                                              </td><td>142                                             </td><td>Action,Adventure,Fantasy                        </td></tr>\n",
       "\t<tr><th scope=row>118873</th><td>tt0121766                                       </td><td>movie                                           </td><td>Star Wars: Episode III - Revenge of the Sith    </td><td>Star Wars: Episode III - Revenge of the Sith    </td><td>FALSE                                           </td><td>2005                                            </td><td>NA                                              </td><td>140                                             </td><td>Action,Adventure,Fantasy                        </td></tr>\n",
       "\t<tr><th scope=row>372161</th><td>tt0387563                                       </td><td>movie                                           </td><td>Saving Star Wars                                </td><td>Saving 'Star Wars'                              </td><td>FALSE                                           </td><td>2004                                            </td><td>NA                                              </td><td> NA                                             </td><td>Comedy                                          </td></tr>\n",
       "\t<tr><th scope=row>448871</th><td>tt0466264                                       </td><td>movie                                           </td><td>The Untitled Star Wars Mockumentary             </td><td>The Untitled Star Wars Mockumentary             </td><td>FALSE                                           </td><td>2003                                            </td><td>NA                                              </td><td> 45                                             </td><td>Comedy                                          </td></tr>\n",
       "\t<tr><th scope=row>1104619</th><td>tt1140851                                       </td><td>movie                                           </td><td>Bob Hope's All-Star Look at TV's Prime Time Wars</td><td>Bob Hope's All-Star Look at TV's Prime Time Wars</td><td>FALSE                                           </td><td>1980                                            </td><td>NA                                              </td><td> 60                                             </td><td>Comedy                                          </td></tr>\n",
       "\t<tr><th scope=row>1147803</th><td>tt1185834                                       </td><td>movie                                           </td><td>Star Wars: The Clone Wars                       </td><td>Star Wars: The Clone Wars                       </td><td>FALSE                                           </td><td>2008                                            </td><td>NA                                              </td><td> 98                                             </td><td>Action,Adventure,Animation                      </td></tr>\n",
       "\t<tr><th scope=row>1385155</th><td>tt1432993                                       </td><td>movie                                           </td><td>Star Wars: A Galaxy in Darkness                 </td><td>Star Wars: A Galaxy in Darkness                 </td><td>FALSE                                           </td><td>2009                                            </td><td>NA                                              </td><td> 46                                             </td><td>Adventure,Drama,Sci-Fi                          </td></tr>\n",
       "\t<tr><th scope=row>1902486</th><td>tt1970025                                                                                   </td><td>movie                                                                                       </td><td><span style=white-space:pre-wrap>Star Wars Heroes &amp; Villains                     </span></td><td><span style=white-space:pre-wrap>Star Wars Heroes &amp; Villains                     </span></td><td>FALSE                                                                                       </td><td>2005                                                                                        </td><td>NA                                                                                          </td><td> 68                                                                                         </td><td><span style=white-space:pre-wrap>Documentary               </span>                          </td></tr>\n",
       "\t<tr><th scope=row>2005541</th><td>tt2076340                                       </td><td>movie                                           </td><td>Star Wars: Star Warriors                        </td><td>Star Wars: Star Warriors                        </td><td>FALSE                                           </td><td>2007                                            </td><td>NA                                              </td><td> 84                                             </td><td>Documentary                                     </td></tr>\n",
       "\t<tr><th scope=row>2186043</th><td>tt2275656                                       </td><td>movie                                           </td><td>Star Wars: Threads of Destiny                   </td><td>Star Wars: Threads of Destiny                   </td><td>FALSE                                           </td><td>2014                                            </td><td>NA                                              </td><td>110                                             </td><td>Action,Adventure,Sci-Fi                         </td></tr>\n",
       "\t<tr><th scope=row>2334950</th><td>tt2488496                                       </td><td>movie                                           </td><td>Star Wars: The Force Awakens                    </td><td>Star Wars: Episode VII - The Force Awakens      </td><td>FALSE                                           </td><td>2015                                            </td><td>NA                                              </td><td>136                                             </td><td>Action,Adventure,Fantasy                        </td></tr>\n",
       "\t<tr><th scope=row>2767746</th><td>tt3510476                                       </td><td>movie                                           </td><td>Star Wars: The Force Unleashed II               </td><td>Star Wars: The Force Unleashed II               </td><td>FALSE                                           </td><td>2014                                            </td><td>NA                                              </td><td> 45                                             </td><td>Sci-Fi                                          </td></tr>\n",
       "\t<tr><th scope=row>2827130</th><td>tt3648510                                       </td><td>movie                                           </td><td>Plastic Galaxy: The Story of Star Wars Toys     </td><td>Plastic Galaxy: The Story of Star Wars Toys     </td><td>FALSE                                           </td><td>2014                                            </td><td>NA                                              </td><td> 70                                             </td><td>Documentary,History,Sci-Fi                      </td></tr>\n",
       "\t<tr><th scope=row>2898446</th><td>tt3810772                                       </td><td>movie                                           </td><td>Star Wars: The New Republic                     </td><td>Star Wars: The New Republic                     </td><td>FALSE                                           </td><td>2014                                            </td><td>NA                                              </td><td> NA                                             </td><td>Action,Adventure,Sci-Fi                         </td></tr>\n",
       "\t<tr><th scope=row>3164384</th><td>tt4401260                                       </td><td>movie                                           </td><td>Forsaken: A Star Wars Fan Film                  </td><td>Forsaken: A Star Wars Fan Film                  </td><td>FALSE                                           </td><td>2015                                            </td><td>NA                                              </td><td> NA                                             </td><td>Adventure,Fantasy,Sci-Fi                        </td></tr>\n",
       "\t<tr><th scope=row>3273203</th><td>tt4644286                                       </td><td>movie                                           </td><td>Star Wars Begins: A Filmumentary                </td><td>Star Wars Begins: A Filmumentary                </td><td>FALSE                                           </td><td>2011                                            </td><td>NA                                              </td><td>139                                             </td><td>Documentary                                     </td></tr>\n",
       "\t<tr><th scope=row>4191889</th><td>tt6682462                                       </td><td>movie                                           </td><td>Star Wars FanFilm the Padawan I 'The Beginning' </td><td>Star Wars FanFilm the Padawan I 'The Beginning' </td><td>FALSE                                           </td><td>2012                                            </td><td>NA                                              </td><td> NA                                             </td><td>Sci-Fi                                          </td></tr>\n",
       "\t<tr><th scope=row>4415928</th><td>tt7167614                                       </td><td>movie                                           </td><td>Star Wars: The Fight Against the Dark Side      </td><td>Star Wars: The Fight Against the Dark Side      </td><td>FALSE                                           </td><td>2015                                            </td><td>NA                                              </td><td> NA                                             </td><td>NA                                              </td></tr>\n",
       "</tbody>\n",
       "</table>\n"
      ],
      "text/latex": [
       "\\begin{tabular}{r|lllllllll}\n",
       "  & tconst & titletype & primarytitle & originaltitle & isadult & startyear & endyear & runtimeminutes & genres\\\\\n",
       "\\hline\n",
       "\t75193 & tt0076759                                        & movie                                            & Star Wars: Episode IV - A New Hope               & Star Wars                                        & FALSE                                            & 1977                                             & NA                                               & 121                                              & Action,Adventure,Fantasy                        \\\\\n",
       "\t79009 & tt0080684                                        & movie                                            & Star Wars: Episode V - The Empire Strikes Back   & Star Wars: Episode V - The Empire Strikes Back   & FALSE                                            & 1980                                             & NA                                               & 124                                              & Action,Adventure,Fantasy                        \\\\\n",
       "\t84359 & tt0086190                                        & movie                                            & Star Wars: Episode VI - Return of the Jedi       & Star Wars: Episode VI - Return of the Jedi       & FALSE                                            & 1983                                             & NA                                               & 131                                              & Action,Adventure,Fantasy                        \\\\\n",
       "\t118147 & tt0120915                                        & movie                                            & Star Wars: Episode I - The Phantom Menace        & Star Wars: Episode I - The Phantom Menace        & FALSE                                            & 1999                                             & NA                                               & 136                                              & Action,Adventure,Fantasy                        \\\\\n",
       "\t118872 & tt0121765                                        & movie                                            & Star Wars: Episode II - Attack of the Clones     & Star Wars: Episode II - Attack of the Clones     & FALSE                                            & 2002                                             & NA                                               & 142                                              & Action,Adventure,Fantasy                        \\\\\n",
       "\t118873 & tt0121766                                        & movie                                            & Star Wars: Episode III - Revenge of the Sith     & Star Wars: Episode III - Revenge of the Sith     & FALSE                                            & 2005                                             & NA                                               & 140                                              & Action,Adventure,Fantasy                        \\\\\n",
       "\t372161 & tt0387563                                        & movie                                            & Saving Star Wars                                 & Saving 'Star Wars'                               & FALSE                                            & 2004                                             & NA                                               &  NA                                              & Comedy                                          \\\\\n",
       "\t448871 & tt0466264                                        & movie                                            & The Untitled Star Wars Mockumentary              & The Untitled Star Wars Mockumentary              & FALSE                                            & 2003                                             & NA                                               &  45                                              & Comedy                                          \\\\\n",
       "\t1104619 & tt1140851                                        & movie                                            & Bob Hope's All-Star Look at TV's Prime Time Wars & Bob Hope's All-Star Look at TV's Prime Time Wars & FALSE                                            & 1980                                             & NA                                               &  60                                              & Comedy                                          \\\\\n",
       "\t1147803 & tt1185834                                        & movie                                            & Star Wars: The Clone Wars                        & Star Wars: The Clone Wars                        & FALSE                                            & 2008                                             & NA                                               &  98                                              & Action,Adventure,Animation                      \\\\\n",
       "\t1385155 & tt1432993                                        & movie                                            & Star Wars: A Galaxy in Darkness                  & Star Wars: A Galaxy in Darkness                  & FALSE                                            & 2009                                             & NA                                               &  46                                              & Adventure,Drama,Sci-Fi                          \\\\\n",
       "\t1902486 & tt1970025                                          & movie                                              & Star Wars Heroes \\& Villains                      & Star Wars Heroes \\& Villains                      & FALSE                                              & 2005                                               & NA                                                 &  68                                                & Documentary                                       \\\\\n",
       "\t2005541 & tt2076340                                        & movie                                            & Star Wars: Star Warriors                         & Star Wars: Star Warriors                         & FALSE                                            & 2007                                             & NA                                               &  84                                              & Documentary                                     \\\\\n",
       "\t2186043 & tt2275656                                        & movie                                            & Star Wars: Threads of Destiny                    & Star Wars: Threads of Destiny                    & FALSE                                            & 2014                                             & NA                                               & 110                                              & Action,Adventure,Sci-Fi                         \\\\\n",
       "\t2334950 & tt2488496                                        & movie                                            & Star Wars: The Force Awakens                     & Star Wars: Episode VII - The Force Awakens       & FALSE                                            & 2015                                             & NA                                               & 136                                              & Action,Adventure,Fantasy                        \\\\\n",
       "\t2767746 & tt3510476                                        & movie                                            & Star Wars: The Force Unleashed II                & Star Wars: The Force Unleashed II                & FALSE                                            & 2014                                             & NA                                               &  45                                              & Sci-Fi                                          \\\\\n",
       "\t2827130 & tt3648510                                        & movie                                            & Plastic Galaxy: The Story of Star Wars Toys      & Plastic Galaxy: The Story of Star Wars Toys      & FALSE                                            & 2014                                             & NA                                               &  70                                              & Documentary,History,Sci-Fi                      \\\\\n",
       "\t2898446 & tt3810772                                        & movie                                            & Star Wars: The New Republic                      & Star Wars: The New Republic                      & FALSE                                            & 2014                                             & NA                                               &  NA                                              & Action,Adventure,Sci-Fi                         \\\\\n",
       "\t3164384 & tt4401260                                        & movie                                            & Forsaken: A Star Wars Fan Film                   & Forsaken: A Star Wars Fan Film                   & FALSE                                            & 2015                                             & NA                                               &  NA                                              & Adventure,Fantasy,Sci-Fi                        \\\\\n",
       "\t3273203 & tt4644286                                        & movie                                            & Star Wars Begins: A Filmumentary                 & Star Wars Begins: A Filmumentary                 & FALSE                                            & 2011                                             & NA                                               & 139                                              & Documentary                                     \\\\\n",
       "\t4191889 & tt6682462                                        & movie                                            & Star Wars FanFilm the Padawan I 'The Beginning'  & Star Wars FanFilm the Padawan I 'The Beginning'  & FALSE                                            & 2012                                             & NA                                               &  NA                                              & Sci-Fi                                          \\\\\n",
       "\t4415928 & tt7167614                                        & movie                                            & Star Wars: The Fight Against the Dark Side       & Star Wars: The Fight Against the Dark Side       & FALSE                                            & 2015                                             & NA                                               &  NA                                              & NA                                              \\\\\n",
       "\\end{tabular}\n"
      ],
      "text/markdown": [
       "\n",
       "| <!--/--> | tconst | titletype | primarytitle | originaltitle | isadult | startyear | endyear | runtimeminutes | genres | \n",
       "|---|---|---|---|---|---|---|---|---|---|---|---|---|---|---|---|---|---|---|---|---|---|\n",
       "| 75193 | tt0076759                                        | movie                                            | Star Wars: Episode IV - A New Hope               | Star Wars                                        | FALSE                                            | 1977                                             | NA                                               | 121                                              | Action,Adventure,Fantasy                         | \n",
       "| 79009 | tt0080684                                        | movie                                            | Star Wars: Episode V - The Empire Strikes Back   | Star Wars: Episode V - The Empire Strikes Back   | FALSE                                            | 1980                                             | NA                                               | 124                                              | Action,Adventure,Fantasy                         | \n",
       "| 84359 | tt0086190                                        | movie                                            | Star Wars: Episode VI - Return of the Jedi       | Star Wars: Episode VI - Return of the Jedi       | FALSE                                            | 1983                                             | NA                                               | 131                                              | Action,Adventure,Fantasy                         | \n",
       "| 118147 | tt0120915                                        | movie                                            | Star Wars: Episode I - The Phantom Menace        | Star Wars: Episode I - The Phantom Menace        | FALSE                                            | 1999                                             | NA                                               | 136                                              | Action,Adventure,Fantasy                         | \n",
       "| 118872 | tt0121765                                        | movie                                            | Star Wars: Episode II - Attack of the Clones     | Star Wars: Episode II - Attack of the Clones     | FALSE                                            | 2002                                             | NA                                               | 142                                              | Action,Adventure,Fantasy                         | \n",
       "| 118873 | tt0121766                                        | movie                                            | Star Wars: Episode III - Revenge of the Sith     | Star Wars: Episode III - Revenge of the Sith     | FALSE                                            | 2005                                             | NA                                               | 140                                              | Action,Adventure,Fantasy                         | \n",
       "| 372161 | tt0387563                                        | movie                                            | Saving Star Wars                                 | Saving 'Star Wars'                               | FALSE                                            | 2004                                             | NA                                               |  NA                                              | Comedy                                           | \n",
       "| 448871 | tt0466264                                        | movie                                            | The Untitled Star Wars Mockumentary              | The Untitled Star Wars Mockumentary              | FALSE                                            | 2003                                             | NA                                               |  45                                              | Comedy                                           | \n",
       "| 1104619 | tt1140851                                        | movie                                            | Bob Hope's All-Star Look at TV's Prime Time Wars | Bob Hope's All-Star Look at TV's Prime Time Wars | FALSE                                            | 1980                                             | NA                                               |  60                                              | Comedy                                           | \n",
       "| 1147803 | tt1185834                                        | movie                                            | Star Wars: The Clone Wars                        | Star Wars: The Clone Wars                        | FALSE                                            | 2008                                             | NA                                               |  98                                              | Action,Adventure,Animation                       | \n",
       "| 1385155 | tt1432993                                        | movie                                            | Star Wars: A Galaxy in Darkness                  | Star Wars: A Galaxy in Darkness                  | FALSE                                            | 2009                                             | NA                                               |  46                                              | Adventure,Drama,Sci-Fi                           | \n",
       "| 1902486 | tt1970025                                        | movie                                            | Star Wars Heroes & Villains                      | Star Wars Heroes & Villains                      | FALSE                                            | 2005                                             | NA                                               |  68                                              | Documentary                                      | \n",
       "| 2005541 | tt2076340                                        | movie                                            | Star Wars: Star Warriors                         | Star Wars: Star Warriors                         | FALSE                                            | 2007                                             | NA                                               |  84                                              | Documentary                                      | \n",
       "| 2186043 | tt2275656                                        | movie                                            | Star Wars: Threads of Destiny                    | Star Wars: Threads of Destiny                    | FALSE                                            | 2014                                             | NA                                               | 110                                              | Action,Adventure,Sci-Fi                          | \n",
       "| 2334950 | tt2488496                                        | movie                                            | Star Wars: The Force Awakens                     | Star Wars: Episode VII - The Force Awakens       | FALSE                                            | 2015                                             | NA                                               | 136                                              | Action,Adventure,Fantasy                         | \n",
       "| 2767746 | tt3510476                                        | movie                                            | Star Wars: The Force Unleashed II                | Star Wars: The Force Unleashed II                | FALSE                                            | 2014                                             | NA                                               |  45                                              | Sci-Fi                                           | \n",
       "| 2827130 | tt3648510                                        | movie                                            | Plastic Galaxy: The Story of Star Wars Toys      | Plastic Galaxy: The Story of Star Wars Toys      | FALSE                                            | 2014                                             | NA                                               |  70                                              | Documentary,History,Sci-Fi                       | \n",
       "| 2898446 | tt3810772                                        | movie                                            | Star Wars: The New Republic                      | Star Wars: The New Republic                      | FALSE                                            | 2014                                             | NA                                               |  NA                                              | Action,Adventure,Sci-Fi                          | \n",
       "| 3164384 | tt4401260                                        | movie                                            | Forsaken: A Star Wars Fan Film                   | Forsaken: A Star Wars Fan Film                   | FALSE                                            | 2015                                             | NA                                               |  NA                                              | Adventure,Fantasy,Sci-Fi                         | \n",
       "| 3273203 | tt4644286                                        | movie                                            | Star Wars Begins: A Filmumentary                 | Star Wars Begins: A Filmumentary                 | FALSE                                            | 2011                                             | NA                                               | 139                                              | Documentary                                      | \n",
       "| 4191889 | tt6682462                                        | movie                                            | Star Wars FanFilm the Padawan I 'The Beginning'  | Star Wars FanFilm the Padawan I 'The Beginning'  | FALSE                                            | 2012                                             | NA                                               |  NA                                              | Sci-Fi                                           | \n",
       "| 4415928 | tt7167614                                        | movie                                            | Star Wars: The Fight Against the Dark Side       | Star Wars: The Fight Against the Dark Side       | FALSE                                            | 2015                                             | NA                                               |  NA                                              | NA                                               | \n",
       "\n",
       "\n"
      ],
      "text/plain": [
       "        tconst    titletype primarytitle                                    \n",
       "75193   tt0076759 movie     Star Wars: Episode IV - A New Hope              \n",
       "79009   tt0080684 movie     Star Wars: Episode V - The Empire Strikes Back  \n",
       "84359   tt0086190 movie     Star Wars: Episode VI - Return of the Jedi      \n",
       "118147  tt0120915 movie     Star Wars: Episode I - The Phantom Menace       \n",
       "118872  tt0121765 movie     Star Wars: Episode II - Attack of the Clones    \n",
       "118873  tt0121766 movie     Star Wars: Episode III - Revenge of the Sith    \n",
       "372161  tt0387563 movie     Saving Star Wars                                \n",
       "448871  tt0466264 movie     The Untitled Star Wars Mockumentary             \n",
       "1104619 tt1140851 movie     Bob Hope's All-Star Look at TV's Prime Time Wars\n",
       "1147803 tt1185834 movie     Star Wars: The Clone Wars                       \n",
       "1385155 tt1432993 movie     Star Wars: A Galaxy in Darkness                 \n",
       "1902486 tt1970025 movie     Star Wars Heroes & Villains                     \n",
       "2005541 tt2076340 movie     Star Wars: Star Warriors                        \n",
       "2186043 tt2275656 movie     Star Wars: Threads of Destiny                   \n",
       "2334950 tt2488496 movie     Star Wars: The Force Awakens                    \n",
       "2767746 tt3510476 movie     Star Wars: The Force Unleashed II               \n",
       "2827130 tt3648510 movie     Plastic Galaxy: The Story of Star Wars Toys     \n",
       "2898446 tt3810772 movie     Star Wars: The New Republic                     \n",
       "3164384 tt4401260 movie     Forsaken: A Star Wars Fan Film                  \n",
       "3273203 tt4644286 movie     Star Wars Begins: A Filmumentary                \n",
       "4191889 tt6682462 movie     Star Wars FanFilm the Padawan I 'The Beginning' \n",
       "4415928 tt7167614 movie     Star Wars: The Fight Against the Dark Side      \n",
       "        originaltitle                                    isadult startyear\n",
       "75193   Star Wars                                        FALSE   1977     \n",
       "79009   Star Wars: Episode V - The Empire Strikes Back   FALSE   1980     \n",
       "84359   Star Wars: Episode VI - Return of the Jedi       FALSE   1983     \n",
       "118147  Star Wars: Episode I - The Phantom Menace        FALSE   1999     \n",
       "118872  Star Wars: Episode II - Attack of the Clones     FALSE   2002     \n",
       "118873  Star Wars: Episode III - Revenge of the Sith     FALSE   2005     \n",
       "372161  Saving 'Star Wars'                               FALSE   2004     \n",
       "448871  The Untitled Star Wars Mockumentary              FALSE   2003     \n",
       "1104619 Bob Hope's All-Star Look at TV's Prime Time Wars FALSE   1980     \n",
       "1147803 Star Wars: The Clone Wars                        FALSE   2008     \n",
       "1385155 Star Wars: A Galaxy in Darkness                  FALSE   2009     \n",
       "1902486 Star Wars Heroes & Villains                      FALSE   2005     \n",
       "2005541 Star Wars: Star Warriors                         FALSE   2007     \n",
       "2186043 Star Wars: Threads of Destiny                    FALSE   2014     \n",
       "2334950 Star Wars: Episode VII - The Force Awakens       FALSE   2015     \n",
       "2767746 Star Wars: The Force Unleashed II                FALSE   2014     \n",
       "2827130 Plastic Galaxy: The Story of Star Wars Toys      FALSE   2014     \n",
       "2898446 Star Wars: The New Republic                      FALSE   2014     \n",
       "3164384 Forsaken: A Star Wars Fan Film                   FALSE   2015     \n",
       "3273203 Star Wars Begins: A Filmumentary                 FALSE   2011     \n",
       "4191889 Star Wars FanFilm the Padawan I 'The Beginning'  FALSE   2012     \n",
       "4415928 Star Wars: The Fight Against the Dark Side       FALSE   2015     \n",
       "        endyear runtimeminutes genres                    \n",
       "75193   NA      121            Action,Adventure,Fantasy  \n",
       "79009   NA      124            Action,Adventure,Fantasy  \n",
       "84359   NA      131            Action,Adventure,Fantasy  \n",
       "118147  NA      136            Action,Adventure,Fantasy  \n",
       "118872  NA      142            Action,Adventure,Fantasy  \n",
       "118873  NA      140            Action,Adventure,Fantasy  \n",
       "372161  NA       NA            Comedy                    \n",
       "448871  NA       45            Comedy                    \n",
       "1104619 NA       60            Comedy                    \n",
       "1147803 NA       98            Action,Adventure,Animation\n",
       "1385155 NA       46            Adventure,Drama,Sci-Fi    \n",
       "1902486 NA       68            Documentary               \n",
       "2005541 NA       84            Documentary               \n",
       "2186043 NA      110            Action,Adventure,Sci-Fi   \n",
       "2334950 NA      136            Action,Adventure,Fantasy  \n",
       "2767746 NA       45            Sci-Fi                    \n",
       "2827130 NA       70            Documentary,History,Sci-Fi\n",
       "2898446 NA       NA            Action,Adventure,Sci-Fi   \n",
       "3164384 NA       NA            Adventure,Fantasy,Sci-Fi  \n",
       "3273203 NA      139            Documentary               \n",
       "4191889 NA       NA            Sci-Fi                    \n",
       "4415928 NA       NA            NA                        "
      ]
     },
     "metadata": {},
     "output_type": "display_data"
    }
   ],
   "source": [
    "title_basics_df3"
   ]
  },
  {
   "cell_type": "markdown",
   "metadata": {},
   "source": [
    "Much better!"
   ]
  },
  {
   "cell_type": "markdown",
   "metadata": {},
   "source": [
    "Now let's write this data frame into our imdb2 database as a new table"
   ]
  },
  {
   "cell_type": "code",
   "execution_count": 122,
   "metadata": {},
   "outputs": [
    {
     "data": {
      "text/html": [
       "TRUE"
      ],
      "text/latex": [
       "TRUE"
      ],
      "text/markdown": [
       "TRUE"
      ],
      "text/plain": [
       "[1] TRUE"
      ]
     },
     "metadata": {},
     "output_type": "display_data"
    }
   ],
   "source": [
    "dbWriteTable(con, \"star_wars\", value = title_basics_df3, append = TRUE, row.names = FALSE)"
   ]
  },
  {
   "cell_type": "markdown",
   "metadata": {},
   "source": [
    "Check whether table is created:"
   ]
  },
  {
   "cell_type": "code",
   "execution_count": 136,
   "metadata": {},
   "outputs": [
    {
     "data": {
      "text/html": [
       "TRUE"
      ],
      "text/latex": [
       "TRUE"
      ],
      "text/markdown": [
       "TRUE"
      ],
      "text/plain": [
       "[1] TRUE"
      ]
     },
     "metadata": {},
     "output_type": "display_data"
    }
   ],
   "source": [
    "dbExistsTable(con, \"star_wars\")"
   ]
  },
  {
   "cell_type": "markdown",
   "metadata": {},
   "source": [
    "And read from the database again"
   ]
  },
  {
   "cell_type": "code",
   "execution_count": 126,
   "metadata": {},
   "outputs": [
    {
     "data": {
      "text/html": [
       "<table>\n",
       "<thead><tr><th scope=col>tconst</th><th scope=col>titletype</th><th scope=col>primarytitle</th><th scope=col>originaltitle</th><th scope=col>isadult</th><th scope=col>startyear</th><th scope=col>endyear</th><th scope=col>runtimeminutes</th><th scope=col>genres</th></tr></thead>\n",
       "<tbody>\n",
       "\t<tr><td>tt0076759                                       </td><td>movie                                           </td><td>Star Wars: Episode IV - A New Hope              </td><td>Star Wars                                       </td><td>FALSE                                           </td><td>1977                                            </td><td>NA                                              </td><td>121                                             </td><td>Action,Adventure,Fantasy                        </td></tr>\n",
       "\t<tr><td>tt0080684                                       </td><td>movie                                           </td><td>Star Wars: Episode V - The Empire Strikes Back  </td><td>Star Wars: Episode V - The Empire Strikes Back  </td><td>FALSE                                           </td><td>1980                                            </td><td>NA                                              </td><td>124                                             </td><td>Action,Adventure,Fantasy                        </td></tr>\n",
       "\t<tr><td>tt0086190                                       </td><td>movie                                           </td><td>Star Wars: Episode VI - Return of the Jedi      </td><td>Star Wars: Episode VI - Return of the Jedi      </td><td>FALSE                                           </td><td>1983                                            </td><td>NA                                              </td><td>131                                             </td><td>Action,Adventure,Fantasy                        </td></tr>\n",
       "\t<tr><td>tt0120915                                       </td><td>movie                                           </td><td>Star Wars: Episode I - The Phantom Menace       </td><td>Star Wars: Episode I - The Phantom Menace       </td><td>FALSE                                           </td><td>1999                                            </td><td>NA                                              </td><td>136                                             </td><td>Action,Adventure,Fantasy                        </td></tr>\n",
       "\t<tr><td>tt0121765                                       </td><td>movie                                           </td><td>Star Wars: Episode II - Attack of the Clones    </td><td>Star Wars: Episode II - Attack of the Clones    </td><td>FALSE                                           </td><td>2002                                            </td><td>NA                                              </td><td>142                                             </td><td>Action,Adventure,Fantasy                        </td></tr>\n",
       "\t<tr><td>tt0121766                                       </td><td>movie                                           </td><td>Star Wars: Episode III - Revenge of the Sith    </td><td>Star Wars: Episode III - Revenge of the Sith    </td><td>FALSE                                           </td><td>2005                                            </td><td>NA                                              </td><td>140                                             </td><td>Action,Adventure,Fantasy                        </td></tr>\n",
       "\t<tr><td>tt0387563                                       </td><td>movie                                           </td><td>Saving Star Wars                                </td><td>Saving 'Star Wars'                              </td><td>FALSE                                           </td><td>2004                                            </td><td>NA                                              </td><td> NA                                             </td><td>Comedy                                          </td></tr>\n",
       "\t<tr><td>tt0466264                                       </td><td>movie                                           </td><td>The Untitled Star Wars Mockumentary             </td><td>The Untitled Star Wars Mockumentary             </td><td>FALSE                                           </td><td>2003                                            </td><td>NA                                              </td><td> 45                                             </td><td>Comedy                                          </td></tr>\n",
       "\t<tr><td>tt1140851                                       </td><td>movie                                           </td><td>Bob Hope's All-Star Look at TV's Prime Time Wars</td><td>Bob Hope's All-Star Look at TV's Prime Time Wars</td><td>FALSE                                           </td><td>1980                                            </td><td>NA                                              </td><td> 60                                             </td><td>Comedy                                          </td></tr>\n",
       "\t<tr><td>tt1185834                                       </td><td>movie                                           </td><td>Star Wars: The Clone Wars                       </td><td>Star Wars: The Clone Wars                       </td><td>FALSE                                           </td><td>2008                                            </td><td>NA                                              </td><td> 98                                             </td><td>Action,Adventure,Animation                      </td></tr>\n",
       "\t<tr><td>tt1432993                                       </td><td>movie                                           </td><td>Star Wars: A Galaxy in Darkness                 </td><td>Star Wars: A Galaxy in Darkness                 </td><td>FALSE                                           </td><td>2009                                            </td><td>NA                                              </td><td> 46                                             </td><td>Adventure,Drama,Sci-Fi                          </td></tr>\n",
       "\t<tr><td>tt1970025                                                                                   </td><td>movie                                                                                       </td><td><span style=white-space:pre-wrap>Star Wars Heroes &amp; Villains                     </span></td><td><span style=white-space:pre-wrap>Star Wars Heroes &amp; Villains                     </span></td><td>FALSE                                                                                       </td><td>2005                                                                                        </td><td>NA                                                                                          </td><td> 68                                                                                         </td><td><span style=white-space:pre-wrap>Documentary               </span>                          </td></tr>\n",
       "\t<tr><td>tt2076340                                       </td><td>movie                                           </td><td>Star Wars: Star Warriors                        </td><td>Star Wars: Star Warriors                        </td><td>FALSE                                           </td><td>2007                                            </td><td>NA                                              </td><td> 84                                             </td><td>Documentary                                     </td></tr>\n",
       "\t<tr><td>tt2275656                                       </td><td>movie                                           </td><td>Star Wars: Threads of Destiny                   </td><td>Star Wars: Threads of Destiny                   </td><td>FALSE                                           </td><td>2014                                            </td><td>NA                                              </td><td>110                                             </td><td>Action,Adventure,Sci-Fi                         </td></tr>\n",
       "\t<tr><td>tt2488496                                       </td><td>movie                                           </td><td>Star Wars: The Force Awakens                    </td><td>Star Wars: Episode VII - The Force Awakens      </td><td>FALSE                                           </td><td>2015                                            </td><td>NA                                              </td><td>136                                             </td><td>Action,Adventure,Fantasy                        </td></tr>\n",
       "\t<tr><td>tt3510476                                       </td><td>movie                                           </td><td>Star Wars: The Force Unleashed II               </td><td>Star Wars: The Force Unleashed II               </td><td>FALSE                                           </td><td>2014                                            </td><td>NA                                              </td><td> 45                                             </td><td>Sci-Fi                                          </td></tr>\n",
       "\t<tr><td>tt3648510                                       </td><td>movie                                           </td><td>Plastic Galaxy: The Story of Star Wars Toys     </td><td>Plastic Galaxy: The Story of Star Wars Toys     </td><td>FALSE                                           </td><td>2014                                            </td><td>NA                                              </td><td> 70                                             </td><td>Documentary,History,Sci-Fi                      </td></tr>\n",
       "\t<tr><td>tt3810772                                       </td><td>movie                                           </td><td>Star Wars: The New Republic                     </td><td>Star Wars: The New Republic                     </td><td>FALSE                                           </td><td>2014                                            </td><td>NA                                              </td><td> NA                                             </td><td>Action,Adventure,Sci-Fi                         </td></tr>\n",
       "\t<tr><td>tt4401260                                       </td><td>movie                                           </td><td>Forsaken: A Star Wars Fan Film                  </td><td>Forsaken: A Star Wars Fan Film                  </td><td>FALSE                                           </td><td>2015                                            </td><td>NA                                              </td><td> NA                                             </td><td>Adventure,Fantasy,Sci-Fi                        </td></tr>\n",
       "\t<tr><td>tt4644286                                       </td><td>movie                                           </td><td>Star Wars Begins: A Filmumentary                </td><td>Star Wars Begins: A Filmumentary                </td><td>FALSE                                           </td><td>2011                                            </td><td>NA                                              </td><td>139                                             </td><td>Documentary                                     </td></tr>\n",
       "\t<tr><td>tt6682462                                       </td><td>movie                                           </td><td>Star Wars FanFilm the Padawan I 'The Beginning' </td><td>Star Wars FanFilm the Padawan I 'The Beginning' </td><td>FALSE                                           </td><td>2012                                            </td><td>NA                                              </td><td> NA                                             </td><td>Sci-Fi                                          </td></tr>\n",
       "\t<tr><td>tt7167614                                       </td><td>movie                                           </td><td>Star Wars: The Fight Against the Dark Side      </td><td>Star Wars: The Fight Against the Dark Side      </td><td>FALSE                                           </td><td>2015                                            </td><td>NA                                              </td><td> NA                                             </td><td>NA                                              </td></tr>\n",
       "</tbody>\n",
       "</table>\n"
      ],
      "text/latex": [
       "\\begin{tabular}{r|lllllllll}\n",
       " tconst & titletype & primarytitle & originaltitle & isadult & startyear & endyear & runtimeminutes & genres\\\\\n",
       "\\hline\n",
       "\t tt0076759                                        & movie                                            & Star Wars: Episode IV - A New Hope               & Star Wars                                        & FALSE                                            & 1977                                             & NA                                               & 121                                              & Action,Adventure,Fantasy                        \\\\\n",
       "\t tt0080684                                        & movie                                            & Star Wars: Episode V - The Empire Strikes Back   & Star Wars: Episode V - The Empire Strikes Back   & FALSE                                            & 1980                                             & NA                                               & 124                                              & Action,Adventure,Fantasy                        \\\\\n",
       "\t tt0086190                                        & movie                                            & Star Wars: Episode VI - Return of the Jedi       & Star Wars: Episode VI - Return of the Jedi       & FALSE                                            & 1983                                             & NA                                               & 131                                              & Action,Adventure,Fantasy                        \\\\\n",
       "\t tt0120915                                        & movie                                            & Star Wars: Episode I - The Phantom Menace        & Star Wars: Episode I - The Phantom Menace        & FALSE                                            & 1999                                             & NA                                               & 136                                              & Action,Adventure,Fantasy                        \\\\\n",
       "\t tt0121765                                        & movie                                            & Star Wars: Episode II - Attack of the Clones     & Star Wars: Episode II - Attack of the Clones     & FALSE                                            & 2002                                             & NA                                               & 142                                              & Action,Adventure,Fantasy                        \\\\\n",
       "\t tt0121766                                        & movie                                            & Star Wars: Episode III - Revenge of the Sith     & Star Wars: Episode III - Revenge of the Sith     & FALSE                                            & 2005                                             & NA                                               & 140                                              & Action,Adventure,Fantasy                        \\\\\n",
       "\t tt0387563                                        & movie                                            & Saving Star Wars                                 & Saving 'Star Wars'                               & FALSE                                            & 2004                                             & NA                                               &  NA                                              & Comedy                                          \\\\\n",
       "\t tt0466264                                        & movie                                            & The Untitled Star Wars Mockumentary              & The Untitled Star Wars Mockumentary              & FALSE                                            & 2003                                             & NA                                               &  45                                              & Comedy                                          \\\\\n",
       "\t tt1140851                                        & movie                                            & Bob Hope's All-Star Look at TV's Prime Time Wars & Bob Hope's All-Star Look at TV's Prime Time Wars & FALSE                                            & 1980                                             & NA                                               &  60                                              & Comedy                                          \\\\\n",
       "\t tt1185834                                        & movie                                            & Star Wars: The Clone Wars                        & Star Wars: The Clone Wars                        & FALSE                                            & 2008                                             & NA                                               &  98                                              & Action,Adventure,Animation                      \\\\\n",
       "\t tt1432993                                        & movie                                            & Star Wars: A Galaxy in Darkness                  & Star Wars: A Galaxy in Darkness                  & FALSE                                            & 2009                                             & NA                                               &  46                                              & Adventure,Drama,Sci-Fi                          \\\\\n",
       "\t tt1970025                                          & movie                                              & Star Wars Heroes \\& Villains                      & Star Wars Heroes \\& Villains                      & FALSE                                              & 2005                                               & NA                                                 &  68                                                & Documentary                                       \\\\\n",
       "\t tt2076340                                        & movie                                            & Star Wars: Star Warriors                         & Star Wars: Star Warriors                         & FALSE                                            & 2007                                             & NA                                               &  84                                              & Documentary                                     \\\\\n",
       "\t tt2275656                                        & movie                                            & Star Wars: Threads of Destiny                    & Star Wars: Threads of Destiny                    & FALSE                                            & 2014                                             & NA                                               & 110                                              & Action,Adventure,Sci-Fi                         \\\\\n",
       "\t tt2488496                                        & movie                                            & Star Wars: The Force Awakens                     & Star Wars: Episode VII - The Force Awakens       & FALSE                                            & 2015                                             & NA                                               & 136                                              & Action,Adventure,Fantasy                        \\\\\n",
       "\t tt3510476                                        & movie                                            & Star Wars: The Force Unleashed II                & Star Wars: The Force Unleashed II                & FALSE                                            & 2014                                             & NA                                               &  45                                              & Sci-Fi                                          \\\\\n",
       "\t tt3648510                                        & movie                                            & Plastic Galaxy: The Story of Star Wars Toys      & Plastic Galaxy: The Story of Star Wars Toys      & FALSE                                            & 2014                                             & NA                                               &  70                                              & Documentary,History,Sci-Fi                      \\\\\n",
       "\t tt3810772                                        & movie                                            & Star Wars: The New Republic                      & Star Wars: The New Republic                      & FALSE                                            & 2014                                             & NA                                               &  NA                                              & Action,Adventure,Sci-Fi                         \\\\\n",
       "\t tt4401260                                        & movie                                            & Forsaken: A Star Wars Fan Film                   & Forsaken: A Star Wars Fan Film                   & FALSE                                            & 2015                                             & NA                                               &  NA                                              & Adventure,Fantasy,Sci-Fi                        \\\\\n",
       "\t tt4644286                                        & movie                                            & Star Wars Begins: A Filmumentary                 & Star Wars Begins: A Filmumentary                 & FALSE                                            & 2011                                             & NA                                               & 139                                              & Documentary                                     \\\\\n",
       "\t tt6682462                                        & movie                                            & Star Wars FanFilm the Padawan I 'The Beginning'  & Star Wars FanFilm the Padawan I 'The Beginning'  & FALSE                                            & 2012                                             & NA                                               &  NA                                              & Sci-Fi                                          \\\\\n",
       "\t tt7167614                                        & movie                                            & Star Wars: The Fight Against the Dark Side       & Star Wars: The Fight Against the Dark Side       & FALSE                                            & 2015                                             & NA                                               &  NA                                              & NA                                              \\\\\n",
       "\\end{tabular}\n"
      ],
      "text/markdown": [
       "\n",
       "tconst | titletype | primarytitle | originaltitle | isadult | startyear | endyear | runtimeminutes | genres | \n",
       "|---|---|---|---|---|---|---|---|---|---|---|---|---|---|---|---|---|---|---|---|---|---|\n",
       "| tt0076759                                        | movie                                            | Star Wars: Episode IV - A New Hope               | Star Wars                                        | FALSE                                            | 1977                                             | NA                                               | 121                                              | Action,Adventure,Fantasy                         | \n",
       "| tt0080684                                        | movie                                            | Star Wars: Episode V - The Empire Strikes Back   | Star Wars: Episode V - The Empire Strikes Back   | FALSE                                            | 1980                                             | NA                                               | 124                                              | Action,Adventure,Fantasy                         | \n",
       "| tt0086190                                        | movie                                            | Star Wars: Episode VI - Return of the Jedi       | Star Wars: Episode VI - Return of the Jedi       | FALSE                                            | 1983                                             | NA                                               | 131                                              | Action,Adventure,Fantasy                         | \n",
       "| tt0120915                                        | movie                                            | Star Wars: Episode I - The Phantom Menace        | Star Wars: Episode I - The Phantom Menace        | FALSE                                            | 1999                                             | NA                                               | 136                                              | Action,Adventure,Fantasy                         | \n",
       "| tt0121765                                        | movie                                            | Star Wars: Episode II - Attack of the Clones     | Star Wars: Episode II - Attack of the Clones     | FALSE                                            | 2002                                             | NA                                               | 142                                              | Action,Adventure,Fantasy                         | \n",
       "| tt0121766                                        | movie                                            | Star Wars: Episode III - Revenge of the Sith     | Star Wars: Episode III - Revenge of the Sith     | FALSE                                            | 2005                                             | NA                                               | 140                                              | Action,Adventure,Fantasy                         | \n",
       "| tt0387563                                        | movie                                            | Saving Star Wars                                 | Saving 'Star Wars'                               | FALSE                                            | 2004                                             | NA                                               |  NA                                              | Comedy                                           | \n",
       "| tt0466264                                        | movie                                            | The Untitled Star Wars Mockumentary              | The Untitled Star Wars Mockumentary              | FALSE                                            | 2003                                             | NA                                               |  45                                              | Comedy                                           | \n",
       "| tt1140851                                        | movie                                            | Bob Hope's All-Star Look at TV's Prime Time Wars | Bob Hope's All-Star Look at TV's Prime Time Wars | FALSE                                            | 1980                                             | NA                                               |  60                                              | Comedy                                           | \n",
       "| tt1185834                                        | movie                                            | Star Wars: The Clone Wars                        | Star Wars: The Clone Wars                        | FALSE                                            | 2008                                             | NA                                               |  98                                              | Action,Adventure,Animation                       | \n",
       "| tt1432993                                        | movie                                            | Star Wars: A Galaxy in Darkness                  | Star Wars: A Galaxy in Darkness                  | FALSE                                            | 2009                                             | NA                                               |  46                                              | Adventure,Drama,Sci-Fi                           | \n",
       "| tt1970025                                        | movie                                            | Star Wars Heroes & Villains                      | Star Wars Heroes & Villains                      | FALSE                                            | 2005                                             | NA                                               |  68                                              | Documentary                                      | \n",
       "| tt2076340                                        | movie                                            | Star Wars: Star Warriors                         | Star Wars: Star Warriors                         | FALSE                                            | 2007                                             | NA                                               |  84                                              | Documentary                                      | \n",
       "| tt2275656                                        | movie                                            | Star Wars: Threads of Destiny                    | Star Wars: Threads of Destiny                    | FALSE                                            | 2014                                             | NA                                               | 110                                              | Action,Adventure,Sci-Fi                          | \n",
       "| tt2488496                                        | movie                                            | Star Wars: The Force Awakens                     | Star Wars: Episode VII - The Force Awakens       | FALSE                                            | 2015                                             | NA                                               | 136                                              | Action,Adventure,Fantasy                         | \n",
       "| tt3510476                                        | movie                                            | Star Wars: The Force Unleashed II                | Star Wars: The Force Unleashed II                | FALSE                                            | 2014                                             | NA                                               |  45                                              | Sci-Fi                                           | \n",
       "| tt3648510                                        | movie                                            | Plastic Galaxy: The Story of Star Wars Toys      | Plastic Galaxy: The Story of Star Wars Toys      | FALSE                                            | 2014                                             | NA                                               |  70                                              | Documentary,History,Sci-Fi                       | \n",
       "| tt3810772                                        | movie                                            | Star Wars: The New Republic                      | Star Wars: The New Republic                      | FALSE                                            | 2014                                             | NA                                               |  NA                                              | Action,Adventure,Sci-Fi                          | \n",
       "| tt4401260                                        | movie                                            | Forsaken: A Star Wars Fan Film                   | Forsaken: A Star Wars Fan Film                   | FALSE                                            | 2015                                             | NA                                               |  NA                                              | Adventure,Fantasy,Sci-Fi                         | \n",
       "| tt4644286                                        | movie                                            | Star Wars Begins: A Filmumentary                 | Star Wars Begins: A Filmumentary                 | FALSE                                            | 2011                                             | NA                                               | 139                                              | Documentary                                      | \n",
       "| tt6682462                                        | movie                                            | Star Wars FanFilm the Padawan I 'The Beginning'  | Star Wars FanFilm the Padawan I 'The Beginning'  | FALSE                                            | 2012                                             | NA                                               |  NA                                              | Sci-Fi                                           | \n",
       "| tt7167614                                        | movie                                            | Star Wars: The Fight Against the Dark Side       | Star Wars: The Fight Against the Dark Side       | FALSE                                            | 2015                                             | NA                                               |  NA                                              | NA                                               | \n",
       "\n",
       "\n"
      ],
      "text/plain": [
       "   tconst    titletype primarytitle                                    \n",
       "1  tt0076759 movie     Star Wars: Episode IV - A New Hope              \n",
       "2  tt0080684 movie     Star Wars: Episode V - The Empire Strikes Back  \n",
       "3  tt0086190 movie     Star Wars: Episode VI - Return of the Jedi      \n",
       "4  tt0120915 movie     Star Wars: Episode I - The Phantom Menace       \n",
       "5  tt0121765 movie     Star Wars: Episode II - Attack of the Clones    \n",
       "6  tt0121766 movie     Star Wars: Episode III - Revenge of the Sith    \n",
       "7  tt0387563 movie     Saving Star Wars                                \n",
       "8  tt0466264 movie     The Untitled Star Wars Mockumentary             \n",
       "9  tt1140851 movie     Bob Hope's All-Star Look at TV's Prime Time Wars\n",
       "10 tt1185834 movie     Star Wars: The Clone Wars                       \n",
       "11 tt1432993 movie     Star Wars: A Galaxy in Darkness                 \n",
       "12 tt1970025 movie     Star Wars Heroes & Villains                     \n",
       "13 tt2076340 movie     Star Wars: Star Warriors                        \n",
       "14 tt2275656 movie     Star Wars: Threads of Destiny                   \n",
       "15 tt2488496 movie     Star Wars: The Force Awakens                    \n",
       "16 tt3510476 movie     Star Wars: The Force Unleashed II               \n",
       "17 tt3648510 movie     Plastic Galaxy: The Story of Star Wars Toys     \n",
       "18 tt3810772 movie     Star Wars: The New Republic                     \n",
       "19 tt4401260 movie     Forsaken: A Star Wars Fan Film                  \n",
       "20 tt4644286 movie     Star Wars Begins: A Filmumentary                \n",
       "21 tt6682462 movie     Star Wars FanFilm the Padawan I 'The Beginning' \n",
       "22 tt7167614 movie     Star Wars: The Fight Against the Dark Side      \n",
       "   originaltitle                                    isadult startyear endyear\n",
       "1  Star Wars                                        FALSE   1977      NA     \n",
       "2  Star Wars: Episode V - The Empire Strikes Back   FALSE   1980      NA     \n",
       "3  Star Wars: Episode VI - Return of the Jedi       FALSE   1983      NA     \n",
       "4  Star Wars: Episode I - The Phantom Menace        FALSE   1999      NA     \n",
       "5  Star Wars: Episode II - Attack of the Clones     FALSE   2002      NA     \n",
       "6  Star Wars: Episode III - Revenge of the Sith     FALSE   2005      NA     \n",
       "7  Saving 'Star Wars'                               FALSE   2004      NA     \n",
       "8  The Untitled Star Wars Mockumentary              FALSE   2003      NA     \n",
       "9  Bob Hope's All-Star Look at TV's Prime Time Wars FALSE   1980      NA     \n",
       "10 Star Wars: The Clone Wars                        FALSE   2008      NA     \n",
       "11 Star Wars: A Galaxy in Darkness                  FALSE   2009      NA     \n",
       "12 Star Wars Heroes & Villains                      FALSE   2005      NA     \n",
       "13 Star Wars: Star Warriors                         FALSE   2007      NA     \n",
       "14 Star Wars: Threads of Destiny                    FALSE   2014      NA     \n",
       "15 Star Wars: Episode VII - The Force Awakens       FALSE   2015      NA     \n",
       "16 Star Wars: The Force Unleashed II                FALSE   2014      NA     \n",
       "17 Plastic Galaxy: The Story of Star Wars Toys      FALSE   2014      NA     \n",
       "18 Star Wars: The New Republic                      FALSE   2014      NA     \n",
       "19 Forsaken: A Star Wars Fan Film                   FALSE   2015      NA     \n",
       "20 Star Wars Begins: A Filmumentary                 FALSE   2011      NA     \n",
       "21 Star Wars FanFilm the Padawan I 'The Beginning'  FALSE   2012      NA     \n",
       "22 Star Wars: The Fight Against the Dark Side       FALSE   2015      NA     \n",
       "   runtimeminutes genres                    \n",
       "1  121            Action,Adventure,Fantasy  \n",
       "2  124            Action,Adventure,Fantasy  \n",
       "3  131            Action,Adventure,Fantasy  \n",
       "4  136            Action,Adventure,Fantasy  \n",
       "5  142            Action,Adventure,Fantasy  \n",
       "6  140            Action,Adventure,Fantasy  \n",
       "7   NA            Comedy                    \n",
       "8   45            Comedy                    \n",
       "9   60            Comedy                    \n",
       "10  98            Action,Adventure,Animation\n",
       "11  46            Adventure,Drama,Sci-Fi    \n",
       "12  68            Documentary               \n",
       "13  84            Documentary               \n",
       "14 110            Action,Adventure,Sci-Fi   \n",
       "15 136            Action,Adventure,Fantasy  \n",
       "16  45            Sci-Fi                    \n",
       "17  70            Documentary,History,Sci-Fi\n",
       "18  NA            Action,Adventure,Sci-Fi   \n",
       "19  NA            Adventure,Fantasy,Sci-Fi  \n",
       "20 139            Documentary               \n",
       "21  NA            Sci-Fi                    \n",
       "22  NA            NA                        "
      ]
     },
     "metadata": {},
     "output_type": "display_data"
    }
   ],
   "source": [
    "star_wars <- dbReadTable(con, \"star_wars\")\n",
    "\n",
    "star_wars"
   ]
  },
  {
   "cell_type": "markdown",
   "metadata": {},
   "source": [
    "See, the only difference seems to be the rownames which we excluded on purpose\n",
    "\n",
    "Apart from that, let's check whet they are both identical"
   ]
  },
  {
   "cell_type": "code",
   "execution_count": 127,
   "metadata": {},
   "outputs": [
    {
     "data": {
      "text/html": [
       "<table>\n",
       "<thead><tr><th scope=col>tconst</th><th scope=col>titletype</th><th scope=col>primarytitle</th><th scope=col>originaltitle</th><th scope=col>isadult</th><th scope=col>startyear</th><th scope=col>endyear</th><th scope=col>runtimeminutes</th><th scope=col>genres</th></tr></thead>\n",
       "<tbody>\n",
       "\t<tr><td>tt0076759                                       </td><td>movie                                           </td><td>Star Wars: Episode IV - A New Hope              </td><td>Star Wars                                       </td><td>FALSE                                           </td><td>1977                                            </td><td>NA                                              </td><td>121                                             </td><td>Action,Adventure,Fantasy                        </td></tr>\n",
       "\t<tr><td>tt0080684                                       </td><td>movie                                           </td><td>Star Wars: Episode V - The Empire Strikes Back  </td><td>Star Wars: Episode V - The Empire Strikes Back  </td><td>FALSE                                           </td><td>1980                                            </td><td>NA                                              </td><td>124                                             </td><td>Action,Adventure,Fantasy                        </td></tr>\n",
       "\t<tr><td>tt0086190                                       </td><td>movie                                           </td><td>Star Wars: Episode VI - Return of the Jedi      </td><td>Star Wars: Episode VI - Return of the Jedi      </td><td>FALSE                                           </td><td>1983                                            </td><td>NA                                              </td><td>131                                             </td><td>Action,Adventure,Fantasy                        </td></tr>\n",
       "\t<tr><td>tt0120915                                       </td><td>movie                                           </td><td>Star Wars: Episode I - The Phantom Menace       </td><td>Star Wars: Episode I - The Phantom Menace       </td><td>FALSE                                           </td><td>1999                                            </td><td>NA                                              </td><td>136                                             </td><td>Action,Adventure,Fantasy                        </td></tr>\n",
       "\t<tr><td>tt0121765                                       </td><td>movie                                           </td><td>Star Wars: Episode II - Attack of the Clones    </td><td>Star Wars: Episode II - Attack of the Clones    </td><td>FALSE                                           </td><td>2002                                            </td><td>NA                                              </td><td>142                                             </td><td>Action,Adventure,Fantasy                        </td></tr>\n",
       "\t<tr><td>tt0121766                                       </td><td>movie                                           </td><td>Star Wars: Episode III - Revenge of the Sith    </td><td>Star Wars: Episode III - Revenge of the Sith    </td><td>FALSE                                           </td><td>2005                                            </td><td>NA                                              </td><td>140                                             </td><td>Action,Adventure,Fantasy                        </td></tr>\n",
       "\t<tr><td>tt0387563                                       </td><td>movie                                           </td><td>Saving Star Wars                                </td><td>Saving 'Star Wars'                              </td><td>FALSE                                           </td><td>2004                                            </td><td>NA                                              </td><td> NA                                             </td><td>Comedy                                          </td></tr>\n",
       "\t<tr><td>tt0466264                                       </td><td>movie                                           </td><td>The Untitled Star Wars Mockumentary             </td><td>The Untitled Star Wars Mockumentary             </td><td>FALSE                                           </td><td>2003                                            </td><td>NA                                              </td><td> 45                                             </td><td>Comedy                                          </td></tr>\n",
       "\t<tr><td>tt1140851                                       </td><td>movie                                           </td><td>Bob Hope's All-Star Look at TV's Prime Time Wars</td><td>Bob Hope's All-Star Look at TV's Prime Time Wars</td><td>FALSE                                           </td><td>1980                                            </td><td>NA                                              </td><td> 60                                             </td><td>Comedy                                          </td></tr>\n",
       "\t<tr><td>tt1185834                                       </td><td>movie                                           </td><td>Star Wars: The Clone Wars                       </td><td>Star Wars: The Clone Wars                       </td><td>FALSE                                           </td><td>2008                                            </td><td>NA                                              </td><td> 98                                             </td><td>Action,Adventure,Animation                      </td></tr>\n",
       "\t<tr><td>tt1432993                                       </td><td>movie                                           </td><td>Star Wars: A Galaxy in Darkness                 </td><td>Star Wars: A Galaxy in Darkness                 </td><td>FALSE                                           </td><td>2009                                            </td><td>NA                                              </td><td> 46                                             </td><td>Adventure,Drama,Sci-Fi                          </td></tr>\n",
       "\t<tr><td>tt1970025                                                                                   </td><td>movie                                                                                       </td><td><span style=white-space:pre-wrap>Star Wars Heroes &amp; Villains                     </span></td><td><span style=white-space:pre-wrap>Star Wars Heroes &amp; Villains                     </span></td><td>FALSE                                                                                       </td><td>2005                                                                                        </td><td>NA                                                                                          </td><td> 68                                                                                         </td><td><span style=white-space:pre-wrap>Documentary               </span>                          </td></tr>\n",
       "\t<tr><td>tt2076340                                       </td><td>movie                                           </td><td>Star Wars: Star Warriors                        </td><td>Star Wars: Star Warriors                        </td><td>FALSE                                           </td><td>2007                                            </td><td>NA                                              </td><td> 84                                             </td><td>Documentary                                     </td></tr>\n",
       "\t<tr><td>tt2275656                                       </td><td>movie                                           </td><td>Star Wars: Threads of Destiny                   </td><td>Star Wars: Threads of Destiny                   </td><td>FALSE                                           </td><td>2014                                            </td><td>NA                                              </td><td>110                                             </td><td>Action,Adventure,Sci-Fi                         </td></tr>\n",
       "\t<tr><td>tt2488496                                       </td><td>movie                                           </td><td>Star Wars: The Force Awakens                    </td><td>Star Wars: Episode VII - The Force Awakens      </td><td>FALSE                                           </td><td>2015                                            </td><td>NA                                              </td><td>136                                             </td><td>Action,Adventure,Fantasy                        </td></tr>\n",
       "\t<tr><td>tt3510476                                       </td><td>movie                                           </td><td>Star Wars: The Force Unleashed II               </td><td>Star Wars: The Force Unleashed II               </td><td>FALSE                                           </td><td>2014                                            </td><td>NA                                              </td><td> 45                                             </td><td>Sci-Fi                                          </td></tr>\n",
       "\t<tr><td>tt3648510                                       </td><td>movie                                           </td><td>Plastic Galaxy: The Story of Star Wars Toys     </td><td>Plastic Galaxy: The Story of Star Wars Toys     </td><td>FALSE                                           </td><td>2014                                            </td><td>NA                                              </td><td> 70                                             </td><td>Documentary,History,Sci-Fi                      </td></tr>\n",
       "\t<tr><td>tt3810772                                       </td><td>movie                                           </td><td>Star Wars: The New Republic                     </td><td>Star Wars: The New Republic                     </td><td>FALSE                                           </td><td>2014                                            </td><td>NA                                              </td><td> NA                                             </td><td>Action,Adventure,Sci-Fi                         </td></tr>\n",
       "\t<tr><td>tt4401260                                       </td><td>movie                                           </td><td>Forsaken: A Star Wars Fan Film                  </td><td>Forsaken: A Star Wars Fan Film                  </td><td>FALSE                                           </td><td>2015                                            </td><td>NA                                              </td><td> NA                                             </td><td>Adventure,Fantasy,Sci-Fi                        </td></tr>\n",
       "\t<tr><td>tt4644286                                       </td><td>movie                                           </td><td>Star Wars Begins: A Filmumentary                </td><td>Star Wars Begins: A Filmumentary                </td><td>FALSE                                           </td><td>2011                                            </td><td>NA                                              </td><td>139                                             </td><td>Documentary                                     </td></tr>\n",
       "\t<tr><td>tt6682462                                       </td><td>movie                                           </td><td>Star Wars FanFilm the Padawan I 'The Beginning' </td><td>Star Wars FanFilm the Padawan I 'The Beginning' </td><td>FALSE                                           </td><td>2012                                            </td><td>NA                                              </td><td> NA                                             </td><td>Sci-Fi                                          </td></tr>\n",
       "\t<tr><td>tt7167614                                       </td><td>movie                                           </td><td>Star Wars: The Fight Against the Dark Side      </td><td>Star Wars: The Fight Against the Dark Side      </td><td>FALSE                                           </td><td>2015                                            </td><td>NA                                              </td><td> NA                                             </td><td>NA                                              </td></tr>\n",
       "</tbody>\n",
       "</table>\n"
      ],
      "text/latex": [
       "\\begin{tabular}{r|lllllllll}\n",
       " tconst & titletype & primarytitle & originaltitle & isadult & startyear & endyear & runtimeminutes & genres\\\\\n",
       "\\hline\n",
       "\t tt0076759                                        & movie                                            & Star Wars: Episode IV - A New Hope               & Star Wars                                        & FALSE                                            & 1977                                             & NA                                               & 121                                              & Action,Adventure,Fantasy                        \\\\\n",
       "\t tt0080684                                        & movie                                            & Star Wars: Episode V - The Empire Strikes Back   & Star Wars: Episode V - The Empire Strikes Back   & FALSE                                            & 1980                                             & NA                                               & 124                                              & Action,Adventure,Fantasy                        \\\\\n",
       "\t tt0086190                                        & movie                                            & Star Wars: Episode VI - Return of the Jedi       & Star Wars: Episode VI - Return of the Jedi       & FALSE                                            & 1983                                             & NA                                               & 131                                              & Action,Adventure,Fantasy                        \\\\\n",
       "\t tt0120915                                        & movie                                            & Star Wars: Episode I - The Phantom Menace        & Star Wars: Episode I - The Phantom Menace        & FALSE                                            & 1999                                             & NA                                               & 136                                              & Action,Adventure,Fantasy                        \\\\\n",
       "\t tt0121765                                        & movie                                            & Star Wars: Episode II - Attack of the Clones     & Star Wars: Episode II - Attack of the Clones     & FALSE                                            & 2002                                             & NA                                               & 142                                              & Action,Adventure,Fantasy                        \\\\\n",
       "\t tt0121766                                        & movie                                            & Star Wars: Episode III - Revenge of the Sith     & Star Wars: Episode III - Revenge of the Sith     & FALSE                                            & 2005                                             & NA                                               & 140                                              & Action,Adventure,Fantasy                        \\\\\n",
       "\t tt0387563                                        & movie                                            & Saving Star Wars                                 & Saving 'Star Wars'                               & FALSE                                            & 2004                                             & NA                                               &  NA                                              & Comedy                                          \\\\\n",
       "\t tt0466264                                        & movie                                            & The Untitled Star Wars Mockumentary              & The Untitled Star Wars Mockumentary              & FALSE                                            & 2003                                             & NA                                               &  45                                              & Comedy                                          \\\\\n",
       "\t tt1140851                                        & movie                                            & Bob Hope's All-Star Look at TV's Prime Time Wars & Bob Hope's All-Star Look at TV's Prime Time Wars & FALSE                                            & 1980                                             & NA                                               &  60                                              & Comedy                                          \\\\\n",
       "\t tt1185834                                        & movie                                            & Star Wars: The Clone Wars                        & Star Wars: The Clone Wars                        & FALSE                                            & 2008                                             & NA                                               &  98                                              & Action,Adventure,Animation                      \\\\\n",
       "\t tt1432993                                        & movie                                            & Star Wars: A Galaxy in Darkness                  & Star Wars: A Galaxy in Darkness                  & FALSE                                            & 2009                                             & NA                                               &  46                                              & Adventure,Drama,Sci-Fi                          \\\\\n",
       "\t tt1970025                                          & movie                                              & Star Wars Heroes \\& Villains                      & Star Wars Heroes \\& Villains                      & FALSE                                              & 2005                                               & NA                                                 &  68                                                & Documentary                                       \\\\\n",
       "\t tt2076340                                        & movie                                            & Star Wars: Star Warriors                         & Star Wars: Star Warriors                         & FALSE                                            & 2007                                             & NA                                               &  84                                              & Documentary                                     \\\\\n",
       "\t tt2275656                                        & movie                                            & Star Wars: Threads of Destiny                    & Star Wars: Threads of Destiny                    & FALSE                                            & 2014                                             & NA                                               & 110                                              & Action,Adventure,Sci-Fi                         \\\\\n",
       "\t tt2488496                                        & movie                                            & Star Wars: The Force Awakens                     & Star Wars: Episode VII - The Force Awakens       & FALSE                                            & 2015                                             & NA                                               & 136                                              & Action,Adventure,Fantasy                        \\\\\n",
       "\t tt3510476                                        & movie                                            & Star Wars: The Force Unleashed II                & Star Wars: The Force Unleashed II                & FALSE                                            & 2014                                             & NA                                               &  45                                              & Sci-Fi                                          \\\\\n",
       "\t tt3648510                                        & movie                                            & Plastic Galaxy: The Story of Star Wars Toys      & Plastic Galaxy: The Story of Star Wars Toys      & FALSE                                            & 2014                                             & NA                                               &  70                                              & Documentary,History,Sci-Fi                      \\\\\n",
       "\t tt3810772                                        & movie                                            & Star Wars: The New Republic                      & Star Wars: The New Republic                      & FALSE                                            & 2014                                             & NA                                               &  NA                                              & Action,Adventure,Sci-Fi                         \\\\\n",
       "\t tt4401260                                        & movie                                            & Forsaken: A Star Wars Fan Film                   & Forsaken: A Star Wars Fan Film                   & FALSE                                            & 2015                                             & NA                                               &  NA                                              & Adventure,Fantasy,Sci-Fi                        \\\\\n",
       "\t tt4644286                                        & movie                                            & Star Wars Begins: A Filmumentary                 & Star Wars Begins: A Filmumentary                 & FALSE                                            & 2011                                             & NA                                               & 139                                              & Documentary                                     \\\\\n",
       "\t tt6682462                                        & movie                                            & Star Wars FanFilm the Padawan I 'The Beginning'  & Star Wars FanFilm the Padawan I 'The Beginning'  & FALSE                                            & 2012                                             & NA                                               &  NA                                              & Sci-Fi                                          \\\\\n",
       "\t tt7167614                                        & movie                                            & Star Wars: The Fight Against the Dark Side       & Star Wars: The Fight Against the Dark Side       & FALSE                                            & 2015                                             & NA                                               &  NA                                              & NA                                              \\\\\n",
       "\\end{tabular}\n"
      ],
      "text/markdown": [
       "\n",
       "tconst | titletype | primarytitle | originaltitle | isadult | startyear | endyear | runtimeminutes | genres | \n",
       "|---|---|---|---|---|---|---|---|---|---|---|---|---|---|---|---|---|---|---|---|---|---|\n",
       "| tt0076759                                        | movie                                            | Star Wars: Episode IV - A New Hope               | Star Wars                                        | FALSE                                            | 1977                                             | NA                                               | 121                                              | Action,Adventure,Fantasy                         | \n",
       "| tt0080684                                        | movie                                            | Star Wars: Episode V - The Empire Strikes Back   | Star Wars: Episode V - The Empire Strikes Back   | FALSE                                            | 1980                                             | NA                                               | 124                                              | Action,Adventure,Fantasy                         | \n",
       "| tt0086190                                        | movie                                            | Star Wars: Episode VI - Return of the Jedi       | Star Wars: Episode VI - Return of the Jedi       | FALSE                                            | 1983                                             | NA                                               | 131                                              | Action,Adventure,Fantasy                         | \n",
       "| tt0120915                                        | movie                                            | Star Wars: Episode I - The Phantom Menace        | Star Wars: Episode I - The Phantom Menace        | FALSE                                            | 1999                                             | NA                                               | 136                                              | Action,Adventure,Fantasy                         | \n",
       "| tt0121765                                        | movie                                            | Star Wars: Episode II - Attack of the Clones     | Star Wars: Episode II - Attack of the Clones     | FALSE                                            | 2002                                             | NA                                               | 142                                              | Action,Adventure,Fantasy                         | \n",
       "| tt0121766                                        | movie                                            | Star Wars: Episode III - Revenge of the Sith     | Star Wars: Episode III - Revenge of the Sith     | FALSE                                            | 2005                                             | NA                                               | 140                                              | Action,Adventure,Fantasy                         | \n",
       "| tt0387563                                        | movie                                            | Saving Star Wars                                 | Saving 'Star Wars'                               | FALSE                                            | 2004                                             | NA                                               |  NA                                              | Comedy                                           | \n",
       "| tt0466264                                        | movie                                            | The Untitled Star Wars Mockumentary              | The Untitled Star Wars Mockumentary              | FALSE                                            | 2003                                             | NA                                               |  45                                              | Comedy                                           | \n",
       "| tt1140851                                        | movie                                            | Bob Hope's All-Star Look at TV's Prime Time Wars | Bob Hope's All-Star Look at TV's Prime Time Wars | FALSE                                            | 1980                                             | NA                                               |  60                                              | Comedy                                           | \n",
       "| tt1185834                                        | movie                                            | Star Wars: The Clone Wars                        | Star Wars: The Clone Wars                        | FALSE                                            | 2008                                             | NA                                               |  98                                              | Action,Adventure,Animation                       | \n",
       "| tt1432993                                        | movie                                            | Star Wars: A Galaxy in Darkness                  | Star Wars: A Galaxy in Darkness                  | FALSE                                            | 2009                                             | NA                                               |  46                                              | Adventure,Drama,Sci-Fi                           | \n",
       "| tt1970025                                        | movie                                            | Star Wars Heroes & Villains                      | Star Wars Heroes & Villains                      | FALSE                                            | 2005                                             | NA                                               |  68                                              | Documentary                                      | \n",
       "| tt2076340                                        | movie                                            | Star Wars: Star Warriors                         | Star Wars: Star Warriors                         | FALSE                                            | 2007                                             | NA                                               |  84                                              | Documentary                                      | \n",
       "| tt2275656                                        | movie                                            | Star Wars: Threads of Destiny                    | Star Wars: Threads of Destiny                    | FALSE                                            | 2014                                             | NA                                               | 110                                              | Action,Adventure,Sci-Fi                          | \n",
       "| tt2488496                                        | movie                                            | Star Wars: The Force Awakens                     | Star Wars: Episode VII - The Force Awakens       | FALSE                                            | 2015                                             | NA                                               | 136                                              | Action,Adventure,Fantasy                         | \n",
       "| tt3510476                                        | movie                                            | Star Wars: The Force Unleashed II                | Star Wars: The Force Unleashed II                | FALSE                                            | 2014                                             | NA                                               |  45                                              | Sci-Fi                                           | \n",
       "| tt3648510                                        | movie                                            | Plastic Galaxy: The Story of Star Wars Toys      | Plastic Galaxy: The Story of Star Wars Toys      | FALSE                                            | 2014                                             | NA                                               |  70                                              | Documentary,History,Sci-Fi                       | \n",
       "| tt3810772                                        | movie                                            | Star Wars: The New Republic                      | Star Wars: The New Republic                      | FALSE                                            | 2014                                             | NA                                               |  NA                                              | Action,Adventure,Sci-Fi                          | \n",
       "| tt4401260                                        | movie                                            | Forsaken: A Star Wars Fan Film                   | Forsaken: A Star Wars Fan Film                   | FALSE                                            | 2015                                             | NA                                               |  NA                                              | Adventure,Fantasy,Sci-Fi                         | \n",
       "| tt4644286                                        | movie                                            | Star Wars Begins: A Filmumentary                 | Star Wars Begins: A Filmumentary                 | FALSE                                            | 2011                                             | NA                                               | 139                                              | Documentary                                      | \n",
       "| tt6682462                                        | movie                                            | Star Wars FanFilm the Padawan I 'The Beginning'  | Star Wars FanFilm the Padawan I 'The Beginning'  | FALSE                                            | 2012                                             | NA                                               |  NA                                              | Sci-Fi                                           | \n",
       "| tt7167614                                        | movie                                            | Star Wars: The Fight Against the Dark Side       | Star Wars: The Fight Against the Dark Side       | FALSE                                            | 2015                                             | NA                                               |  NA                                              | NA                                               | \n",
       "\n",
       "\n"
      ],
      "text/plain": [
       "   tconst    titletype primarytitle                                    \n",
       "1  tt0076759 movie     Star Wars: Episode IV - A New Hope              \n",
       "2  tt0080684 movie     Star Wars: Episode V - The Empire Strikes Back  \n",
       "3  tt0086190 movie     Star Wars: Episode VI - Return of the Jedi      \n",
       "4  tt0120915 movie     Star Wars: Episode I - The Phantom Menace       \n",
       "5  tt0121765 movie     Star Wars: Episode II - Attack of the Clones    \n",
       "6  tt0121766 movie     Star Wars: Episode III - Revenge of the Sith    \n",
       "7  tt0387563 movie     Saving Star Wars                                \n",
       "8  tt0466264 movie     The Untitled Star Wars Mockumentary             \n",
       "9  tt1140851 movie     Bob Hope's All-Star Look at TV's Prime Time Wars\n",
       "10 tt1185834 movie     Star Wars: The Clone Wars                       \n",
       "11 tt1432993 movie     Star Wars: A Galaxy in Darkness                 \n",
       "12 tt1970025 movie     Star Wars Heroes & Villains                     \n",
       "13 tt2076340 movie     Star Wars: Star Warriors                        \n",
       "14 tt2275656 movie     Star Wars: Threads of Destiny                   \n",
       "15 tt2488496 movie     Star Wars: The Force Awakens                    \n",
       "16 tt3510476 movie     Star Wars: The Force Unleashed II               \n",
       "17 tt3648510 movie     Plastic Galaxy: The Story of Star Wars Toys     \n",
       "18 tt3810772 movie     Star Wars: The New Republic                     \n",
       "19 tt4401260 movie     Forsaken: A Star Wars Fan Film                  \n",
       "20 tt4644286 movie     Star Wars Begins: A Filmumentary                \n",
       "21 tt6682462 movie     Star Wars FanFilm the Padawan I 'The Beginning' \n",
       "22 tt7167614 movie     Star Wars: The Fight Against the Dark Side      \n",
       "   originaltitle                                    isadult startyear endyear\n",
       "1  Star Wars                                        FALSE   1977      NA     \n",
       "2  Star Wars: Episode V - The Empire Strikes Back   FALSE   1980      NA     \n",
       "3  Star Wars: Episode VI - Return of the Jedi       FALSE   1983      NA     \n",
       "4  Star Wars: Episode I - The Phantom Menace        FALSE   1999      NA     \n",
       "5  Star Wars: Episode II - Attack of the Clones     FALSE   2002      NA     \n",
       "6  Star Wars: Episode III - Revenge of the Sith     FALSE   2005      NA     \n",
       "7  Saving 'Star Wars'                               FALSE   2004      NA     \n",
       "8  The Untitled Star Wars Mockumentary              FALSE   2003      NA     \n",
       "9  Bob Hope's All-Star Look at TV's Prime Time Wars FALSE   1980      NA     \n",
       "10 Star Wars: The Clone Wars                        FALSE   2008      NA     \n",
       "11 Star Wars: A Galaxy in Darkness                  FALSE   2009      NA     \n",
       "12 Star Wars Heroes & Villains                      FALSE   2005      NA     \n",
       "13 Star Wars: Star Warriors                         FALSE   2007      NA     \n",
       "14 Star Wars: Threads of Destiny                    FALSE   2014      NA     \n",
       "15 Star Wars: Episode VII - The Force Awakens       FALSE   2015      NA     \n",
       "16 Star Wars: The Force Unleashed II                FALSE   2014      NA     \n",
       "17 Plastic Galaxy: The Story of Star Wars Toys      FALSE   2014      NA     \n",
       "18 Star Wars: The New Republic                      FALSE   2014      NA     \n",
       "19 Forsaken: A Star Wars Fan Film                   FALSE   2015      NA     \n",
       "20 Star Wars Begins: A Filmumentary                 FALSE   2011      NA     \n",
       "21 Star Wars FanFilm the Padawan I 'The Beginning'  FALSE   2012      NA     \n",
       "22 Star Wars: The Fight Against the Dark Side       FALSE   2015      NA     \n",
       "   runtimeminutes genres                    \n",
       "1  121            Action,Adventure,Fantasy  \n",
       "2  124            Action,Adventure,Fantasy  \n",
       "3  131            Action,Adventure,Fantasy  \n",
       "4  136            Action,Adventure,Fantasy  \n",
       "5  142            Action,Adventure,Fantasy  \n",
       "6  140            Action,Adventure,Fantasy  \n",
       "7   NA            Comedy                    \n",
       "8   45            Comedy                    \n",
       "9   60            Comedy                    \n",
       "10  98            Action,Adventure,Animation\n",
       "11  46            Adventure,Drama,Sci-Fi    \n",
       "12  68            Documentary               \n",
       "13  84            Documentary               \n",
       "14 110            Action,Adventure,Sci-Fi   \n",
       "15 136            Action,Adventure,Fantasy  \n",
       "16  45            Sci-Fi                    \n",
       "17  70            Documentary,History,Sci-Fi\n",
       "18  NA            Action,Adventure,Sci-Fi   \n",
       "19  NA            Adventure,Fantasy,Sci-Fi  \n",
       "20 139            Documentary               \n",
       "21  NA            Sci-Fi                    \n",
       "22  NA            NA                        "
      ]
     },
     "metadata": {},
     "output_type": "display_data"
    }
   ],
   "source": [
    "rownames(title_basics_df3) <- NULL\n",
    "title_basics_df3"
   ]
  },
  {
   "cell_type": "code",
   "execution_count": 128,
   "metadata": {},
   "outputs": [
    {
     "data": {
      "text/html": [
       "TRUE"
      ],
      "text/latex": [
       "TRUE"
      ],
      "text/markdown": [
       "TRUE"
      ],
      "text/plain": [
       "[1] TRUE"
      ]
     },
     "metadata": {},
     "output_type": "display_data"
    }
   ],
   "source": [
    "identical(title_basics_df3, star_wars)"
   ]
  },
  {
   "cell_type": "markdown",
   "metadata": {},
   "source": [
    "Yes they are identical!"
   ]
  },
  {
   "cell_type": "markdown",
   "metadata": {},
   "source": [
    "Let's remove the table"
   ]
  },
  {
   "cell_type": "code",
   "execution_count": 130,
   "metadata": {},
   "outputs": [
    {
     "data": {
      "text/html": [
       "TRUE"
      ],
      "text/latex": [
       "TRUE"
      ],
      "text/markdown": [
       "TRUE"
      ],
      "text/plain": [
       "[1] TRUE"
      ]
     },
     "metadata": {},
     "output_type": "display_data"
    }
   ],
   "source": [
    "dbRemoveTable(con, \"star_wars\")"
   ]
  },
  {
   "cell_type": "markdown",
   "metadata": {},
   "source": [
    "Check whether it still exists"
   ]
  },
  {
   "cell_type": "code",
   "execution_count": 131,
   "metadata": {},
   "outputs": [
    {
     "data": {
      "text/html": [
       "FALSE"
      ],
      "text/latex": [
       "FALSE"
      ],
      "text/markdown": [
       "FALSE"
      ],
      "text/plain": [
       "[1] FALSE"
      ]
     },
     "metadata": {},
     "output_type": "display_data"
    }
   ],
   "source": [
    "dbExistsTable(con, \"star_wars\")"
   ]
  },
  {
   "cell_type": "markdown",
   "metadata": {},
   "source": [
    "Now let's create the table again"
   ]
  },
  {
   "cell_type": "code",
   "execution_count": 132,
   "metadata": {},
   "outputs": [
    {
     "data": {
      "text/html": [
       "TRUE"
      ],
      "text/latex": [
       "TRUE"
      ],
      "text/markdown": [
       "TRUE"
      ],
      "text/plain": [
       "[1] TRUE"
      ]
     },
     "metadata": {},
     "output_type": "display_data"
    }
   ],
   "source": [
    "dbWriteTable(con, \"star_wars\", value = title_basics_df3, append = TRUE, row.names = FALSE)"
   ]
  },
  {
   "cell_type": "markdown",
   "metadata": {},
   "source": [
    "Check that it exists:"
   ]
  },
  {
   "cell_type": "code",
   "execution_count": 134,
   "metadata": {},
   "outputs": [
    {
     "data": {
      "text/html": [
       "TRUE"
      ],
      "text/latex": [
       "TRUE"
      ],
      "text/markdown": [
       "TRUE"
      ],
      "text/plain": [
       "[1] TRUE"
      ]
     },
     "metadata": {},
     "output_type": "display_data"
    }
   ],
   "source": [
    "dbExistsTable(con, \"star_wars\")"
   ]
  },
  {
   "cell_type": "markdown",
   "metadata": {},
   "source": [
    "Get its rowcount:"
   ]
  },
  {
   "cell_type": "code",
   "execution_count": 138,
   "metadata": {},
   "outputs": [
    {
     "data": {
      "text/html": [
       "<table>\n",
       "<thead><tr><th scope=col>count</th></tr></thead>\n",
       "<tbody>\n",
       "\t<tr><td>22</td></tr>\n",
       "</tbody>\n",
       "</table>\n"
      ],
      "text/latex": [
       "\\begin{tabular}{r|l}\n",
       " count\\\\\n",
       "\\hline\n",
       "\t 22\\\\\n",
       "\\end{tabular}\n"
      ],
      "text/markdown": [
       "\n",
       "count | \n",
       "|---|\n",
       "| 22 | \n",
       "\n",
       "\n"
      ],
      "text/plain": [
       "  count\n",
       "1 22   "
      ]
     },
     "metadata": {},
     "output_type": "display_data"
    }
   ],
   "source": [
    "dbGetQuery(con, \"SELECT count (*) FROM star_wars\")"
   ]
  },
  {
   "cell_type": "markdown",
   "metadata": {},
   "source": [
    "And repeat the data write statement, with append option"
   ]
  },
  {
   "cell_type": "code",
   "execution_count": 139,
   "metadata": {},
   "outputs": [
    {
     "data": {
      "text/html": [
       "TRUE"
      ],
      "text/latex": [
       "TRUE"
      ],
      "text/markdown": [
       "TRUE"
      ],
      "text/plain": [
       "[1] TRUE"
      ]
     },
     "metadata": {},
     "output_type": "display_data"
    }
   ],
   "source": [
    "dbWriteTable(con, \"star_wars\", value = title_basics_df3, append = TRUE, row.names = FALSE)"
   ]
  },
  {
   "cell_type": "markdown",
   "metadata": {},
   "source": [
    "Get the rowcount again"
   ]
  },
  {
   "cell_type": "code",
   "execution_count": 140,
   "metadata": {},
   "outputs": [
    {
     "data": {
      "text/html": [
       "<table>\n",
       "<thead><tr><th scope=col>count</th></tr></thead>\n",
       "<tbody>\n",
       "\t<tr><td>44</td></tr>\n",
       "</tbody>\n",
       "</table>\n"
      ],
      "text/latex": [
       "\\begin{tabular}{r|l}\n",
       " count\\\\\n",
       "\\hline\n",
       "\t 44\\\\\n",
       "\\end{tabular}\n"
      ],
      "text/markdown": [
       "\n",
       "count | \n",
       "|---|\n",
       "| 44 | \n",
       "\n",
       "\n"
      ],
      "text/plain": [
       "  count\n",
       "1 44   "
      ]
     },
     "metadata": {},
     "output_type": "display_data"
    }
   ],
   "source": [
    "dbGetQuery(con, \"SELECT count (*) FROM star_wars\")"
   ]
  },
  {
   "cell_type": "markdown",
   "metadata": {},
   "source": [
    "<a href=\"https://www.youtube.com/embed/tsXEToflqGs?start=10&autoplay=1\">OW! I HAVE A BAD FEELING ABOUT THIS</a>"
   ]
  },
  {
   "cell_type": "markdown",
   "metadata": {},
   "source": [
    "We did not define a primary key, so postgresql server allowed duplicates to be inserted in to the database"
   ]
  },
  {
   "cell_type": "markdown",
   "metadata": {},
   "source": [
    "Now delete and recreate table"
   ]
  },
  {
   "cell_type": "code",
   "execution_count": 141,
   "metadata": {},
   "outputs": [
    {
     "data": {
      "text/html": [
       "TRUE"
      ],
      "text/latex": [
       "TRUE"
      ],
      "text/markdown": [
       "TRUE"
      ],
      "text/plain": [
       "[1] TRUE"
      ]
     },
     "metadata": {},
     "output_type": "display_data"
    }
   ],
   "source": [
    "dbRemoveTable(con, \"star_wars\")"
   ]
  },
  {
   "cell_type": "code",
   "execution_count": 142,
   "metadata": {},
   "outputs": [
    {
     "data": {
      "text/html": [
       "FALSE"
      ],
      "text/latex": [
       "FALSE"
      ],
      "text/markdown": [
       "FALSE"
      ],
      "text/plain": [
       "[1] FALSE"
      ]
     },
     "metadata": {},
     "output_type": "display_data"
    }
   ],
   "source": [
    "dbExistsTable(con, \"star_wars\")"
   ]
  },
  {
   "cell_type": "code",
   "execution_count": 143,
   "metadata": {},
   "outputs": [
    {
     "data": {
      "text/html": [
       "TRUE"
      ],
      "text/latex": [
       "TRUE"
      ],
      "text/markdown": [
       "TRUE"
      ],
      "text/plain": [
       "[1] TRUE"
      ]
     },
     "metadata": {},
     "output_type": "display_data"
    }
   ],
   "source": [
    "dbWriteTable(con, \"star_wars\", value = title_basics_df3, append = TRUE, row.names = FALSE)"
   ]
  },
  {
   "cell_type": "code",
   "execution_count": 144,
   "metadata": {},
   "outputs": [
    {
     "data": {
      "text/html": [
       "TRUE"
      ],
      "text/latex": [
       "TRUE"
      ],
      "text/markdown": [
       "TRUE"
      ],
      "text/plain": [
       "[1] TRUE"
      ]
     },
     "metadata": {},
     "output_type": "display_data"
    }
   ],
   "source": [
    "dbExistsTable(con, \"star_wars\")"
   ]
  },
  {
   "cell_type": "markdown",
   "metadata": {},
   "source": [
    "And add a primary key constraint"
   ]
  },
  {
   "cell_type": "code",
   "execution_count": 145,
   "metadata": {},
   "outputs": [
    {
     "data": {
      "text/html": [],
      "text/latex": [],
      "text/markdown": [],
      "text/plain": [
       "<0 x 0 matrix>"
      ]
     },
     "metadata": {},
     "output_type": "display_data"
    }
   ],
   "source": [
    "dbGetQuery(con,           \n",
    "\"\n",
    "ALTER TABLE star_wars\n",
    "ADD CONSTRAINT tconst_pk_07 \n",
    "PRIMARY KEY (tconst);\n",
    "\")"
   ]
  },
  {
   "cell_type": "markdown",
   "metadata": {},
   "source": [
    "Let's try to import the data again"
   ]
  },
  {
   "cell_type": "code",
   "execution_count": 146,
   "metadata": {},
   "outputs": [
    {
     "ename": "ERROR",
     "evalue": "Error in postgresqlgetResult(new.con): RS-DBI driver: (could not Retrieve the result : ERROR:  duplicate key value violates unique constraint \"tconst_pk_07\"\nDETAIL:  Key (tconst)=(tt0076759) already exists.\nCONTEXT:  COPY star_wars, line 1\n)\n",
     "output_type": "error",
     "traceback": [
      "Error in postgresqlgetResult(new.con): RS-DBI driver: (could not Retrieve the result : ERROR:  duplicate key value violates unique constraint \"tconst_pk_07\"\nDETAIL:  Key (tconst)=(tt0076759) already exists.\nCONTEXT:  COPY star_wars, line 1\n)\nTraceback:\n",
      "1. dbWriteTable(con, \"star_wars\", value = title_basics_df3, append = TRUE, \n .     row.names = FALSE)",
      "2. dbWriteTable(con, \"star_wars\", value = title_basics_df3, append = TRUE, \n .     row.names = FALSE)",
      "3. postgresqlWriteTable(conn, name, value, ...)",
      "4. postgresqlgetResult(new.con)"
     ]
    }
   ],
   "source": [
    "dbWriteTable(con, \"star_wars\", value = title_basics_df3, append = TRUE, row.names = FALSE)"
   ]
  },
  {
   "cell_type": "markdown",
   "metadata": {},
   "source": [
    "See that:\n",
    "\n",
    "*** could not Retrieve the result : ERROR:  duplicate key value violates unique constraint \"tconst_pk_07 ***"
   ]
  },
  {
   "cell_type": "markdown",
   "metadata": {},
   "source": [
    "Let's check the row count again:"
   ]
  },
  {
   "cell_type": "code",
   "execution_count": 148,
   "metadata": {},
   "outputs": [
    {
     "data": {
      "text/html": [
       "<table>\n",
       "<thead><tr><th scope=col>count</th></tr></thead>\n",
       "<tbody>\n",
       "\t<tr><td>22</td></tr>\n",
       "</tbody>\n",
       "</table>\n"
      ],
      "text/latex": [
       "\\begin{tabular}{r|l}\n",
       " count\\\\\n",
       "\\hline\n",
       "\t 22\\\\\n",
       "\\end{tabular}\n"
      ],
      "text/markdown": [
       "\n",
       "count | \n",
       "|---|\n",
       "| 22 | \n",
       "\n",
       "\n"
      ],
      "text/plain": [
       "  count\n",
       "1 22   "
      ]
     },
     "metadata": {},
     "output_type": "display_data"
    }
   ],
   "source": [
    "dbGetQuery(con, \"SELECT count (*) FROM star_wars\")"
   ]
  },
  {
   "cell_type": "markdown",
   "metadata": {},
   "source": [
    "OK, we duplicates were really not allowed!"
   ]
  },
  {
   "cell_type": "markdown",
   "metadata": {},
   "source": [
    "Let's close connection"
   ]
  },
  {
   "cell_type": "code",
   "execution_count": 151,
   "metadata": {},
   "outputs": [
    {
     "data": {
      "text/html": [
       "TRUE"
      ],
      "text/latex": [
       "TRUE"
      ],
      "text/markdown": [
       "TRUE"
      ],
      "text/plain": [
       "[1] TRUE"
      ]
     },
     "metadata": {},
     "output_type": "display_data"
    }
   ],
   "source": [
    "dbDisconnect(con)"
   ]
  },
  {
   "cell_type": "markdown",
   "metadata": {},
   "source": [
    "And unload the driver"
   ]
  },
  {
   "cell_type": "code",
   "execution_count": 152,
   "metadata": {},
   "outputs": [
    {
     "data": {
      "text/html": [
       "TRUE"
      ],
      "text/latex": [
       "TRUE"
      ],
      "text/markdown": [
       "TRUE"
      ],
      "text/plain": [
       "[1] TRUE"
      ]
     },
     "metadata": {},
     "output_type": "display_data"
    }
   ],
   "source": [
    "dbUnloadDriver(drvv)"
   ]
  },
  {
   "cell_type": "markdown",
   "metadata": {},
   "source": [
    "# 2. Using sqldf package"
   ]
  },
  {
   "cell_type": "markdown",
   "metadata": {},
   "source": [
    "First let's load the package:"
   ]
  },
  {
   "cell_type": "code",
   "execution_count": 153,
   "metadata": {},
   "outputs": [],
   "source": [
    "library(sqldf)"
   ]
  },
  {
   "cell_type": "markdown",
   "metadata": {},
   "source": [
    "And set the options:"
   ]
  },
  {
   "cell_type": "code",
   "execution_count": 154,
   "metadata": {},
   "outputs": [],
   "source": [
    "options(sqldf.RPostgreSQL.user =\"postgres\", \n",
    "  sqldf.RPostgreSQL.password =\"bda505\",\n",
    "  sqldf.RPostgreSQL.dbname =\"imdb2\",\n",
    "  sqldf.RPostgreSQL.host =\"localhost\", \n",
    "  sqldf.RPostgreSQL.port =5432)"
   ]
  },
  {
   "cell_type": "markdown",
   "metadata": {},
   "source": [
    "Now let's run a query to get average runtimeminutes from title_basics and group them and order them by startyear  "
   ]
  },
  {
   "cell_type": "code",
   "execution_count": 157,
   "metadata": {},
   "outputs": [],
   "source": [
    "query = \"SELECT avg(runtimeminutes) runtimeminutes, startyear \n",
    "            FROM title_basics\n",
    "            GROUP BY startyear\n",
    "            ORDER BY startyear;\"\n",
    "\n",
    "av_runtime <- sqldf(query)"
   ]
  },
  {
   "cell_type": "code",
   "execution_count": 159,
   "metadata": {},
   "outputs": [
    {
     "data": {
      "text/html": [
       "<table>\n",
       "<thead><tr><th scope=col>runtimeminutes</th><th scope=col>startyear</th></tr></thead>\n",
       "<tbody>\n",
       "\t<tr><td>       NA</td><td>1874     </td></tr>\n",
       "\t<tr><td> 1.000000</td><td>1878     </td></tr>\n",
       "\t<tr><td> 1.000000</td><td>1883     </td></tr>\n",
       "\t<tr><td> 1.000000</td><td>1887     </td></tr>\n",
       "\t<tr><td> 0.750000</td><td>1888     </td></tr>\n",
       "\t<tr><td>       NA</td><td>1889     </td></tr>\n",
       "\t<tr><td> 1.000000</td><td>1890     </td></tr>\n",
       "\t<tr><td> 1.000000</td><td>1891     </td></tr>\n",
       "\t<tr><td> 2.750000</td><td>1892     </td></tr>\n",
       "\t<tr><td> 1.000000</td><td>1893     </td></tr>\n",
       "\t<tr><td> 2.363636</td><td>1894     </td></tr>\n",
       "\t<tr><td> 1.257143</td><td>1895     </td></tr>\n",
       "\t<tr><td> 1.082609</td><td>1896     </td></tr>\n",
       "\t<tr><td> 1.257143</td><td>1897     </td></tr>\n",
       "\t<tr><td> 1.250000</td><td>1898     </td></tr>\n",
       "\t<tr><td> 2.764151</td><td>1899     </td></tr>\n",
       "\t<tr><td> 2.131148</td><td>1900     </td></tr>\n",
       "\t<tr><td> 2.446281</td><td>1901     </td></tr>\n",
       "\t<tr><td> 2.527778</td><td>1902     </td></tr>\n",
       "\t<tr><td> 3.539062</td><td>1903     </td></tr>\n",
       "\t<tr><td> 4.992248</td><td>1904     </td></tr>\n",
       "\t<tr><td> 5.658915</td><td>1905     </td></tr>\n",
       "\t<tr><td> 6.901786</td><td>1906     </td></tr>\n",
       "\t<tr><td> 7.913386</td><td>1907     </td></tr>\n",
       "\t<tr><td>10.303922</td><td>1908     </td></tr>\n",
       "\t<tr><td> 9.568266</td><td>1909     </td></tr>\n",
       "\t<tr><td>14.496324</td><td>1910     </td></tr>\n",
       "\t<tr><td>16.893130</td><td>1911     </td></tr>\n",
       "\t<tr><td>16.772632</td><td>1912     </td></tr>\n",
       "\t<tr><td>24.392713</td><td>1913     </td></tr>\n",
       "\t<tr><td>⋮</td><td>⋮</td></tr>\n",
       "\t<tr><td> 54.95757</td><td>1999     </td></tr>\n",
       "\t<tr><td> 56.50677</td><td>2000     </td></tr>\n",
       "\t<tr><td> 54.43055</td><td>2001     </td></tr>\n",
       "\t<tr><td> 53.38782</td><td>2002     </td></tr>\n",
       "\t<tr><td> 54.22617</td><td>2003     </td></tr>\n",
       "\t<tr><td> 54.40710</td><td>2004     </td></tr>\n",
       "\t<tr><td> 51.29821</td><td>2005     </td></tr>\n",
       "\t<tr><td> 48.63466</td><td>2006     </td></tr>\n",
       "\t<tr><td> 46.76012</td><td>2007     </td></tr>\n",
       "\t<tr><td> 44.21039</td><td>2008     </td></tr>\n",
       "\t<tr><td> 41.90973</td><td>2009     </td></tr>\n",
       "\t<tr><td> 40.16238</td><td>2010     </td></tr>\n",
       "\t<tr><td> 38.81602</td><td>2011     </td></tr>\n",
       "\t<tr><td> 37.54565</td><td>2012     </td></tr>\n",
       "\t<tr><td> 36.94529</td><td>2013     </td></tr>\n",
       "\t<tr><td> 37.35079</td><td>2014     </td></tr>\n",
       "\t<tr><td> 38.74563</td><td>2015     </td></tr>\n",
       "\t<tr><td> 38.39977</td><td>2016     </td></tr>\n",
       "\t<tr><td> 42.56710</td><td>2017     </td></tr>\n",
       "\t<tr><td> 68.34195</td><td>2018     </td></tr>\n",
       "\t<tr><td> 83.34545</td><td>2019     </td></tr>\n",
       "\t<tr><td> 93.35714</td><td>2020     </td></tr>\n",
       "\t<tr><td> 65.50000</td><td>2021     </td></tr>\n",
       "\t<tr><td>       NA</td><td>2022     </td></tr>\n",
       "\t<tr><td>       NA</td><td>2023     </td></tr>\n",
       "\t<tr><td>159.00000</td><td>2024     </td></tr>\n",
       "\t<tr><td>       NA</td><td>2025     </td></tr>\n",
       "\t<tr><td>       NA</td><td>2026     </td></tr>\n",
       "\t<tr><td>       NA</td><td>2115     </td></tr>\n",
       "\t<tr><td> 42.07552</td><td>  NA     </td></tr>\n",
       "</tbody>\n",
       "</table>\n"
      ],
      "text/latex": [
       "\\begin{tabular}{r|ll}\n",
       " runtimeminutes & startyear\\\\\n",
       "\\hline\n",
       "\t        NA & 1874     \\\\\n",
       "\t  1.000000 & 1878     \\\\\n",
       "\t  1.000000 & 1883     \\\\\n",
       "\t  1.000000 & 1887     \\\\\n",
       "\t  0.750000 & 1888     \\\\\n",
       "\t        NA & 1889     \\\\\n",
       "\t  1.000000 & 1890     \\\\\n",
       "\t  1.000000 & 1891     \\\\\n",
       "\t  2.750000 & 1892     \\\\\n",
       "\t  1.000000 & 1893     \\\\\n",
       "\t  2.363636 & 1894     \\\\\n",
       "\t  1.257143 & 1895     \\\\\n",
       "\t  1.082609 & 1896     \\\\\n",
       "\t  1.257143 & 1897     \\\\\n",
       "\t  1.250000 & 1898     \\\\\n",
       "\t  2.764151 & 1899     \\\\\n",
       "\t  2.131148 & 1900     \\\\\n",
       "\t  2.446281 & 1901     \\\\\n",
       "\t  2.527778 & 1902     \\\\\n",
       "\t  3.539062 & 1903     \\\\\n",
       "\t  4.992248 & 1904     \\\\\n",
       "\t  5.658915 & 1905     \\\\\n",
       "\t  6.901786 & 1906     \\\\\n",
       "\t  7.913386 & 1907     \\\\\n",
       "\t 10.303922 & 1908     \\\\\n",
       "\t  9.568266 & 1909     \\\\\n",
       "\t 14.496324 & 1910     \\\\\n",
       "\t 16.893130 & 1911     \\\\\n",
       "\t 16.772632 & 1912     \\\\\n",
       "\t 24.392713 & 1913     \\\\\n",
       "\t ⋮ & ⋮\\\\\n",
       "\t  54.95757 & 1999     \\\\\n",
       "\t  56.50677 & 2000     \\\\\n",
       "\t  54.43055 & 2001     \\\\\n",
       "\t  53.38782 & 2002     \\\\\n",
       "\t  54.22617 & 2003     \\\\\n",
       "\t  54.40710 & 2004     \\\\\n",
       "\t  51.29821 & 2005     \\\\\n",
       "\t  48.63466 & 2006     \\\\\n",
       "\t  46.76012 & 2007     \\\\\n",
       "\t  44.21039 & 2008     \\\\\n",
       "\t  41.90973 & 2009     \\\\\n",
       "\t  40.16238 & 2010     \\\\\n",
       "\t  38.81602 & 2011     \\\\\n",
       "\t  37.54565 & 2012     \\\\\n",
       "\t  36.94529 & 2013     \\\\\n",
       "\t  37.35079 & 2014     \\\\\n",
       "\t  38.74563 & 2015     \\\\\n",
       "\t  38.39977 & 2016     \\\\\n",
       "\t  42.56710 & 2017     \\\\\n",
       "\t  68.34195 & 2018     \\\\\n",
       "\t  83.34545 & 2019     \\\\\n",
       "\t  93.35714 & 2020     \\\\\n",
       "\t  65.50000 & 2021     \\\\\n",
       "\t        NA & 2022     \\\\\n",
       "\t        NA & 2023     \\\\\n",
       "\t 159.00000 & 2024     \\\\\n",
       "\t        NA & 2025     \\\\\n",
       "\t        NA & 2026     \\\\\n",
       "\t        NA & 2115     \\\\\n",
       "\t  42.07552 &   NA     \\\\\n",
       "\\end{tabular}\n"
      ],
      "text/markdown": [
       "\n",
       "runtimeminutes | startyear | \n",
       "|---|---|---|---|---|---|---|---|---|---|---|---|---|---|---|---|---|---|---|---|---|---|---|---|---|---|---|---|---|---|---|---|---|---|---|---|---|---|---|---|---|---|---|---|---|---|---|---|---|---|---|---|---|---|---|---|---|---|---|---|---|\n",
       "|        NA | 1874      | \n",
       "|  1.000000 | 1878      | \n",
       "|  1.000000 | 1883      | \n",
       "|  1.000000 | 1887      | \n",
       "|  0.750000 | 1888      | \n",
       "|        NA | 1889      | \n",
       "|  1.000000 | 1890      | \n",
       "|  1.000000 | 1891      | \n",
       "|  2.750000 | 1892      | \n",
       "|  1.000000 | 1893      | \n",
       "|  2.363636 | 1894      | \n",
       "|  1.257143 | 1895      | \n",
       "|  1.082609 | 1896      | \n",
       "|  1.257143 | 1897      | \n",
       "|  1.250000 | 1898      | \n",
       "|  2.764151 | 1899      | \n",
       "|  2.131148 | 1900      | \n",
       "|  2.446281 | 1901      | \n",
       "|  2.527778 | 1902      | \n",
       "|  3.539062 | 1903      | \n",
       "|  4.992248 | 1904      | \n",
       "|  5.658915 | 1905      | \n",
       "|  6.901786 | 1906      | \n",
       "|  7.913386 | 1907      | \n",
       "| 10.303922 | 1908      | \n",
       "|  9.568266 | 1909      | \n",
       "| 14.496324 | 1910      | \n",
       "| 16.893130 | 1911      | \n",
       "| 16.772632 | 1912      | \n",
       "| 24.392713 | 1913      | \n",
       "| ⋮ | ⋮ | \n",
       "|  54.95757 | 1999      | \n",
       "|  56.50677 | 2000      | \n",
       "|  54.43055 | 2001      | \n",
       "|  53.38782 | 2002      | \n",
       "|  54.22617 | 2003      | \n",
       "|  54.40710 | 2004      | \n",
       "|  51.29821 | 2005      | \n",
       "|  48.63466 | 2006      | \n",
       "|  46.76012 | 2007      | \n",
       "|  44.21039 | 2008      | \n",
       "|  41.90973 | 2009      | \n",
       "|  40.16238 | 2010      | \n",
       "|  38.81602 | 2011      | \n",
       "|  37.54565 | 2012      | \n",
       "|  36.94529 | 2013      | \n",
       "|  37.35079 | 2014      | \n",
       "|  38.74563 | 2015      | \n",
       "|  38.39977 | 2016      | \n",
       "|  42.56710 | 2017      | \n",
       "|  68.34195 | 2018      | \n",
       "|  83.34545 | 2019      | \n",
       "|  93.35714 | 2020      | \n",
       "|  65.50000 | 2021      | \n",
       "|        NA | 2022      | \n",
       "|        NA | 2023      | \n",
       "| 159.00000 | 2024      | \n",
       "|        NA | 2025      | \n",
       "|        NA | 2026      | \n",
       "|        NA | 2115      | \n",
       "|  42.07552 |   NA      | \n",
       "\n",
       "\n"
      ],
      "text/plain": [
       "    runtimeminutes startyear\n",
       "1          NA      1874     \n",
       "2    1.000000      1878     \n",
       "3    1.000000      1883     \n",
       "4    1.000000      1887     \n",
       "5    0.750000      1888     \n",
       "6          NA      1889     \n",
       "7    1.000000      1890     \n",
       "8    1.000000      1891     \n",
       "9    2.750000      1892     \n",
       "10   1.000000      1893     \n",
       "11   2.363636      1894     \n",
       "12   1.257143      1895     \n",
       "13   1.082609      1896     \n",
       "14   1.257143      1897     \n",
       "15   1.250000      1898     \n",
       "16   2.764151      1899     \n",
       "17   2.131148      1900     \n",
       "18   2.446281      1901     \n",
       "19   2.527778      1902     \n",
       "20   3.539062      1903     \n",
       "21   4.992248      1904     \n",
       "22   5.658915      1905     \n",
       "23   6.901786      1906     \n",
       "24   7.913386      1907     \n",
       "25  10.303922      1908     \n",
       "26   9.568266      1909     \n",
       "27  14.496324      1910     \n",
       "28  16.893130      1911     \n",
       "29  16.772632      1912     \n",
       "30  24.392713      1913     \n",
       "⋮   ⋮              ⋮        \n",
       "116  54.95757      1999     \n",
       "117  56.50677      2000     \n",
       "118  54.43055      2001     \n",
       "119  53.38782      2002     \n",
       "120  54.22617      2003     \n",
       "121  54.40710      2004     \n",
       "122  51.29821      2005     \n",
       "123  48.63466      2006     \n",
       "124  46.76012      2007     \n",
       "125  44.21039      2008     \n",
       "126  41.90973      2009     \n",
       "127  40.16238      2010     \n",
       "128  38.81602      2011     \n",
       "129  37.54565      2012     \n",
       "130  36.94529      2013     \n",
       "131  37.35079      2014     \n",
       "132  38.74563      2015     \n",
       "133  38.39977      2016     \n",
       "134  42.56710      2017     \n",
       "135  68.34195      2018     \n",
       "136  83.34545      2019     \n",
       "137  93.35714      2020     \n",
       "138  65.50000      2021     \n",
       "139        NA      2022     \n",
       "140        NA      2023     \n",
       "141 159.00000      2024     \n",
       "142        NA      2025     \n",
       "143        NA      2026     \n",
       "144        NA      2115     \n",
       "145  42.07552        NA     "
      ]
     },
     "metadata": {},
     "output_type": "display_data"
    },
    {
     "data": {
      "text/html": [
       "'data.frame'"
      ],
      "text/latex": [
       "'data.frame'"
      ],
      "text/markdown": [
       "'data.frame'"
      ],
      "text/plain": [
       "[1] \"data.frame\""
      ]
     },
     "metadata": {},
     "output_type": "display_data"
    }
   ],
   "source": [
    "av_runtime\n",
    "\n",
    "class(av_runtime)"
   ]
  },
  {
   "cell_type": "markdown",
   "metadata": {},
   "source": [
    "It returns a data frame"
   ]
  },
  {
   "cell_type": "markdown",
   "metadata": {},
   "source": [
    "Now subset years between 1940 and 2016"
   ]
  },
  {
   "cell_type": "code",
   "execution_count": 163,
   "metadata": {},
   "outputs": [
    {
     "data": {
      "text/html": [
       "<table>\n",
       "<thead><tr><th></th><th scope=col>runtimeminutes</th><th scope=col>startyear</th></tr></thead>\n",
       "<tbody>\n",
       "\t<tr><th scope=row>57</th><td>61.09644</td><td>1940    </td></tr>\n",
       "\t<tr><th scope=row>58</th><td>57.72449</td><td>1941    </td></tr>\n",
       "\t<tr><th scope=row>59</th><td>57.48081</td><td>1942    </td></tr>\n",
       "\t<tr><th scope=row>60</th><td>59.36931</td><td>1943    </td></tr>\n",
       "\t<tr><th scope=row>61</th><td>56.20810</td><td>1944    </td></tr>\n",
       "\t<tr><th scope=row>62</th><td>54.21501</td><td>1945    </td></tr>\n",
       "\t<tr><th scope=row>63</th><td>55.94784</td><td>1946    </td></tr>\n",
       "\t<tr><th scope=row>64</th><td>59.17606</td><td>1947    </td></tr>\n",
       "\t<tr><th scope=row>65</th><td>57.52189</td><td>1948    </td></tr>\n",
       "\t<tr><th scope=row>66</th><td>56.56834</td><td>1949    </td></tr>\n",
       "\t<tr><th scope=row>67</th><td>56.46205</td><td>1950    </td></tr>\n",
       "\t<tr><th scope=row>68</th><td>54.01933</td><td>1951    </td></tr>\n",
       "\t<tr><th scope=row>69</th><td>52.11005</td><td>1952    </td></tr>\n",
       "\t<tr><th scope=row>70</th><td>49.62463</td><td>1953    </td></tr>\n",
       "\t<tr><th scope=row>71</th><td>51.03129</td><td>1954    </td></tr>\n",
       "\t<tr><th scope=row>72</th><td>48.87632</td><td>1955    </td></tr>\n",
       "\t<tr><th scope=row>73</th><td>49.58294</td><td>1956    </td></tr>\n",
       "\t<tr><th scope=row>74</th><td>48.39597</td><td>1957    </td></tr>\n",
       "\t<tr><th scope=row>75</th><td>48.35943</td><td>1958    </td></tr>\n",
       "\t<tr><th scope=row>76</th><td>48.62121</td><td>1959    </td></tr>\n",
       "\t<tr><th scope=row>77</th><td>48.83042</td><td>1960    </td></tr>\n",
       "\t<tr><th scope=row>78</th><td>50.05591</td><td>1961    </td></tr>\n",
       "\t<tr><th scope=row>79</th><td>53.80506</td><td>1962    </td></tr>\n",
       "\t<tr><th scope=row>80</th><td>52.50573</td><td>1963    </td></tr>\n",
       "\t<tr><th scope=row>81</th><td>52.99213</td><td>1964    </td></tr>\n",
       "\t<tr><th scope=row>82</th><td>52.59998</td><td>1965    </td></tr>\n",
       "\t<tr><th scope=row>83</th><td>52.05031</td><td>1966    </td></tr>\n",
       "\t<tr><th scope=row>84</th><td>52.48186</td><td>1967    </td></tr>\n",
       "\t<tr><th scope=row>85</th><td>56.38770</td><td>1968    </td></tr>\n",
       "\t<tr><th scope=row>86</th><td>56.10259</td><td>1969    </td></tr>\n",
       "\t<tr><th scope=row>⋮</th><td>⋮</td><td>⋮</td></tr>\n",
       "\t<tr><th scope=row>104</th><td>61.86920</td><td>1987    </td></tr>\n",
       "\t<tr><th scope=row>105</th><td>61.05390</td><td>1988    </td></tr>\n",
       "\t<tr><th scope=row>106</th><td>59.43898</td><td>1989    </td></tr>\n",
       "\t<tr><th scope=row>107</th><td>56.91495</td><td>1990    </td></tr>\n",
       "\t<tr><th scope=row>108</th><td>57.82830</td><td>1991    </td></tr>\n",
       "\t<tr><th scope=row>109</th><td>57.57734</td><td>1992    </td></tr>\n",
       "\t<tr><th scope=row>110</th><td>56.34543</td><td>1993    </td></tr>\n",
       "\t<tr><th scope=row>111</th><td>56.31242</td><td>1994    </td></tr>\n",
       "\t<tr><th scope=row>112</th><td>56.09262</td><td>1995    </td></tr>\n",
       "\t<tr><th scope=row>113</th><td>55.70441</td><td>1996    </td></tr>\n",
       "\t<tr><th scope=row>114</th><td>54.02251</td><td>1997    </td></tr>\n",
       "\t<tr><th scope=row>115</th><td>55.54887</td><td>1998    </td></tr>\n",
       "\t<tr><th scope=row>116</th><td>54.95757</td><td>1999    </td></tr>\n",
       "\t<tr><th scope=row>117</th><td>56.50677</td><td>2000    </td></tr>\n",
       "\t<tr><th scope=row>118</th><td>54.43055</td><td>2001    </td></tr>\n",
       "\t<tr><th scope=row>119</th><td>53.38782</td><td>2002    </td></tr>\n",
       "\t<tr><th scope=row>120</th><td>54.22617</td><td>2003    </td></tr>\n",
       "\t<tr><th scope=row>121</th><td>54.40710</td><td>2004    </td></tr>\n",
       "\t<tr><th scope=row>122</th><td>51.29821</td><td>2005    </td></tr>\n",
       "\t<tr><th scope=row>123</th><td>48.63466</td><td>2006    </td></tr>\n",
       "\t<tr><th scope=row>124</th><td>46.76012</td><td>2007    </td></tr>\n",
       "\t<tr><th scope=row>125</th><td>44.21039</td><td>2008    </td></tr>\n",
       "\t<tr><th scope=row>126</th><td>41.90973</td><td>2009    </td></tr>\n",
       "\t<tr><th scope=row>127</th><td>40.16238</td><td>2010    </td></tr>\n",
       "\t<tr><th scope=row>128</th><td>38.81602</td><td>2011    </td></tr>\n",
       "\t<tr><th scope=row>129</th><td>37.54565</td><td>2012    </td></tr>\n",
       "\t<tr><th scope=row>130</th><td>36.94529</td><td>2013    </td></tr>\n",
       "\t<tr><th scope=row>131</th><td>37.35079</td><td>2014    </td></tr>\n",
       "\t<tr><th scope=row>132</th><td>38.74563</td><td>2015    </td></tr>\n",
       "\t<tr><th scope=row>133</th><td>38.39977</td><td>2016    </td></tr>\n",
       "</tbody>\n",
       "</table>\n"
      ],
      "text/latex": [
       "\\begin{tabular}{r|ll}\n",
       "  & runtimeminutes & startyear\\\\\n",
       "\\hline\n",
       "\t57 & 61.09644 & 1940    \\\\\n",
       "\t58 & 57.72449 & 1941    \\\\\n",
       "\t59 & 57.48081 & 1942    \\\\\n",
       "\t60 & 59.36931 & 1943    \\\\\n",
       "\t61 & 56.20810 & 1944    \\\\\n",
       "\t62 & 54.21501 & 1945    \\\\\n",
       "\t63 & 55.94784 & 1946    \\\\\n",
       "\t64 & 59.17606 & 1947    \\\\\n",
       "\t65 & 57.52189 & 1948    \\\\\n",
       "\t66 & 56.56834 & 1949    \\\\\n",
       "\t67 & 56.46205 & 1950    \\\\\n",
       "\t68 & 54.01933 & 1951    \\\\\n",
       "\t69 & 52.11005 & 1952    \\\\\n",
       "\t70 & 49.62463 & 1953    \\\\\n",
       "\t71 & 51.03129 & 1954    \\\\\n",
       "\t72 & 48.87632 & 1955    \\\\\n",
       "\t73 & 49.58294 & 1956    \\\\\n",
       "\t74 & 48.39597 & 1957    \\\\\n",
       "\t75 & 48.35943 & 1958    \\\\\n",
       "\t76 & 48.62121 & 1959    \\\\\n",
       "\t77 & 48.83042 & 1960    \\\\\n",
       "\t78 & 50.05591 & 1961    \\\\\n",
       "\t79 & 53.80506 & 1962    \\\\\n",
       "\t80 & 52.50573 & 1963    \\\\\n",
       "\t81 & 52.99213 & 1964    \\\\\n",
       "\t82 & 52.59998 & 1965    \\\\\n",
       "\t83 & 52.05031 & 1966    \\\\\n",
       "\t84 & 52.48186 & 1967    \\\\\n",
       "\t85 & 56.38770 & 1968    \\\\\n",
       "\t86 & 56.10259 & 1969    \\\\\n",
       "\t⋮ & ⋮ & ⋮\\\\\n",
       "\t104 & 61.86920 & 1987    \\\\\n",
       "\t105 & 61.05390 & 1988    \\\\\n",
       "\t106 & 59.43898 & 1989    \\\\\n",
       "\t107 & 56.91495 & 1990    \\\\\n",
       "\t108 & 57.82830 & 1991    \\\\\n",
       "\t109 & 57.57734 & 1992    \\\\\n",
       "\t110 & 56.34543 & 1993    \\\\\n",
       "\t111 & 56.31242 & 1994    \\\\\n",
       "\t112 & 56.09262 & 1995    \\\\\n",
       "\t113 & 55.70441 & 1996    \\\\\n",
       "\t114 & 54.02251 & 1997    \\\\\n",
       "\t115 & 55.54887 & 1998    \\\\\n",
       "\t116 & 54.95757 & 1999    \\\\\n",
       "\t117 & 56.50677 & 2000    \\\\\n",
       "\t118 & 54.43055 & 2001    \\\\\n",
       "\t119 & 53.38782 & 2002    \\\\\n",
       "\t120 & 54.22617 & 2003    \\\\\n",
       "\t121 & 54.40710 & 2004    \\\\\n",
       "\t122 & 51.29821 & 2005    \\\\\n",
       "\t123 & 48.63466 & 2006    \\\\\n",
       "\t124 & 46.76012 & 2007    \\\\\n",
       "\t125 & 44.21039 & 2008    \\\\\n",
       "\t126 & 41.90973 & 2009    \\\\\n",
       "\t127 & 40.16238 & 2010    \\\\\n",
       "\t128 & 38.81602 & 2011    \\\\\n",
       "\t129 & 37.54565 & 2012    \\\\\n",
       "\t130 & 36.94529 & 2013    \\\\\n",
       "\t131 & 37.35079 & 2014    \\\\\n",
       "\t132 & 38.74563 & 2015    \\\\\n",
       "\t133 & 38.39977 & 2016    \\\\\n",
       "\\end{tabular}\n"
      ],
      "text/markdown": [
       "\n",
       "| <!--/--> | runtimeminutes | startyear | \n",
       "|---|---|---|---|---|---|---|---|---|---|---|---|---|---|---|---|---|---|---|---|---|---|---|---|---|---|---|---|---|---|---|---|---|---|---|---|---|---|---|---|---|---|---|---|---|---|---|---|---|---|---|---|---|---|---|---|---|---|---|---|---|\n",
       "| 57 | 61.09644 | 1940     | \n",
       "| 58 | 57.72449 | 1941     | \n",
       "| 59 | 57.48081 | 1942     | \n",
       "| 60 | 59.36931 | 1943     | \n",
       "| 61 | 56.20810 | 1944     | \n",
       "| 62 | 54.21501 | 1945     | \n",
       "| 63 | 55.94784 | 1946     | \n",
       "| 64 | 59.17606 | 1947     | \n",
       "| 65 | 57.52189 | 1948     | \n",
       "| 66 | 56.56834 | 1949     | \n",
       "| 67 | 56.46205 | 1950     | \n",
       "| 68 | 54.01933 | 1951     | \n",
       "| 69 | 52.11005 | 1952     | \n",
       "| 70 | 49.62463 | 1953     | \n",
       "| 71 | 51.03129 | 1954     | \n",
       "| 72 | 48.87632 | 1955     | \n",
       "| 73 | 49.58294 | 1956     | \n",
       "| 74 | 48.39597 | 1957     | \n",
       "| 75 | 48.35943 | 1958     | \n",
       "| 76 | 48.62121 | 1959     | \n",
       "| 77 | 48.83042 | 1960     | \n",
       "| 78 | 50.05591 | 1961     | \n",
       "| 79 | 53.80506 | 1962     | \n",
       "| 80 | 52.50573 | 1963     | \n",
       "| 81 | 52.99213 | 1964     | \n",
       "| 82 | 52.59998 | 1965     | \n",
       "| 83 | 52.05031 | 1966     | \n",
       "| 84 | 52.48186 | 1967     | \n",
       "| 85 | 56.38770 | 1968     | \n",
       "| 86 | 56.10259 | 1969     | \n",
       "| ⋮ | ⋮ | ⋮ | \n",
       "| 104 | 61.86920 | 1987     | \n",
       "| 105 | 61.05390 | 1988     | \n",
       "| 106 | 59.43898 | 1989     | \n",
       "| 107 | 56.91495 | 1990     | \n",
       "| 108 | 57.82830 | 1991     | \n",
       "| 109 | 57.57734 | 1992     | \n",
       "| 110 | 56.34543 | 1993     | \n",
       "| 111 | 56.31242 | 1994     | \n",
       "| 112 | 56.09262 | 1995     | \n",
       "| 113 | 55.70441 | 1996     | \n",
       "| 114 | 54.02251 | 1997     | \n",
       "| 115 | 55.54887 | 1998     | \n",
       "| 116 | 54.95757 | 1999     | \n",
       "| 117 | 56.50677 | 2000     | \n",
       "| 118 | 54.43055 | 2001     | \n",
       "| 119 | 53.38782 | 2002     | \n",
       "| 120 | 54.22617 | 2003     | \n",
       "| 121 | 54.40710 | 2004     | \n",
       "| 122 | 51.29821 | 2005     | \n",
       "| 123 | 48.63466 | 2006     | \n",
       "| 124 | 46.76012 | 2007     | \n",
       "| 125 | 44.21039 | 2008     | \n",
       "| 126 | 41.90973 | 2009     | \n",
       "| 127 | 40.16238 | 2010     | \n",
       "| 128 | 38.81602 | 2011     | \n",
       "| 129 | 37.54565 | 2012     | \n",
       "| 130 | 36.94529 | 2013     | \n",
       "| 131 | 37.35079 | 2014     | \n",
       "| 132 | 38.74563 | 2015     | \n",
       "| 133 | 38.39977 | 2016     | \n",
       "\n",
       "\n"
      ],
      "text/plain": [
       "    runtimeminutes startyear\n",
       "57  61.09644       1940     \n",
       "58  57.72449       1941     \n",
       "59  57.48081       1942     \n",
       "60  59.36931       1943     \n",
       "61  56.20810       1944     \n",
       "62  54.21501       1945     \n",
       "63  55.94784       1946     \n",
       "64  59.17606       1947     \n",
       "65  57.52189       1948     \n",
       "66  56.56834       1949     \n",
       "67  56.46205       1950     \n",
       "68  54.01933       1951     \n",
       "69  52.11005       1952     \n",
       "70  49.62463       1953     \n",
       "71  51.03129       1954     \n",
       "72  48.87632       1955     \n",
       "73  49.58294       1956     \n",
       "74  48.39597       1957     \n",
       "75  48.35943       1958     \n",
       "76  48.62121       1959     \n",
       "77  48.83042       1960     \n",
       "78  50.05591       1961     \n",
       "79  53.80506       1962     \n",
       "80  52.50573       1963     \n",
       "81  52.99213       1964     \n",
       "82  52.59998       1965     \n",
       "83  52.05031       1966     \n",
       "84  52.48186       1967     \n",
       "85  56.38770       1968     \n",
       "86  56.10259       1969     \n",
       "⋮   ⋮              ⋮        \n",
       "104 61.86920       1987     \n",
       "105 61.05390       1988     \n",
       "106 59.43898       1989     \n",
       "107 56.91495       1990     \n",
       "108 57.82830       1991     \n",
       "109 57.57734       1992     \n",
       "110 56.34543       1993     \n",
       "111 56.31242       1994     \n",
       "112 56.09262       1995     \n",
       "113 55.70441       1996     \n",
       "114 54.02251       1997     \n",
       "115 55.54887       1998     \n",
       "116 54.95757       1999     \n",
       "117 56.50677       2000     \n",
       "118 54.43055       2001     \n",
       "119 53.38782       2002     \n",
       "120 54.22617       2003     \n",
       "121 54.40710       2004     \n",
       "122 51.29821       2005     \n",
       "123 48.63466       2006     \n",
       "124 46.76012       2007     \n",
       "125 44.21039       2008     \n",
       "126 41.90973       2009     \n",
       "127 40.16238       2010     \n",
       "128 38.81602       2011     \n",
       "129 37.54565       2012     \n",
       "130 36.94529       2013     \n",
       "131 37.35079       2014     \n",
       "132 38.74563       2015     \n",
       "133 38.39977       2016     "
      ]
     },
     "metadata": {},
     "output_type": "display_data"
    }
   ],
   "source": [
    "av_runtime_subset <- av_runtime[av_runtime$startyear %in% 1940:2016,]\n",
    "\n",
    "av_runtime_subset"
   ]
  },
  {
   "cell_type": "markdown",
   "metadata": {},
   "source": [
    "Check whether any NA's exist"
   ]
  },
  {
   "cell_type": "code",
   "execution_count": 164,
   "metadata": {},
   "outputs": [
    {
     "data": {
      "text/html": [],
      "text/latex": [],
      "text/markdown": [],
      "text/plain": [
       "integer(0)"
      ]
     },
     "metadata": {},
     "output_type": "display_data"
    }
   ],
   "source": [
    "which(is.na(av_runtime_subset[[1]]))"
   ]
  },
  {
   "cell_type": "markdown",
   "metadata": {},
   "source": [
    "Let's plot the data"
   ]
  },
  {
   "cell_type": "code",
   "execution_count": 166,
   "metadata": {},
   "outputs": [
    {
     "data": {
      "text/plain": [
       "Time Series:\n",
       "Start = 1940 \n",
       "End = 2016 \n",
       "Frequency = 1 \n",
       " [1] 61.09644 57.72449 57.48081 59.36931 56.20810 54.21501 55.94784 59.17606\n",
       " [9] 57.52189 56.56834 56.46205 54.01933 52.11005 49.62463 51.03129 48.87632\n",
       "[17] 49.58294 48.39597 48.35943 48.62121 48.83042 50.05591 53.80506 52.50573\n",
       "[25] 52.99213 52.59998 52.05031 52.48186 56.38770 56.10259 59.82178 60.26476\n",
       "[33] 61.36278 60.89975 60.52990 59.52395 61.76300 64.26495 63.94847 63.89022\n",
       "[41] 64.12069 64.82314 64.88972 63.27469 61.43913 60.60667 60.98615 61.86920\n",
       "[49] 61.05390 59.43898 56.91495 57.82830 57.57734 56.34543 56.31242 56.09262\n",
       "[57] 55.70441 54.02251 55.54887 54.95757 56.50677 54.43055 53.38782 54.22617\n",
       "[65] 54.40710 51.29821 48.63466 46.76012 44.21039 41.90973 40.16238 38.81602\n",
       "[73] 37.54565 36.94529 37.35079 38.74563 38.39977"
      ]
     },
     "metadata": {},
     "output_type": "display_data"
    }
   ],
   "source": [
    "runtime_ts <- ts(av_runtime_subset[[1]],\n",
    "                 start = av_runtime_subset[1,2],\n",
    "                 end = av_runtime_subset[nrow(av_runtime_subset),2])\n",
    "\n",
    "runtime_ts"
   ]
  },
  {
   "cell_type": "code",
   "execution_count": 167,
   "metadata": {},
   "outputs": [
    {
     "data": {
      "image/png": "[encoded data removed]",
      "text/plain": [
       "plot without title"
      ]
     },
     "metadata": {},
     "output_type": "display_data"
    }
   ],
   "source": [
    "plot(runtime_ts)"
   ]
  },
  {
   "cell_type": "markdown",
   "metadata": {},
   "source": [
    "Well that data may have many different types of titles including shorts, etc\n",
    "\n",
    "Let's first subset for movies"
   ]
  },
  {
   "cell_type": "code",
   "execution_count": 172,
   "metadata": {},
   "outputs": [],
   "source": [
    "query = \"SELECT avg(runtimeminutes) runtimeminutes, startyear \n",
    "            FROM title_basics\n",
    "            WHERE titletype = 'movie'\n",
    "            GROUP BY startyear\n",
    "            ORDER BY startyear;\"\n",
    "\n",
    "av_runtime <- sqldf(query)"
   ]
  },
  {
   "cell_type": "code",
   "execution_count": 173,
   "metadata": {},
   "outputs": [
    {
     "data": {
      "text/html": [
       "<table>\n",
       "<thead><tr><th scope=col>runtimeminutes</th><th scope=col>startyear</th></tr></thead>\n",
       "<tbody>\n",
       "\t<tr><td> 45.00000</td><td>1894     </td></tr>\n",
       "\t<tr><td> 20.00000</td><td>1897     </td></tr>\n",
       "\t<tr><td>       NA</td><td>1898     </td></tr>\n",
       "\t<tr><td>135.00000</td><td>1899     </td></tr>\n",
       "\t<tr><td> 66.00000</td><td>1900     </td></tr>\n",
       "\t<tr><td>  9.00000</td><td>1901     </td></tr>\n",
       "\t<tr><td>       NA</td><td>1902     </td></tr>\n",
       "\t<tr><td>       NA</td><td>1903     </td></tr>\n",
       "\t<tr><td> 68.00000</td><td>1904     </td></tr>\n",
       "\t<tr><td>100.00000</td><td>1905     </td></tr>\n",
       "\t<tr><td> 70.00000</td><td>1906     </td></tr>\n",
       "\t<tr><td> 59.00000</td><td>1907     </td></tr>\n",
       "\t<tr><td> 90.00000</td><td>1908     </td></tr>\n",
       "\t<tr><td> 71.66667</td><td>1909     </td></tr>\n",
       "\t<tr><td> 73.50000</td><td>1910     </td></tr>\n",
       "\t<tr><td> 56.86364</td><td>1911     </td></tr>\n",
       "\t<tr><td> 56.88571</td><td>1912     </td></tr>\n",
       "\t<tr><td> 73.92308</td><td>1913     </td></tr>\n",
       "\t<tr><td> 92.70297</td><td>1914     </td></tr>\n",
       "\t<tr><td> 66.83799</td><td>1915     </td></tr>\n",
       "\t<tr><td> 59.57412</td><td>1916     </td></tr>\n",
       "\t<tr><td> 64.47089</td><td>1917     </td></tr>\n",
       "\t<tr><td> 63.78325</td><td>1918     </td></tr>\n",
       "\t<tr><td> 67.30695</td><td>1919     </td></tr>\n",
       "\t<tr><td> 64.94608</td><td>1920     </td></tr>\n",
       "\t<tr><td> 68.16625</td><td>1921     </td></tr>\n",
       "\t<tr><td> 68.00941</td><td>1922     </td></tr>\n",
       "\t<tr><td> 72.62044</td><td>1923     </td></tr>\n",
       "\t<tr><td> 72.31263</td><td>1924     </td></tr>\n",
       "\t<tr><td> 72.51923</td><td>1925     </td></tr>\n",
       "\t<tr><td>⋮</td><td>⋮</td></tr>\n",
       "\t<tr><td> 90.90203</td><td>1999     </td></tr>\n",
       "\t<tr><td> 90.14773</td><td>2000     </td></tr>\n",
       "\t<tr><td> 89.95131</td><td>2001     </td></tr>\n",
       "\t<tr><td> 90.72581</td><td>2002     </td></tr>\n",
       "\t<tr><td> 89.47469</td><td>2003     </td></tr>\n",
       "\t<tr><td> 91.14913</td><td>2004     </td></tr>\n",
       "\t<tr><td> 88.40034</td><td>2005     </td></tr>\n",
       "\t<tr><td> 88.63699</td><td>2006     </td></tr>\n",
       "\t<tr><td> 88.33691</td><td>2007     </td></tr>\n",
       "\t<tr><td> 87.35872</td><td>2008     </td></tr>\n",
       "\t<tr><td> 85.57049</td><td>2009     </td></tr>\n",
       "\t<tr><td> 85.09991</td><td>2010     </td></tr>\n",
       "\t<tr><td> 86.19690</td><td>2011     </td></tr>\n",
       "\t<tr><td> 84.49878</td><td>2012     </td></tr>\n",
       "\t<tr><td> 84.67783</td><td>2013     </td></tr>\n",
       "\t<tr><td> 84.06408</td><td>2014     </td></tr>\n",
       "\t<tr><td> 85.16231</td><td>2015     </td></tr>\n",
       "\t<tr><td> 84.93204</td><td>2016     </td></tr>\n",
       "\t<tr><td> 83.32329</td><td>2017     </td></tr>\n",
       "\t<tr><td> 95.00987</td><td>2018     </td></tr>\n",
       "\t<tr><td> 95.93182</td><td>2019     </td></tr>\n",
       "\t<tr><td>107.45455</td><td>2020     </td></tr>\n",
       "\t<tr><td>120.00000</td><td>2021     </td></tr>\n",
       "\t<tr><td>       NA</td><td>2022     </td></tr>\n",
       "\t<tr><td>       NA</td><td>2023     </td></tr>\n",
       "\t<tr><td>159.00000</td><td>2024     </td></tr>\n",
       "\t<tr><td>       NA</td><td>2025     </td></tr>\n",
       "\t<tr><td>       NA</td><td>2026     </td></tr>\n",
       "\t<tr><td>       NA</td><td>2115     </td></tr>\n",
       "\t<tr><td> 92.95896</td><td>  NA     </td></tr>\n",
       "</tbody>\n",
       "</table>\n"
      ],
      "text/latex": [
       "\\begin{tabular}{r|ll}\n",
       " runtimeminutes & startyear\\\\\n",
       "\\hline\n",
       "\t  45.00000 & 1894     \\\\\n",
       "\t  20.00000 & 1897     \\\\\n",
       "\t        NA & 1898     \\\\\n",
       "\t 135.00000 & 1899     \\\\\n",
       "\t  66.00000 & 1900     \\\\\n",
       "\t   9.00000 & 1901     \\\\\n",
       "\t        NA & 1902     \\\\\n",
       "\t        NA & 1903     \\\\\n",
       "\t  68.00000 & 1904     \\\\\n",
       "\t 100.00000 & 1905     \\\\\n",
       "\t  70.00000 & 1906     \\\\\n",
       "\t  59.00000 & 1907     \\\\\n",
       "\t  90.00000 & 1908     \\\\\n",
       "\t  71.66667 & 1909     \\\\\n",
       "\t  73.50000 & 1910     \\\\\n",
       "\t  56.86364 & 1911     \\\\\n",
       "\t  56.88571 & 1912     \\\\\n",
       "\t  73.92308 & 1913     \\\\\n",
       "\t  92.70297 & 1914     \\\\\n",
       "\t  66.83799 & 1915     \\\\\n",
       "\t  59.57412 & 1916     \\\\\n",
       "\t  64.47089 & 1917     \\\\\n",
       "\t  63.78325 & 1918     \\\\\n",
       "\t  67.30695 & 1919     \\\\\n",
       "\t  64.94608 & 1920     \\\\\n",
       "\t  68.16625 & 1921     \\\\\n",
       "\t  68.00941 & 1922     \\\\\n",
       "\t  72.62044 & 1923     \\\\\n",
       "\t  72.31263 & 1924     \\\\\n",
       "\t  72.51923 & 1925     \\\\\n",
       "\t ⋮ & ⋮\\\\\n",
       "\t  90.90203 & 1999     \\\\\n",
       "\t  90.14773 & 2000     \\\\\n",
       "\t  89.95131 & 2001     \\\\\n",
       "\t  90.72581 & 2002     \\\\\n",
       "\t  89.47469 & 2003     \\\\\n",
       "\t  91.14913 & 2004     \\\\\n",
       "\t  88.40034 & 2005     \\\\\n",
       "\t  88.63699 & 2006     \\\\\n",
       "\t  88.33691 & 2007     \\\\\n",
       "\t  87.35872 & 2008     \\\\\n",
       "\t  85.57049 & 2009     \\\\\n",
       "\t  85.09991 & 2010     \\\\\n",
       "\t  86.19690 & 2011     \\\\\n",
       "\t  84.49878 & 2012     \\\\\n",
       "\t  84.67783 & 2013     \\\\\n",
       "\t  84.06408 & 2014     \\\\\n",
       "\t  85.16231 & 2015     \\\\\n",
       "\t  84.93204 & 2016     \\\\\n",
       "\t  83.32329 & 2017     \\\\\n",
       "\t  95.00987 & 2018     \\\\\n",
       "\t  95.93182 & 2019     \\\\\n",
       "\t 107.45455 & 2020     \\\\\n",
       "\t 120.00000 & 2021     \\\\\n",
       "\t        NA & 2022     \\\\\n",
       "\t        NA & 2023     \\\\\n",
       "\t 159.00000 & 2024     \\\\\n",
       "\t        NA & 2025     \\\\\n",
       "\t        NA & 2026     \\\\\n",
       "\t        NA & 2115     \\\\\n",
       "\t  92.95896 &   NA     \\\\\n",
       "\\end{tabular}\n"
      ],
      "text/markdown": [
       "\n",
       "runtimeminutes | startyear | \n",
       "|---|---|---|---|---|---|---|---|---|---|---|---|---|---|---|---|---|---|---|---|---|---|---|---|---|---|---|---|---|---|---|---|---|---|---|---|---|---|---|---|---|---|---|---|---|---|---|---|---|---|---|---|---|---|---|---|---|---|---|---|---|\n",
       "|  45.00000 | 1894      | \n",
       "|  20.00000 | 1897      | \n",
       "|        NA | 1898      | \n",
       "| 135.00000 | 1899      | \n",
       "|  66.00000 | 1900      | \n",
       "|   9.00000 | 1901      | \n",
       "|        NA | 1902      | \n",
       "|        NA | 1903      | \n",
       "|  68.00000 | 1904      | \n",
       "| 100.00000 | 1905      | \n",
       "|  70.00000 | 1906      | \n",
       "|  59.00000 | 1907      | \n",
       "|  90.00000 | 1908      | \n",
       "|  71.66667 | 1909      | \n",
       "|  73.50000 | 1910      | \n",
       "|  56.86364 | 1911      | \n",
       "|  56.88571 | 1912      | \n",
       "|  73.92308 | 1913      | \n",
       "|  92.70297 | 1914      | \n",
       "|  66.83799 | 1915      | \n",
       "|  59.57412 | 1916      | \n",
       "|  64.47089 | 1917      | \n",
       "|  63.78325 | 1918      | \n",
       "|  67.30695 | 1919      | \n",
       "|  64.94608 | 1920      | \n",
       "|  68.16625 | 1921      | \n",
       "|  68.00941 | 1922      | \n",
       "|  72.62044 | 1923      | \n",
       "|  72.31263 | 1924      | \n",
       "|  72.51923 | 1925      | \n",
       "| ⋮ | ⋮ | \n",
       "|  90.90203 | 1999      | \n",
       "|  90.14773 | 2000      | \n",
       "|  89.95131 | 2001      | \n",
       "|  90.72581 | 2002      | \n",
       "|  89.47469 | 2003      | \n",
       "|  91.14913 | 2004      | \n",
       "|  88.40034 | 2005      | \n",
       "|  88.63699 | 2006      | \n",
       "|  88.33691 | 2007      | \n",
       "|  87.35872 | 2008      | \n",
       "|  85.57049 | 2009      | \n",
       "|  85.09991 | 2010      | \n",
       "|  86.19690 | 2011      | \n",
       "|  84.49878 | 2012      | \n",
       "|  84.67783 | 2013      | \n",
       "|  84.06408 | 2014      | \n",
       "|  85.16231 | 2015      | \n",
       "|  84.93204 | 2016      | \n",
       "|  83.32329 | 2017      | \n",
       "|  95.00987 | 2018      | \n",
       "|  95.93182 | 2019      | \n",
       "| 107.45455 | 2020      | \n",
       "| 120.00000 | 2021      | \n",
       "|        NA | 2022      | \n",
       "|        NA | 2023      | \n",
       "| 159.00000 | 2024      | \n",
       "|        NA | 2025      | \n",
       "|        NA | 2026      | \n",
       "|        NA | 2115      | \n",
       "|  92.95896 |   NA      | \n",
       "\n",
       "\n"
      ],
      "text/plain": [
       "    runtimeminutes startyear\n",
       "1    45.00000      1894     \n",
       "2    20.00000      1897     \n",
       "3          NA      1898     \n",
       "4   135.00000      1899     \n",
       "5    66.00000      1900     \n",
       "6     9.00000      1901     \n",
       "7          NA      1902     \n",
       "8          NA      1903     \n",
       "9    68.00000      1904     \n",
       "10  100.00000      1905     \n",
       "11   70.00000      1906     \n",
       "12   59.00000      1907     \n",
       "13   90.00000      1908     \n",
       "14   71.66667      1909     \n",
       "15   73.50000      1910     \n",
       "16   56.86364      1911     \n",
       "17   56.88571      1912     \n",
       "18   73.92308      1913     \n",
       "19   92.70297      1914     \n",
       "20   66.83799      1915     \n",
       "21   59.57412      1916     \n",
       "22   64.47089      1917     \n",
       "23   63.78325      1918     \n",
       "24   67.30695      1919     \n",
       "25   64.94608      1920     \n",
       "26   68.16625      1921     \n",
       "27   68.00941      1922     \n",
       "28   72.62044      1923     \n",
       "29   72.31263      1924     \n",
       "30   72.51923      1925     \n",
       "⋮   ⋮              ⋮        \n",
       "104  90.90203      1999     \n",
       "105  90.14773      2000     \n",
       "106  89.95131      2001     \n",
       "107  90.72581      2002     \n",
       "108  89.47469      2003     \n",
       "109  91.14913      2004     \n",
       "110  88.40034      2005     \n",
       "111  88.63699      2006     \n",
       "112  88.33691      2007     \n",
       "113  87.35872      2008     \n",
       "114  85.57049      2009     \n",
       "115  85.09991      2010     \n",
       "116  86.19690      2011     \n",
       "117  84.49878      2012     \n",
       "118  84.67783      2013     \n",
       "119  84.06408      2014     \n",
       "120  85.16231      2015     \n",
       "121  84.93204      2016     \n",
       "122  83.32329      2017     \n",
       "123  95.00987      2018     \n",
       "124  95.93182      2019     \n",
       "125 107.45455      2020     \n",
       "126 120.00000      2021     \n",
       "127        NA      2022     \n",
       "128        NA      2023     \n",
       "129 159.00000      2024     \n",
       "130        NA      2025     \n",
       "131        NA      2026     \n",
       "132        NA      2115     \n",
       "133  92.95896        NA     "
      ]
     },
     "metadata": {},
     "output_type": "display_data"
    }
   ],
   "source": [
    "av_runtime"
   ]
  },
  {
   "cell_type": "code",
   "execution_count": 175,
   "metadata": {},
   "outputs": [
    {
     "data": {
      "text/html": [
       "<table>\n",
       "<thead><tr><th></th><th scope=col>runtimeminutes</th><th scope=col>startyear</th></tr></thead>\n",
       "<tbody>\n",
       "\t<tr><th scope=row>45</th><td>84.25992</td><td>1940    </td></tr>\n",
       "\t<tr><th scope=row>46</th><td>86.25596</td><td>1941    </td></tr>\n",
       "\t<tr><th scope=row>47</th><td>85.38028</td><td>1942    </td></tr>\n",
       "\t<tr><th scope=row>48</th><td>84.55940</td><td>1943    </td></tr>\n",
       "\t<tr><th scope=row>49</th><td>84.80455</td><td>1944    </td></tr>\n",
       "\t<tr><th scope=row>50</th><td>84.85678</td><td>1945    </td></tr>\n",
       "\t<tr><th scope=row>51</th><td>85.32957</td><td>1946    </td></tr>\n",
       "\t<tr><th scope=row>52</th><td>86.37474</td><td>1947    </td></tr>\n",
       "\t<tr><th scope=row>53</th><td>86.72104</td><td>1948    </td></tr>\n",
       "\t<tr><th scope=row>54</th><td>88.14210</td><td>1949    </td></tr>\n",
       "\t<tr><th scope=row>55</th><td>87.59634</td><td>1950    </td></tr>\n",
       "\t<tr><th scope=row>56</th><td>89.07342</td><td>1951    </td></tr>\n",
       "\t<tr><th scope=row>57</th><td>88.67294</td><td>1952    </td></tr>\n",
       "\t<tr><th scope=row>58</th><td>89.38712</td><td>1953    </td></tr>\n",
       "\t<tr><th scope=row>59</th><td>92.05054</td><td>1954    </td></tr>\n",
       "\t<tr><th scope=row>60</th><td>92.07099</td><td>1955    </td></tr>\n",
       "\t<tr><th scope=row>61</th><td>91.30238</td><td>1956    </td></tr>\n",
       "\t<tr><th scope=row>62</th><td>90.12435</td><td>1957    </td></tr>\n",
       "\t<tr><th scope=row>63</th><td>90.59342</td><td>1958    </td></tr>\n",
       "\t<tr><th scope=row>64</th><td>91.75738</td><td>1959    </td></tr>\n",
       "\t<tr><th scope=row>65</th><td>90.30726</td><td>1960    </td></tr>\n",
       "\t<tr><th scope=row>66</th><td>89.30161</td><td>1961    </td></tr>\n",
       "\t<tr><th scope=row>67</th><td>90.99763</td><td>1962    </td></tr>\n",
       "\t<tr><th scope=row>68</th><td>90.17818</td><td>1963    </td></tr>\n",
       "\t<tr><th scope=row>69</th><td>91.18553</td><td>1964    </td></tr>\n",
       "\t<tr><th scope=row>70</th><td>93.31792</td><td>1965    </td></tr>\n",
       "\t<tr><th scope=row>71</th><td>92.69657</td><td>1966    </td></tr>\n",
       "\t<tr><th scope=row>72</th><td>95.31474</td><td>1967    </td></tr>\n",
       "\t<tr><th scope=row>73</th><td>94.71499</td><td>1968    </td></tr>\n",
       "\t<tr><th scope=row>74</th><td>91.53991</td><td>1969    </td></tr>\n",
       "\t<tr><th scope=row>⋮</th><td>⋮</td><td>⋮</td></tr>\n",
       "\t<tr><th scope=row>92</th><td>94.04279</td><td>1987    </td></tr>\n",
       "\t<tr><th scope=row>93</th><td>92.00481</td><td>1988    </td></tr>\n",
       "\t<tr><th scope=row>94</th><td>92.52280</td><td>1989    </td></tr>\n",
       "\t<tr><th scope=row>95</th><td>91.37899</td><td>1990    </td></tr>\n",
       "\t<tr><th scope=row>96</th><td>91.89749</td><td>1991    </td></tr>\n",
       "\t<tr><th scope=row>97</th><td>91.65210</td><td>1992    </td></tr>\n",
       "\t<tr><th scope=row>98</th><td>91.53488</td><td>1993    </td></tr>\n",
       "\t<tr><th scope=row>99</th><td>90.77124</td><td>1994    </td></tr>\n",
       "\t<tr><th scope=row>100</th><td>90.53604</td><td>1995    </td></tr>\n",
       "\t<tr><th scope=row>101</th><td>91.11044</td><td>1996    </td></tr>\n",
       "\t<tr><th scope=row>102</th><td>90.26044</td><td>1997    </td></tr>\n",
       "\t<tr><th scope=row>103</th><td>89.35724</td><td>1998    </td></tr>\n",
       "\t<tr><th scope=row>104</th><td>90.90203</td><td>1999    </td></tr>\n",
       "\t<tr><th scope=row>105</th><td>90.14773</td><td>2000    </td></tr>\n",
       "\t<tr><th scope=row>106</th><td>89.95131</td><td>2001    </td></tr>\n",
       "\t<tr><th scope=row>107</th><td>90.72581</td><td>2002    </td></tr>\n",
       "\t<tr><th scope=row>108</th><td>89.47469</td><td>2003    </td></tr>\n",
       "\t<tr><th scope=row>109</th><td>91.14913</td><td>2004    </td></tr>\n",
       "\t<tr><th scope=row>110</th><td>88.40034</td><td>2005    </td></tr>\n",
       "\t<tr><th scope=row>111</th><td>88.63699</td><td>2006    </td></tr>\n",
       "\t<tr><th scope=row>112</th><td>88.33691</td><td>2007    </td></tr>\n",
       "\t<tr><th scope=row>113</th><td>87.35872</td><td>2008    </td></tr>\n",
       "\t<tr><th scope=row>114</th><td>85.57049</td><td>2009    </td></tr>\n",
       "\t<tr><th scope=row>115</th><td>85.09991</td><td>2010    </td></tr>\n",
       "\t<tr><th scope=row>116</th><td>86.19690</td><td>2011    </td></tr>\n",
       "\t<tr><th scope=row>117</th><td>84.49878</td><td>2012    </td></tr>\n",
       "\t<tr><th scope=row>118</th><td>84.67783</td><td>2013    </td></tr>\n",
       "\t<tr><th scope=row>119</th><td>84.06408</td><td>2014    </td></tr>\n",
       "\t<tr><th scope=row>120</th><td>85.16231</td><td>2015    </td></tr>\n",
       "\t<tr><th scope=row>121</th><td>84.93204</td><td>2016    </td></tr>\n",
       "</tbody>\n",
       "</table>\n"
      ],
      "text/latex": [
       "\\begin{tabular}{r|ll}\n",
       "  & runtimeminutes & startyear\\\\\n",
       "\\hline\n",
       "\t45 & 84.25992 & 1940    \\\\\n",
       "\t46 & 86.25596 & 1941    \\\\\n",
       "\t47 & 85.38028 & 1942    \\\\\n",
       "\t48 & 84.55940 & 1943    \\\\\n",
       "\t49 & 84.80455 & 1944    \\\\\n",
       "\t50 & 84.85678 & 1945    \\\\\n",
       "\t51 & 85.32957 & 1946    \\\\\n",
       "\t52 & 86.37474 & 1947    \\\\\n",
       "\t53 & 86.72104 & 1948    \\\\\n",
       "\t54 & 88.14210 & 1949    \\\\\n",
       "\t55 & 87.59634 & 1950    \\\\\n",
       "\t56 & 89.07342 & 1951    \\\\\n",
       "\t57 & 88.67294 & 1952    \\\\\n",
       "\t58 & 89.38712 & 1953    \\\\\n",
       "\t59 & 92.05054 & 1954    \\\\\n",
       "\t60 & 92.07099 & 1955    \\\\\n",
       "\t61 & 91.30238 & 1956    \\\\\n",
       "\t62 & 90.12435 & 1957    \\\\\n",
       "\t63 & 90.59342 & 1958    \\\\\n",
       "\t64 & 91.75738 & 1959    \\\\\n",
       "\t65 & 90.30726 & 1960    \\\\\n",
       "\t66 & 89.30161 & 1961    \\\\\n",
       "\t67 & 90.99763 & 1962    \\\\\n",
       "\t68 & 90.17818 & 1963    \\\\\n",
       "\t69 & 91.18553 & 1964    \\\\\n",
       "\t70 & 93.31792 & 1965    \\\\\n",
       "\t71 & 92.69657 & 1966    \\\\\n",
       "\t72 & 95.31474 & 1967    \\\\\n",
       "\t73 & 94.71499 & 1968    \\\\\n",
       "\t74 & 91.53991 & 1969    \\\\\n",
       "\t⋮ & ⋮ & ⋮\\\\\n",
       "\t92 & 94.04279 & 1987    \\\\\n",
       "\t93 & 92.00481 & 1988    \\\\\n",
       "\t94 & 92.52280 & 1989    \\\\\n",
       "\t95 & 91.37899 & 1990    \\\\\n",
       "\t96 & 91.89749 & 1991    \\\\\n",
       "\t97 & 91.65210 & 1992    \\\\\n",
       "\t98 & 91.53488 & 1993    \\\\\n",
       "\t99 & 90.77124 & 1994    \\\\\n",
       "\t100 & 90.53604 & 1995    \\\\\n",
       "\t101 & 91.11044 & 1996    \\\\\n",
       "\t102 & 90.26044 & 1997    \\\\\n",
       "\t103 & 89.35724 & 1998    \\\\\n",
       "\t104 & 90.90203 & 1999    \\\\\n",
       "\t105 & 90.14773 & 2000    \\\\\n",
       "\t106 & 89.95131 & 2001    \\\\\n",
       "\t107 & 90.72581 & 2002    \\\\\n",
       "\t108 & 89.47469 & 2003    \\\\\n",
       "\t109 & 91.14913 & 2004    \\\\\n",
       "\t110 & 88.40034 & 2005    \\\\\n",
       "\t111 & 88.63699 & 2006    \\\\\n",
       "\t112 & 88.33691 & 2007    \\\\\n",
       "\t113 & 87.35872 & 2008    \\\\\n",
       "\t114 & 85.57049 & 2009    \\\\\n",
       "\t115 & 85.09991 & 2010    \\\\\n",
       "\t116 & 86.19690 & 2011    \\\\\n",
       "\t117 & 84.49878 & 2012    \\\\\n",
       "\t118 & 84.67783 & 2013    \\\\\n",
       "\t119 & 84.06408 & 2014    \\\\\n",
       "\t120 & 85.16231 & 2015    \\\\\n",
       "\t121 & 84.93204 & 2016    \\\\\n",
       "\\end{tabular}\n"
      ],
      "text/markdown": [
       "\n",
       "| <!--/--> | runtimeminutes | startyear | \n",
       "|---|---|---|---|---|---|---|---|---|---|---|---|---|---|---|---|---|---|---|---|---|---|---|---|---|---|---|---|---|---|---|---|---|---|---|---|---|---|---|---|---|---|---|---|---|---|---|---|---|---|---|---|---|---|---|---|---|---|---|---|---|\n",
       "| 45 | 84.25992 | 1940     | \n",
       "| 46 | 86.25596 | 1941     | \n",
       "| 47 | 85.38028 | 1942     | \n",
       "| 48 | 84.55940 | 1943     | \n",
       "| 49 | 84.80455 | 1944     | \n",
       "| 50 | 84.85678 | 1945     | \n",
       "| 51 | 85.32957 | 1946     | \n",
       "| 52 | 86.37474 | 1947     | \n",
       "| 53 | 86.72104 | 1948     | \n",
       "| 54 | 88.14210 | 1949     | \n",
       "| 55 | 87.59634 | 1950     | \n",
       "| 56 | 89.07342 | 1951     | \n",
       "| 57 | 88.67294 | 1952     | \n",
       "| 58 | 89.38712 | 1953     | \n",
       "| 59 | 92.05054 | 1954     | \n",
       "| 60 | 92.07099 | 1955     | \n",
       "| 61 | 91.30238 | 1956     | \n",
       "| 62 | 90.12435 | 1957     | \n",
       "| 63 | 90.59342 | 1958     | \n",
       "| 64 | 91.75738 | 1959     | \n",
       "| 65 | 90.30726 | 1960     | \n",
       "| 66 | 89.30161 | 1961     | \n",
       "| 67 | 90.99763 | 1962     | \n",
       "| 68 | 90.17818 | 1963     | \n",
       "| 69 | 91.18553 | 1964     | \n",
       "| 70 | 93.31792 | 1965     | \n",
       "| 71 | 92.69657 | 1966     | \n",
       "| 72 | 95.31474 | 1967     | \n",
       "| 73 | 94.71499 | 1968     | \n",
       "| 74 | 91.53991 | 1969     | \n",
       "| ⋮ | ⋮ | ⋮ | \n",
       "| 92 | 94.04279 | 1987     | \n",
       "| 93 | 92.00481 | 1988     | \n",
       "| 94 | 92.52280 | 1989     | \n",
       "| 95 | 91.37899 | 1990     | \n",
       "| 96 | 91.89749 | 1991     | \n",
       "| 97 | 91.65210 | 1992     | \n",
       "| 98 | 91.53488 | 1993     | \n",
       "| 99 | 90.77124 | 1994     | \n",
       "| 100 | 90.53604 | 1995     | \n",
       "| 101 | 91.11044 | 1996     | \n",
       "| 102 | 90.26044 | 1997     | \n",
       "| 103 | 89.35724 | 1998     | \n",
       "| 104 | 90.90203 | 1999     | \n",
       "| 105 | 90.14773 | 2000     | \n",
       "| 106 | 89.95131 | 2001     | \n",
       "| 107 | 90.72581 | 2002     | \n",
       "| 108 | 89.47469 | 2003     | \n",
       "| 109 | 91.14913 | 2004     | \n",
       "| 110 | 88.40034 | 2005     | \n",
       "| 111 | 88.63699 | 2006     | \n",
       "| 112 | 88.33691 | 2007     | \n",
       "| 113 | 87.35872 | 2008     | \n",
       "| 114 | 85.57049 | 2009     | \n",
       "| 115 | 85.09991 | 2010     | \n",
       "| 116 | 86.19690 | 2011     | \n",
       "| 117 | 84.49878 | 2012     | \n",
       "| 118 | 84.67783 | 2013     | \n",
       "| 119 | 84.06408 | 2014     | \n",
       "| 120 | 85.16231 | 2015     | \n",
       "| 121 | 84.93204 | 2016     | \n",
       "\n",
       "\n"
      ],
      "text/plain": [
       "    runtimeminutes startyear\n",
       "45  84.25992       1940     \n",
       "46  86.25596       1941     \n",
       "47  85.38028       1942     \n",
       "48  84.55940       1943     \n",
       "49  84.80455       1944     \n",
       "50  84.85678       1945     \n",
       "51  85.32957       1946     \n",
       "52  86.37474       1947     \n",
       "53  86.72104       1948     \n",
       "54  88.14210       1949     \n",
       "55  87.59634       1950     \n",
       "56  89.07342       1951     \n",
       "57  88.67294       1952     \n",
       "58  89.38712       1953     \n",
       "59  92.05054       1954     \n",
       "60  92.07099       1955     \n",
       "61  91.30238       1956     \n",
       "62  90.12435       1957     \n",
       "63  90.59342       1958     \n",
       "64  91.75738       1959     \n",
       "65  90.30726       1960     \n",
       "66  89.30161       1961     \n",
       "67  90.99763       1962     \n",
       "68  90.17818       1963     \n",
       "69  91.18553       1964     \n",
       "70  93.31792       1965     \n",
       "71  92.69657       1966     \n",
       "72  95.31474       1967     \n",
       "73  94.71499       1968     \n",
       "74  91.53991       1969     \n",
       "⋮   ⋮              ⋮        \n",
       "92  94.04279       1987     \n",
       "93  92.00481       1988     \n",
       "94  92.52280       1989     \n",
       "95  91.37899       1990     \n",
       "96  91.89749       1991     \n",
       "97  91.65210       1992     \n",
       "98  91.53488       1993     \n",
       "99  90.77124       1994     \n",
       "100 90.53604       1995     \n",
       "101 91.11044       1996     \n",
       "102 90.26044       1997     \n",
       "103 89.35724       1998     \n",
       "104 90.90203       1999     \n",
       "105 90.14773       2000     \n",
       "106 89.95131       2001     \n",
       "107 90.72581       2002     \n",
       "108 89.47469       2003     \n",
       "109 91.14913       2004     \n",
       "110 88.40034       2005     \n",
       "111 88.63699       2006     \n",
       "112 88.33691       2007     \n",
       "113 87.35872       2008     \n",
       "114 85.57049       2009     \n",
       "115 85.09991       2010     \n",
       "116 86.19690       2011     \n",
       "117 84.49878       2012     \n",
       "118 84.67783       2013     \n",
       "119 84.06408       2014     \n",
       "120 85.16231       2015     \n",
       "121 84.93204       2016     "
      ]
     },
     "metadata": {},
     "output_type": "display_data"
    }
   ],
   "source": [
    "av_runtime_subset <- av_runtime[av_runtime$startyear %in% 1940:2016,]\n",
    "\n",
    "av_runtime_subset"
   ]
  },
  {
   "cell_type": "code",
   "execution_count": 176,
   "metadata": {},
   "outputs": [
    {
     "data": {
      "text/plain": [
       "Time Series:\n",
       "Start = 1940 \n",
       "End = 2016 \n",
       "Frequency = 1 \n",
       " [1] 84.25992 86.25596 85.38028 84.55940 84.80455 84.85678 85.32957 86.37474\n",
       " [9] 86.72104 88.14210 87.59634 89.07342 88.67294 89.38712 92.05054 92.07099\n",
       "[17] 91.30238 90.12435 90.59342 91.75738 90.30726 89.30161 90.99763 90.17818\n",
       "[25] 91.18553 93.31792 92.69657 95.31474 94.71499 91.53991 91.70942 89.61671\n",
       "[33] 90.48318 89.86605 90.60441 90.09050 90.63739 92.32068 91.24928 90.90727\n",
       "[41] 91.45959 91.22627 91.75125 90.36928 90.63929 91.64152 90.49673 94.04279\n",
       "[49] 92.00481 92.52280 91.37899 91.89749 91.65210 91.53488 90.77124 90.53604\n",
       "[57] 91.11044 90.26044 89.35724 90.90203 90.14773 89.95131 90.72581 89.47469\n",
       "[65] 91.14913 88.40034 88.63699 88.33691 87.35872 85.57049 85.09991 86.19690\n",
       "[73] 84.49878 84.67783 84.06408 85.16231 84.93204"
      ]
     },
     "metadata": {},
     "output_type": "display_data"
    }
   ],
   "source": [
    "runtime_ts <- ts(av_runtime_subset[[1]],\n",
    "                 start = av_runtime_subset[1,2],\n",
    "                 end = av_runtime_subset[nrow(av_runtime_subset),2])\n",
    "\n",
    "runtime_ts"
   ]
  },
  {
   "cell_type": "code",
   "execution_count": 177,
   "metadata": {},
   "outputs": [
    {
     "data": {
      "image/png": "[encoded data removed]",
      "text/plain": [
       "plot without title"
      ]
     },
     "metadata": {},
     "output_type": "display_data"
    }
   ],
   "source": [
    "plot(runtime_ts)"
   ]
  },
  {
   "cell_type": "code",
   "execution_count": null,
   "metadata": {},
   "outputs": [],
   "source": []
  }
 ],
 "metadata": {
  "kernelspec": {
   "display_name": "R",
   "language": "R",
   "name": "ir"
  },
  "language_info": {
   "codemirror_mode": "r",
   "file_extension": ".r",
   "mimetype": "text/x-r-source",
   "name": "R",
   "pygments_lexer": "r",
   "version": "3.3.2"
  }
 },
 "nbformat": 4,
 "nbformat_minor": 2
}
